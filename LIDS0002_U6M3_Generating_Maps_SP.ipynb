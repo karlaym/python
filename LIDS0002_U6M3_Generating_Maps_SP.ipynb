{
 "cells": [
  {
   "cell_type": "markdown",
   "metadata": {
    "button": false,
    "deletable": true,
    "editable": true,
    "new_sheet": false,
    "run_control": {
     "read_only": false
    }
   },
   "source": [
    "<a href=\"https://cognitiveclass.ai\"><img src = \"https://ibm.box.com/shared/static/9gegpsmnsoo25ikkbl4qzlvlyjbgxs5x.png\" width = 400> </a>\n",
    "\n",
    "<h1 align=center><font size = 5>Crear mapas en Python </font></h1>"
   ]
  },
  {
   "cell_type": "markdown",
   "metadata": {
    "button": false,
    "deletable": true,
    "editable": true,
    "new_sheet": false,
    "run_control": {
     "read_only": false
    }
   },
   "source": [
    "## Introducción\n",
    "\n",
    "En este laboratorio, aprenderemos a crear mapas para distintos objetivos. Para ello, nos apartaremos de Matplotlib y trabajaremos con otra biblioteca de visualización de Python denominada **Folium**. Lo bueno de **Folium** es que se desarrolló con el único fin de visualizar datos geoespaciales. Aunque hay otras bibliotecas para visualizar datos geoespaciales, como **plotly**, es posible que tengan una restricción sobre la cantidad de llamadas a la API que pueden hacerse  en un plazo definido. **Folium**, por otro lado, es una biblioteca completamente gratuita."
   ]
  },
  {
   "cell_type": "markdown",
   "metadata": {
    "button": false,
    "deletable": true,
    "editable": true,
    "new_sheet": false,
    "run_control": {
     "read_only": false
    }
   },
   "source": [
    "## Índice \n",
    "\n",
    "<div class=\"alert alert-block alert-info\" style=\"margin-top: 20px\">\n",
    "\n",
    "1. [Explorando conjuntos de datos con *pandas*](#0)<br>\n",
    "2. [Descarga y preparación de datos](#2)<br>\n",
    "3. [Introducción a Folium](#4) <br>\n",
    "4. [Mapa con marcadores](#6) <br>\n",
    "5. [Mapas coropléticos](#8) <br>\n",
    "</div>\n",
    "<hr>"
   ]
  },
  {
   "cell_type": "markdown",
   "metadata": {
    "button": false,
    "deletable": true,
    "editable": true,
    "new_sheet": false,
    "run_control": {
     "read_only": false
    }
   },
   "source": [
    "# Explorando conjuntos de datos con *pandas* y Matplotlib<a id=\"0\"></a>\n",
    "\n",
    "Kits de herramientas: Este laboratorio se basa en gran medida en [*pandas*](http://pandas.pydata.org/) y [**Numpy**](http://www.numpy.org/) para el manejo, el análisis y la visualización de datos. La primera biblioteca de diagramación que exploraremos en este laboratorio es [**Folium**](https://github.com/python-visualization/folium/).\n",
    "\n",
    "Conjuntos de datos: \n",
    "\n",
    "1. Incidentes del departamento de policía de San Francisco para 2016 - Portal de datos públicos de San Francisco [Incidentes del departamento de policía](https://data.sfgov.org/Public-Safety/Police-Department-Incidents-Previous-Year-2016-/ritf-b9ki)     Incidentes derivados del sistema de denuncia de delitos del departamento de policía de San Francisco (SFPD). Actualización diaria, con datos para todo 2016. La dirección y la ubicación se hicieron anónimas. Para ello, se desplazaron a la mitad de una calle o a una intersección.    \n",
    "\n",
    "2. Inmigración a Canadá entre 1980 a 2013 - [Corrientes migratorias internacionales desde y hacia determinados países, revisión de 2015](http://www.un.org/en/development/desa/population/migration/data/empirical2/migrationflows.shtml)     del sitio web de Naciones Unidas. El conjunto de datos contiene datos anuales sobre las corrientes migratorias internacionales según las registraron los países de destino. Los datos presentan corrientes entrantes y salientes, según el lugar de nacimiento, la ciudadanía o el lugar de residencia anterior/posterior para extranjeros y no extranjeros. En esta lección, nos enfocaremos en los datos inmigratorios de Canadá."
   ]
  },
  {
   "cell_type": "markdown",
   "metadata": {
    "button": false,
    "deletable": true,
    "editable": true,
    "new_sheet": false,
    "run_control": {
     "read_only": false
    }
   },
   "source": [
    "# Descarga y preparación de datos <a id=\"2\"></a>"
   ]
  },
  {
   "cell_type": "markdown",
   "metadata": {
    "button": false,
    "deletable": true,
    "editable": true,
    "new_sheet": false,
    "run_control": {
     "read_only": false
    }
   },
   "source": [
    "Importar módulos primarios:"
   ]
  },
  {
   "cell_type": "code",
   "execution_count": null,
   "metadata": {
    "button": false,
    "collapsed": true,
    "deletable": true,
    "editable": true,
    "jupyter": {
     "outputs_hidden": true
    },
    "new_sheet": false,
    "run_control": {
     "read_only": false
    }
   },
   "outputs": [],
   "source": [
    "import numpy as np  # es útil para muchos cálculos científicos en Python \n",
    "import pandas as pd # biblioteca primaria de estructura de datos"
   ]
  },
  {
   "cell_type": "markdown",
   "metadata": {
    "button": false,
    "deletable": true,
    "editable": true,
    "new_sheet": false,
    "run_control": {
     "read_only": false
    }
   },
   "source": [
    "# Introducción a Folium <a id=\"4\"></a>"
   ]
  },
  {
   "cell_type": "markdown",
   "metadata": {
    "button": false,
    "deletable": true,
    "editable": true,
    "new_sheet": false,
    "run_control": {
     "read_only": false
    }
   },
   "source": [
    "Folium es una potente biblioteca de Python que nos ayuda a crear diversos tipos de mapas en Leaflet. Debido a que los resultados de Folium son interactivos, esta biblioteca es muy útil para la creación de paneles. \n",
    "\n",
    "De la página oficial de documentación de Folium:\n",
    "\n",
    "> Folium aprovecha las fortalezas de manejo de datos del ecosistema de Python y las fortalezas para la creación de mapas de la biblioteca Leaflet.js. Es posible manipular los datos en Python y, a continuación, visualizarlos en un mapa de Leaflet mediante Folium.\n",
    "\n",
    "> Gracias a Folium, es fácil visualizar los datos manipulados en Python mediante un mapa interactivo de Leaflet. Permite unir los datos a un mapa para las visualizaciones coropléticas y ejecutar visualizaciones Vincent/Vega como marcadores en el mapa.\n",
    "\n",
    "> La biblioteca cuenta con diversos conjuntos de mosaicos de OpenStreetMap, Mapbox y Stamen, y respalda conjuntos de mosaicos personalizados con claves de la API de Mapbox o Cloudmade. Folium admite superposiciones tanto de GeoJSON como de TopoJSON, además de la unión de datos a tales superposiciones para crear mapas coropléticos con esquemas de colores de ColorBrewer. "
   ]
  },
  {
   "cell_type": "markdown",
   "metadata": {
    "button": false,
    "deletable": true,
    "editable": true,
    "new_sheet": false,
    "run_control": {
     "read_only": false
    }
   },
   "source": [
    "#### Instalemos **Folium**"
   ]
  },
  {
   "cell_type": "markdown",
   "metadata": {
    "button": false,
    "deletable": true,
    "editable": true,
    "new_sheet": false,
    "run_control": {
     "read_only": false
    }
   },
   "source": [
    "**Folium** no está disponible de manera predeterminada. En primer lugar, debemos instalarlo para poder importarlo."
   ]
  },
  {
   "cell_type": "code",
   "execution_count": null,
   "metadata": {
    "button": false,
    "collapsed": false,
    "deletable": true,
    "editable": true,
    "jupyter": {
     "outputs_hidden": false
    },
    "new_sheet": false,
    "run_control": {
     "read_only": false
    }
   },
   "outputs": [],
   "source": [
    "!conda install -c conda-forge folium=0.5.0 --yes\n",
    "import folium\n",
    "\n",
    "print('¡Folium instalado e importado!')"
   ]
  },
  {
   "cell_type": "markdown",
   "metadata": {
    "button": false,
    "deletable": true,
    "editable": true,
    "new_sheet": false,
    "run_control": {
     "read_only": false
    }
   },
   "source": [
    "La generación del mapa mundial es directa en **Folium**. Solo es necesario crear un objeto *Map* de **Folium** y, a continuación, mostrarlo. Los mapas en **Folium** son atractivos porque son interactivos: es posible acercar cualquier región de interés independientemente del nivel de acercamiento/alejamiento inicial."
   ]
  },
  {
   "cell_type": "code",
   "execution_count": null,
   "metadata": {
    "button": false,
    "collapsed": false,
    "deletable": true,
    "editable": true,
    "jupyter": {
     "outputs_hidden": false
    },
    "new_sheet": false,
    "run_control": {
     "read_only": false
    },
    "scrolled": true
   },
   "outputs": [],
   "source": [
    "# definir el mapa mundial\n",
    "world_map = folium.Map()\n",
    "\n",
    "# mostrar el mapa mundial\n",
    "world_map"
   ]
  },
  {
   "cell_type": "markdown",
   "metadata": {
    "button": false,
    "deletable": true,
    "editable": true,
    "new_sheet": false,
    "run_control": {
     "read_only": false
    }
   },
   "source": [
    "Inténtelo. Acerque y aleje el mapa representado arriba."
   ]
  },
  {
   "cell_type": "markdown",
   "metadata": {
    "button": false,
    "deletable": true,
    "editable": true,
    "new_sheet": false,
    "run_control": {
     "read_only": false
    }
   },
   "source": [
    "Para personalizar esta definición predeterminada del mapa mundial, puede especificar el centro de su mapa y el nivel de zoom inicial. \n",
    "\n",
    "Todas las ubicaciones de un mapa se definen según sus valores respectivos de *latitud* y *longitud*. Así, es posible crear un mapa y ejecutar un centro con los valores de *latitud* y *longitud* de **[0, 0]**. \n",
    "\n",
    "Para un centro definido, puede definir además el nivel de zoom inicial en la ubicación donde se representa el mapa. **Cuanto más alto sea el nivel de zoom, más se centrará el mapa**. \n",
    "\n",
    "Creemos un mapa centrado en Canadá y juguemos un poco con el nivel de zoom para ver de qué manera afecta el mapa representado. "
   ]
  },
  {
   "cell_type": "code",
   "execution_count": null,
   "metadata": {
    "button": false,
    "collapsed": false,
    "deletable": true,
    "editable": true,
    "jupyter": {
     "outputs_hidden": false
    },
    "new_sheet": false,
    "run_control": {
     "read_only": false
    }
   },
   "outputs": [],
   "source": [
    "# defina el mapa mundial centrado en Canadá con un nivel de zoom bajo\n",
    "world_map = folium.Map(location=[56.130, -106.35], zoom_start=4)\n",
    "\n",
    "# mostrar el mapa mundial\n",
    "world_map"
   ]
  },
  {
   "cell_type": "markdown",
   "metadata": {
    "button": false,
    "deletable": true,
    "editable": true,
    "new_sheet": false,
    "run_control": {
     "read_only": false
    }
   },
   "source": [
    "Creemos nuevamente el mapa con un mayor nivel de zoom."
   ]
  },
  {
   "cell_type": "code",
   "execution_count": null,
   "metadata": {
    "button": false,
    "collapsed": false,
    "deletable": true,
    "editable": true,
    "jupyter": {
     "outputs_hidden": false
    },
    "new_sheet": false,
    "run_control": {
     "read_only": false
    }
   },
   "outputs": [],
   "source": [
    "# defina el mapa mundial centrado en Canadá con un nivel de zoom mayor\n",
    "world_map = folium.Map(location=[56.130, -106.35], zoom_start=8)\n",
    "\n",
    "# mostrar el mapa mundial \n",
    "world_map"
   ]
  },
  {
   "cell_type": "markdown",
   "metadata": {
    "button": false,
    "deletable": true,
    "editable": true,
    "new_sheet": false,
    "run_control": {
     "read_only": false
    }
   },
   "source": [
    "Como puede apreciar, cuanto más alto sea el nivel de zoom, más se centrará el mapa."
   ]
  },
  {
   "cell_type": "markdown",
   "metadata": {
    "button": false,
    "deletable": true,
    "new_sheet": false,
    "run_control": {
     "read_only": false
    }
   },
   "source": [
    "**Pregunta:** Cree un mapa de México con un nivel de zoom de 4."
   ]
  },
  {
   "cell_type": "code",
   "execution_count": null,
   "metadata": {
    "button": false,
    "collapsed": false,
    "deletable": true,
    "jupyter": {
     "outputs_hidden": false
    },
    "new_sheet": false,
    "run_control": {
     "read_only": false
    }
   },
   "outputs": [],
   "source": [
    "### escriba su respuesta aquí\n",
    "\n",
    "\n",
    "\n"
   ]
  },
  {
   "cell_type": "markdown",
   "metadata": {
    "button": false,
    "deletable": true,
    "new_sheet": false,
    "run_control": {
     "read_only": false
    }
   },
   "source": [
    "Haga doble clic __aquí__ para ver la solución. \n",
    "<!-- La respuesta correcta es:\n",
    "\\\\ # definamos las coordenadas de geolocalización de México\n",
    "mexico_latitude = 23.6345 \n",
    "mexico_longitude = -102.5528\n",
    "-->\n",
    "\n",
    "<!--\n",
    "\\\\ # define el mapa del mundo centrado en Canadá con un mayor nivel de zoom\n",
    "mexico_map = folium.Map(location=[mexico_latitude, mexico_longitude], zoom_start=4)\n",
    "-->\n",
    "\n",
    "<!--\n",
    "\\\\ # muestre el mapa del mundo\n",
    "mexico_map\n",
    "-->"
   ]
  },
  {
   "cell_type": "markdown",
   "metadata": {
    "button": false,
    "deletable": true,
    "editable": true,
    "new_sheet": false,
    "run_control": {
     "read_only": false
    }
   },
   "source": [
    "Otra característica atractiva de **Folium** es que resulta posible generar diferentes estilos de mapa."
   ]
  },
  {
   "cell_type": "markdown",
   "metadata": {
    "button": false,
    "deletable": true,
    "editable": true,
    "new_sheet": false,
    "run_control": {
     "read_only": false
    }
   },
   "source": [
    "### A. Mapas estilo Toner de Stamen \n",
    "\n",
    "Se trata de mapas de alto contraste en blanco y negro. Son perfectos para mashups de datos y para explorar los meandros de los ríos y las zonas costeras. "
   ]
  },
  {
   "cell_type": "markdown",
   "metadata": {
    "button": false,
    "deletable": true,
    "editable": true,
    "new_sheet": false,
    "run_control": {
     "read_only": false
    }
   },
   "source": [
    "Creemos un mapa estilo *Toner de Stamen* de Canadá con un nivel de zoom de 4."
   ]
  },
  {
   "cell_type": "code",
   "execution_count": null,
   "metadata": {
    "button": false,
    "collapsed": false,
    "deletable": true,
    "editable": true,
    "jupyter": {
     "outputs_hidden": false
    },
    "new_sheet": false,
    "run_control": {
     "read_only": false
    }
   },
   "outputs": [],
   "source": [
    "# cree un mapa estilo Toner de Stamen del mundo centrado en Canadá\n",
    "world_map = folium.Map(location=[56.130, -106.35], zoom_start=4, tiles='Stamen Toner')\n",
    "\n",
    "# muestre el mapa\n",
    "world_map"
   ]
  },
  {
   "cell_type": "markdown",
   "metadata": {
    "button": false,
    "deletable": true,
    "editable": true,
    "new_sheet": false,
    "run_control": {
     "read_only": false
    }
   },
   "source": [
    "Puede acercar y alejar la imagen para comparar este estilo con el predeterminado."
   ]
  },
  {
   "cell_type": "markdown",
   "metadata": {
    "button": false,
    "deletable": true,
    "editable": true,
    "new_sheet": false,
    "run_control": {
     "read_only": false
    }
   },
   "source": [
    "### B. Mapas estilo Terrain de Stamen \n",
    "\n",
    "Estos mapas incluyen el sombreado de las montañas y los colores naturales de la vegetación. Tienen etiquetas avanzadas y generalización en líneas de autopistas."
   ]
  },
  {
   "cell_type": "markdown",
   "metadata": {
    "button": false,
    "deletable": true,
    "editable": true,
    "new_sheet": false,
    "run_control": {
     "read_only": false
    }
   },
   "source": [
    "Let's create a Stamen Terrain map of Canada with zoom level 4."
   ]
  },
  {
   "cell_type": "code",
   "execution_count": null,
   "metadata": {
    "button": false,
    "collapsed": false,
    "deletable": true,
    "editable": true,
    "jupyter": {
     "outputs_hidden": false
    },
    "new_sheet": false,
    "run_control": {
     "read_only": false
    }
   },
   "outputs": [],
   "source": [
    "# cree un mapa estilo Toner de Stamen del mundo centrado en Canadá\n",
    "world_map = folium.Map(location=[56.130, -106.35], zoom_start=4, tiles='Stamen Terrain')\n",
    "\n",
    "# muestre el mapa\n",
    "world_map"
   ]
  },
  {
   "cell_type": "markdown",
   "metadata": {
    "button": false,
    "deletable": true,
    "editable": true,
    "new_sheet": false,
    "run_control": {
     "read_only": false
    }
   },
   "source": [
    "Puede acercar y alejar la imagen para comparar este estilo con el Toner de Stamen y el predeterminado."
   ]
  },
  {
   "cell_type": "markdown",
   "metadata": {
    "button": false,
    "deletable": true,
    "editable": true,
    "new_sheet": false,
    "run_control": {
     "read_only": false
    }
   },
   "source": [
    "### C. Mapas estilo Mapbox Bright \n",
    "\n",
    "Se trata de mapas bastante similares al estilo predeterminado, excepto que los límites no son visibles con un nivel de zoom bajo. Además, a diferencia del estilo predeterminado donde los nombres de los países se muestran en el idioma de cada país, el estilo *Mapbox Bright* muestra todos los nombres de los países en inglés. "
   ]
  },
  {
   "cell_type": "markdown",
   "metadata": {
    "button": false,
    "deletable": true,
    "editable": true,
    "new_sheet": false,
    "run_control": {
     "read_only": false
    }
   },
   "source": [
    "Creemos un mapa mundial con este estilo."
   ]
  },
  {
   "cell_type": "code",
   "execution_count": null,
   "metadata": {
    "button": false,
    "collapsed": false,
    "deletable": true,
    "editable": true,
    "jupyter": {
     "outputs_hidden": false
    },
    "new_sheet": false,
    "run_control": {
     "read_only": false
    }
   },
   "outputs": [],
   "source": [
    "# cree un mapa mundial con el estilo Mapbox Bright.\n",
    "world_map = folium.Map(tiles='Mapbox Bright')\n",
    "\n",
    "# muestre el mapa\n",
    "world_map"
   ]
  },
  {
   "cell_type": "markdown",
   "metadata": {
    "button": false,
    "deletable": true,
    "editable": true,
    "new_sheet": false,
    "run_control": {
     "read_only": false
    }
   },
   "source": [
    "Acerque la imagen y observe de qué manera comienzan a mostrarse los límites y los nombres de los países en inglés."
   ]
  },
  {
   "cell_type": "markdown",
   "metadata": {
    "button": false,
    "deletable": true,
    "new_sheet": false,
    "run_control": {
     "read_only": false
    }
   },
   "source": [
    "**Pregunta:** Cree un mapa de México para visualizar el sombreado montañoso y la vegetación natural. Use un nivel de zoom de 6. "
   ]
  },
  {
   "cell_type": "code",
   "execution_count": null,
   "metadata": {
    "button": false,
    "collapsed": false,
    "deletable": true,
    "jupyter": {
     "outputs_hidden": false
    },
    "new_sheet": false,
    "run_control": {
     "read_only": false
    }
   },
   "outputs": [],
   "source": [
    "### escriba su respuesta aquí \n",
    "\n",
    "\n",
    "\n"
   ]
  },
  {
   "cell_type": "markdown",
   "metadata": {
    "button": false,
    "deletable": true,
    "new_sheet": false,
    "run_control": {
     "read_only": false
    }
   },
   "source": [
    "Haga doble clic __aquí__ para ver la solución. \n",
    "<!-- La respuesta correcta es:\n",
    "\\\\ # definamos las coordenadas de geolocalización de México.\n",
    "mexico_latitude = 23.6345 \n",
    "mexico_longitude = -102.5528\n",
    "-->\n",
    "\n",
    "<!--\n",
    "\\\\ # define el mapa del mundo centrado en Canadá con un mayor nivel de zoom.\n",
    "mexico_map = folium.Map(location=[mexico_latitude, mexico_longitude], zoom_start=6, tiles='Stamen Terrain')\n",
    "-->\n",
    "\n",
    "<!--\n",
    "\\\\ # muestre el mapa del mundo\n",
    "mexico_map\n",
    "-->"
   ]
  },
  {
   "cell_type": "markdown",
   "metadata": {
    "button": false,
    "deletable": true,
    "editable": true,
    "new_sheet": false,
    "run_control": {
     "read_only": false
    }
   },
   "source": [
    "# Mapas con marcadores <a id=\"6\"></a>\n"
   ]
  },
  {
   "cell_type": "markdown",
   "metadata": {
    "button": false,
    "deletable": true,
    "editable": true,
    "new_sheet": false,
    "run_control": {
     "read_only": false
    }
   },
   "source": [
    "Descarguemos e importemos los datos sobre los incidentes del departamento de policía con el método `read_csv()` de *pandas*."
   ]
  },
  {
   "cell_type": "markdown",
   "metadata": {
    "button": false,
    "deletable": true,
    "editable": true,
    "new_sheet": false,
    "run_control": {
     "read_only": false
    }
   },
   "source": [
    "Descargue el conjunto de datos e ingréselo en un DataFrame de *pandas*:"
   ]
  },
  {
   "cell_type": "code",
   "execution_count": null,
   "metadata": {
    "button": false,
    "collapsed": false,
    "deletable": true,
    "editable": true,
    "jupyter": {
     "outputs_hidden": false
    },
    "new_sheet": false,
    "run_control": {
     "read_only": false
    }
   },
   "outputs": [],
   "source": [
    "df_incidents = pd.read_csv('https://ibm.box.com/shared/static/nmcltjmocdi8sd5tk93uembzdec8zyaq.csv')\n",
    "\n",
    "print('Conjunto de datos descargado e ingresado en un DataFrame de pandas')"
   ]
  },
  {
   "cell_type": "markdown",
   "metadata": {
    "button": false,
    "deletable": true,
    "editable": true,
    "new_sheet": false,
    "run_control": {
     "read_only": false
    }
   },
   "source": [
    "Veamos los primeros cinco elementos de nuestro conjunto de datos."
   ]
  },
  {
   "cell_type": "code",
   "execution_count": null,
   "metadata": {
    "button": false,
    "collapsed": false,
    "deletable": true,
    "editable": true,
    "jupyter": {
     "outputs_hidden": false
    },
    "new_sheet": false,
    "run_control": {
     "read_only": false
    }
   },
   "outputs": [],
   "source": [
    "df_incidents.head()"
   ]
  },
  {
   "cell_type": "markdown",
   "metadata": {
    "button": false,
    "deletable": true,
    "editable": true,
    "new_sheet": false,
    "run_control": {
     "read_only": false
    }
   },
   "source": [
    "Cada fila consiste en 13 características: \n",
    "\n",
    "> 1. **IncidntNum (NúmIncidnt)**: Número de incidente\n",
    "> 2. **Category (Categoría)**: Categoría del delito o del incidente \n",
    "> 3. **Descript (Descrip)**: Descripción del delito o del incidente \n",
    "> 4. **DayOfWeek (DíaDeLaSemana)**: El día de la semana en que ocurrió el incidente \n",
    "> 5. **Date (Fecha)**: La fecha en que ocurrió el incidente \n",
    "> 6. **Time (Hora)**: La hora del día en que ocurrió el incidente \n",
    "> 7. **PdDistrict (DistritoDp)**: El distrito del departamento de policía \n",
    "> 8. **Resolution (Resolución)**: La resolución del delito en términos del arresto o no del perpetrador\n",
    "> 9. **Address (Dirección)**: La dirección más cercana al lugar donde ocurrió el incidente \n",
    "> 10. **X**: El valor de la longitud de la ubicación del delito \n",
    "> 11. **Y**: El valor de la latitud de la ubicación del delito \n",
    "> 12. **Location (Ubicación)**: El lugar donde coinciden los valores de latitud y longitud \n",
    "> 13. **PdId (IdDp)**: El id. del departamento de policía "
   ]
  },
  {
   "cell_type": "markdown",
   "metadata": {
    "button": false,
    "deletable": true,
    "editable": true,
    "new_sheet": false,
    "run_control": {
     "read_only": false
    }
   },
   "source": [
    "Veamos cuántas entradas hay en nuestro conjunto de datos."
   ]
  },
  {
   "cell_type": "code",
   "execution_count": null,
   "metadata": {
    "button": false,
    "collapsed": false,
    "deletable": true,
    "editable": true,
    "jupyter": {
     "outputs_hidden": false
    },
    "new_sheet": false,
    "run_control": {
     "read_only": false
    }
   },
   "outputs": [],
   "source": [
    "df_incidents.shape"
   ]
  },
  {
   "cell_type": "markdown",
   "metadata": {
    "button": false,
    "deletable": true,
    "editable": true,
    "new_sheet": false,
    "run_control": {
     "read_only": false
    }
   },
   "source": [
    "El DataFrame consiste en 150,500 delitos que tuvieron lugar en el año 2016. Para reducir los costos de los cálculos, trabajemos solo con los primeros 100 incidentes de este conjunto de datos."
   ]
  },
  {
   "cell_type": "code",
   "execution_count": null,
   "metadata": {
    "button": false,
    "collapsed": true,
    "deletable": true,
    "editable": true,
    "jupyter": {
     "outputs_hidden": true
    },
    "new_sheet": false,
    "run_control": {
     "read_only": false
    }
   },
   "outputs": [],
   "source": [
    "# obtenga los primeros 100 delitos en el DataFrame df_incidents\n",
    "limit = 100\n",
    "df_incidents = df_incidents.iloc[0:limit, :]"
   ]
  },
  {
   "cell_type": "markdown",
   "metadata": {
    "button": false,
    "deletable": true,
    "editable": true,
    "new_sheet": false,
    "run_control": {
     "read_only": false
    }
   },
   "source": [
    "Confirmemos que nuestro DataFrme consiste ahora en solo 100 delitos."
   ]
  },
  {
   "cell_type": "code",
   "execution_count": null,
   "metadata": {
    "button": false,
    "collapsed": false,
    "deletable": true,
    "editable": true,
    "jupyter": {
     "outputs_hidden": false
    },
    "new_sheet": false,
    "run_control": {
     "read_only": false
    }
   },
   "outputs": [],
   "source": [
    "df_incidents.shape"
   ]
  },
  {
   "cell_type": "markdown",
   "metadata": {
    "button": false,
    "deletable": true,
    "editable": true,
    "new_sheet": false,
    "run_control": {
     "read_only": false
    }
   },
   "source": [
    "Ahora que ya reducimos los datos, visualicemos dónde ocurrieron estos delitos en la ciudad de San Francisco. Utilizaremos el estilo predeterminado e inicializaremos el nivel de zoom en 12."
   ]
  },
  {
   "cell_type": "code",
   "execution_count": null,
   "metadata": {
    "button": false,
    "collapsed": true,
    "deletable": true,
    "editable": true,
    "jupyter": {
     "outputs_hidden": true
    },
    "new_sheet": false,
    "run_control": {
     "read_only": false
    }
   },
   "outputs": [],
   "source": [
    "# valores de latitud y longitud para San Francisco \n",
    "latitude = 37.77\n",
    "longitude = -122.42"
   ]
  },
  {
   "cell_type": "code",
   "execution_count": null,
   "metadata": {
    "button": false,
    "collapsed": false,
    "deletable": true,
    "editable": true,
    "jupyter": {
     "outputs_hidden": false
    },
    "new_sheet": false,
    "run_control": {
     "read_only": false
    }
   },
   "outputs": [],
   "source": [
    "# cree el mapa y muéstrelo\n",
    "sanfran_map = folium.Map(location=[latitude, longitude], zoom_start=12)\n",
    "\n",
    "# muestre el mapa de San Francisco\n",
    "sanfran_map"
   ]
  },
  {
   "cell_type": "markdown",
   "metadata": {
    "button": false,
    "deletable": true,
    "editable": true,
    "new_sheet": false,
    "run_control": {
     "read_only": false
    }
   },
   "source": [
    "Ahora, superpongamos las ubicaciones de los delitos en el mapa. En **Folium**, para hacerlo debemos crear un *grupo de características* con sus propias características y estilo y agregarlo a sanfran_map."
   ]
  },
  {
   "cell_type": "code",
   "execution_count": null,
   "metadata": {
    "button": false,
    "collapsed": false,
    "deletable": true,
    "editable": true,
    "jupyter": {
     "outputs_hidden": false
    },
    "new_sheet": false,
    "run_control": {
     "read_only": false
    }
   },
   "outputs": [],
   "source": [
    "# instancie un grupo de características para los incidentes en el DataFrame\n",
    "incidents = folium.map.FeatureGroup()\n",
    "\n",
    "# procese los 100 delitos y agregue cada uno al grupo de características de incidentes\n",
    "for lat, lng, in zip(df_incidents.Y, df_incidents.X):\n",
    "    incidents.add_child(\n",
    "        folium.features.CircleMarker(\n",
    "            [lat, lng],\n",
    "            radius=5, # defina de qué tamaño desea que sean los marcadores de círculo\n",
    "            color='yellow',\n",
    "            fill=True,\n",
    "            fill_color='blue',\n",
    "            fill_opacity=0.6\n",
    "        )\n",
    "    )\n",
    "\n",
    "# agregar los incidentes al mapa\n",
    "sanfran_map.add_child(incidents)"
   ]
  },
  {
   "cell_type": "markdown",
   "metadata": {
    "button": false,
    "deletable": true,
    "editable": true,
    "new_sheet": false,
    "run_control": {
     "read_only": false
    }
   },
   "source": [
    "También puede agregar texto emergente para que se muestre cuando se desplace el puntero del mouse sobre un marcador. Hagamos que cada marcador muestre la categoría del delito al desplazar el puntero del mouse por arriba."
   ]
  },
  {
   "cell_type": "code",
   "execution_count": null,
   "metadata": {
    "button": false,
    "collapsed": false,
    "deletable": true,
    "editable": true,
    "jupyter": {
     "outputs_hidden": false
    },
    "new_sheet": false,
    "run_control": {
     "read_only": false
    }
   },
   "outputs": [],
   "source": [
    "# instancie un grupo de características para los incidentes en el DataFrame\n",
    "incidents = folium.map.FeatureGroup()\n",
    "\n",
    "# procese los 100 delitos y agregue cada uno al grupo de características de incidentes\n",
    "for lat, lng, in zip(df_incidents.Y, df_incidents.X):\n",
    "    incidents.add_child(\n",
    "        folium.features.CircleMarker(\n",
    "            [lat, lng],\n",
    "            radius=5, # defina de qué tamaño desea que sean los marcadores de círculo\n",
    "            color='yellow',\n",
    "            fill=True,\n",
    "            fill_color='blue',\n",
    "            fill_opacity=0.6\n",
    "        )\n",
    "    )\n",
    "\n",
    "# agregue texto emergente a cada marcador del mapa\n",
    "latitudes = list(df_incidents.Y)\n",
    "longitudes = list(df_incidents.X)\n",
    "labels = list(df_incidents.Category)\n",
    "\n",
    "for lat, lng, label in zip(latitudes, longitudes, labels):\n",
    "    folium.Marker([lat, lng], popup=label).add_to(sanfran_map)    \n",
    "    \n",
    "# agregar los incidentes al mapa\n",
    "sanfran_map.add_child(incidents)"
   ]
  },
  {
   "cell_type": "markdown",
   "metadata": {
    "button": false,
    "deletable": true,
    "editable": true,
    "new_sheet": false,
    "run_control": {
     "read_only": false
    }
   },
   "source": [
    "¿No es genial? Ahora puede saber qué categoría de delito ocurrió en cada marcador. \n",
    "\n",
    "Si le parece que el mapa está demasiado abarrotado de marcadores, hay dos soluciones posibles. La solución más sencilla es eliminar los marcadores de ubicación y agregar el texto a los marcadores circulares en sí de la siguiente manera:"
   ]
  },
  {
   "cell_type": "code",
   "execution_count": null,
   "metadata": {
    "button": false,
    "collapsed": false,
    "deletable": true,
    "jupyter": {
     "outputs_hidden": false
    },
    "new_sheet": false,
    "run_control": {
     "read_only": false
    }
   },
   "outputs": [],
   "source": [
    "# cree el mapa y muéstrelo\n",
    "sanfran_map = folium.Map(location=[latitude, longitude], zoom_start=12)\n",
    "\n",
    "# procese los 100 delitos y agregue cada uno de ellos al mapa\n",
    "for lat, lng, label in zip(df_incidents.Y, df_incidents.X, df_incidents.Category):\n",
    "    folium.features.CircleMarker(\n",
    "        [lat, lng],\n",
    "        radius=5, # defina de qué tamaño desea que sean los marcadores de círculo\n",
    "        color='yellow',\n",
    "        fill=True,\n",
    "        popup=label,\n",
    "        fill_color='blue',\n",
    "        fill_opacity=0.6\n",
    "    ).add_to(sanfran_map)\n",
    "\n",
    "# muestre el mapa\n",
    "sanfran_map"
   ]
  },
  {
   "cell_type": "markdown",
   "metadata": {
    "button": false,
    "deletable": true,
    "new_sheet": false,
    "run_control": {
     "read_only": false
    }
   },
   "source": [
    "La otra solución adecuada es agrupar los marcadores. Cada grupo se representa con la cantidad de delitos en cada vecindario. Los grupos pueden considerarse porciones de San Francisco que pueden analizarse por separado. \n",
    "\n",
    "Para implementarlo, instanciamos un objeto *MarkerCluster* y agregamos todos los puntos de datos del DataFrame en este objeto."
   ]
  },
  {
   "cell_type": "code",
   "execution_count": null,
   "metadata": {
    "button": false,
    "collapsed": false,
    "deletable": true,
    "editable": true,
    "jupyter": {
     "outputs_hidden": false
    },
    "new_sheet": false,
    "run_control": {
     "read_only": false
    }
   },
   "outputs": [],
   "source": [
    "from folium import plugins\n",
    "\n",
    "# comencemos nuevamente con una copia limpia del mapa de San Francisco\n",
    "sanfran_map = folium.Map(location = [latitude, longitude], zoom_start = 12)\n",
    "\n",
    "# instancie un objeto de grupo de marcas para los incidentes en el DataFrame\n",
    "incidents = plugins.MarkerCluster().add_to(sanfran_map)\n",
    "\n",
    "# procese el DataFrame y agregue cada punto de datos al grupo de marcas\n",
    "for lat, lng, label, in zip(df_incidents.Y, df_incidents.X, df_incidents.Category):\n",
    "    folium.Marker(\n",
    "        location=[lat, lng],\n",
    "        icon=None,\n",
    "        popup=label,\n",
    "    ).add_to(incidents)\n",
    "\n",
    "# muestre el mapa\n",
    "sanfran_map"
   ]
  },
  {
   "cell_type": "markdown",
   "metadata": {
    "button": false,
    "deletable": true,
    "editable": true,
    "new_sheet": false,
    "run_control": {
     "read_only": false
    }
   },
   "source": [
    "Observe que, al alejar completamente, todos los marcadores se agrupan juntos, el grupo global de 100 marcadores o delitos, que son la cantidad total de delitos en el DataFrame. Al comenzar a acercar la imagen, el *grupo global* comenzará a descomponerse en grupos más pequeños. Al acercar la imagen por completo, aparecerán los marcadores individuales."
   ]
  },
  {
   "cell_type": "markdown",
   "metadata": {
    "button": false,
    "deletable": true,
    "editable": true,
    "new_sheet": false,
    "run_control": {
     "read_only": false
    }
   },
   "source": [
    "# Mapas coropléticos <a id=\"8\"></a>\n",
    "\n",
    "Un mapa `coroplético` es un mapa temático en el que las áreas se sombrean o incluyen un patrón en proporción con la medida de la variable estadística que se muestra, como densidad de población o ingresos per cápita. Los mapas coropléticos ofrecen una manera fácil de visualizar la forma en que una medida varía en una misma área geográfica o muestra el nivel de variabilidad en una región. A continuación se muestra un mapa `coroplético` de EE. UU. que indica la población por milla cuadrada por estado.\n",
    "\n",
    "<img src = \"https://ibm.box.com/shared/static/2kzaknzdf6crt3n5rx6haskg3wiaklxl.png\" width = 600> "
   ]
  },
  {
   "cell_type": "markdown",
   "metadata": {
    "button": false,
    "deletable": true,
    "editable": true,
    "new_sheet": false,
    "run_control": {
     "read_only": false
    }
   },
   "source": [
    "Ahora, creemos nuestro propio mapa `Choropleth` del mundo que muestre la inmigración desde distintos países hacia Canadá.\n",
    "\n",
    "En primer lugar, descarguemos e importemos nuestro conjunto de datos primario de inmigración canadiense con el método `read_excel()` de *pandas*. Habitualmente, para poder hacerlo, debemos descargar un módulo que *pandas* necesita para leer en archivos de Excel. El módulo es **xlrd**. Para su conveniencia, ya hemos instalado este módulo. Así no deberá preocuparse por ello. De lo contrario, usted debería ejecutar la siguiente línea de código para instalar el módulo **xlrd**:\n",
    "```\n",
    "!conda install -c anaconda xlrd --yes\n",
    "```"
   ]
  },
  {
   "cell_type": "markdown",
   "metadata": {
    "button": false,
    "deletable": true,
    "editable": true,
    "new_sheet": false,
    "run_control": {
     "read_only": false
    }
   },
   "source": [
    "Descargue el conjunto de datos e ingréselo en un DataFrame de *pandas*:"
   ]
  },
  {
   "cell_type": "code",
   "execution_count": null,
   "metadata": {
    "button": false,
    "collapsed": false,
    "deletable": true,
    "editable": true,
    "jupyter": {
     "outputs_hidden": false
    },
    "new_sheet": false,
    "run_control": {
     "read_only": false
    }
   },
   "outputs": [],
   "source": [
    "df_can = pd.read_excel('https://ibm.box.com/shared/static/lw190pt9zpy5bd1ptyg2aw15awomz9pu.xlsx',\n",
    "                     sheet_name='Canada by Citizenship',\n",
    "                     skiprows=range(20),\n",
    "                     skip_footer=2)\n",
    "\n",
    "print('Datos descargados e ingresados en un DataFrame')"
   ]
  },
  {
   "cell_type": "markdown",
   "metadata": {
    "button": false,
    "deletable": true,
    "editable": true,
    "new_sheet": false,
    "run_control": {
     "read_only": false
    }
   },
   "source": [
    "Veamos los primeros cinco elementos de nuestro conjunto de datos."
   ]
  },
  {
   "cell_type": "code",
   "execution_count": null,
   "metadata": {
    "button": false,
    "collapsed": false,
    "deletable": true,
    "editable": true,
    "jupyter": {
     "outputs_hidden": false
    },
    "new_sheet": false,
    "run_control": {
     "read_only": false
    },
    "scrolled": true
   },
   "outputs": [],
   "source": [
    "df_can.head()"
   ]
  },
  {
   "cell_type": "markdown",
   "metadata": {
    "button": false,
    "deletable": true,
    "editable": true,
    "new_sheet": false,
    "run_control": {
     "read_only": false
    }
   },
   "source": [
    "Veamos cuántas entradas hay en nuestro conjunto de datos."
   ]
  },
  {
   "cell_type": "code",
   "execution_count": null,
   "metadata": {
    "button": false,
    "collapsed": false,
    "deletable": true,
    "editable": true,
    "jupyter": {
     "outputs_hidden": false
    },
    "new_sheet": false,
    "run_control": {
     "read_only": false
    }
   },
   "outputs": [],
   "source": [
    "# muestre las dimensiones del DataFrame\n",
    "print(df_can.shape)"
   ]
  },
  {
   "cell_type": "markdown",
   "metadata": {
    "button": false,
    "deletable": true,
    "editable": true,
    "new_sheet": false,
    "run_control": {
     "read_only": false
    }
   },
   "source": [
    "Depuración de los datos. Realizaremos algunas modificaciones en el conjunto de datos original para facilitar la creación de visualizaciones. Consulte las libretas de *introducción a Matplotlib y a los gráficos de líneas* y de *diagramas de áreas, histogramas y diagramas de barras* para obtener una descripción detallada sobre este preprocesamiento."
   ]
  },
  {
   "cell_type": "code",
   "execution_count": null,
   "metadata": {
    "button": false,
    "collapsed": false,
    "deletable": true,
    "editable": true,
    "jupyter": {
     "outputs_hidden": false
    },
    "new_sheet": false,
    "run_control": {
     "read_only": false
    },
    "scrolled": true
   },
   "outputs": [],
   "source": [
    "# limpie el conjunto de datos para eliminar las columnas innecesarias (p. ej., REG) \n",
    "df_can.drop(['AREA','REG','DEV','Type','Coverage'], axis=1, inplace=True)\n",
    "\n",
    "# cambiemos el nombre de las columnas para que tengan sentido\n",
    "df_can.rename(columns={'OdName':'Country', 'AreaName':'Continent','RegName':'Region'}, inplace=True)\n",
    "\n",
    "# para mayor consistencia, también hagamos que todas las etiquetas de las columnas sean del tipo cadena\n",
    "df_can.columns = list(map(str, df_can.columns))\n",
    "\n",
    "# agregue una columna total\n",
    "df_can['Total'] = df_can.sum(axis=1)\n",
    "\n",
    "# años que usaremos en esta lección - útiles para la diagramación posterior\n",
    "years = list(map(str, range(1980, 2014)))\n",
    "print ('data dimensions:', df_can.shape)"
   ]
  },
  {
   "cell_type": "markdown",
   "metadata": {
    "button": false,
    "deletable": true,
    "editable": true,
    "new_sheet": false,
    "run_control": {
     "read_only": false
    }
   },
   "source": [
    "Veamos los primeros cinco elementos de nuestro conjunto de datos ya limpio."
   ]
  },
  {
   "cell_type": "code",
   "execution_count": null,
   "metadata": {
    "button": false,
    "collapsed": false,
    "deletable": true,
    "editable": true,
    "jupyter": {
     "outputs_hidden": false
    },
    "new_sheet": false,
    "run_control": {
     "read_only": false
    }
   },
   "outputs": [],
   "source": [
    "df_can.head()"
   ]
  },
  {
   "cell_type": "markdown",
   "metadata": {
    "button": false,
    "deletable": true,
    "editable": true,
    "new_sheet": false,
    "run_control": {
     "read_only": false
    }
   },
   "source": [
    "Para crear un mapa `Choropleth` necesitamos un archivo de GeoJSON que defina las áreas/ límites del estado, del país o del condado de interés. En nuestro caso, debido a que crearemos un mapa mundial, deseamos un archivo de GeoJSON que defina el límite de todos los países del mundo. Para su conveniencia, le proporcionaremos el archivo. Tenga la amabilidad de descargarlo. Nombremos el archivo **world_countries.json**."
   ]
  },
  {
   "cell_type": "code",
   "execution_count": null,
   "metadata": {
    "button": false,
    "collapsed": false,
    "deletable": true,
    "editable": true,
    "jupyter": {
     "outputs_hidden": false
    },
    "new_sheet": false,
    "run_control": {
     "read_only": false
    }
   },
   "outputs": [],
   "source": [
    "# descargue el archivo de geojson de los países\n",
    "!wget --quiet https://ibm.box.com/shared/static/cto2qv7nx6yq19logfcissyy4euo8lho.json -O world_countries.json\n",
    "    \n",
    "print('Se descargó el archivo de GeoJSON.')"
   ]
  },
  {
   "cell_type": "markdown",
   "metadata": {
    "button": false,
    "deletable": true,
    "editable": true,
    "new_sheet": false,
    "run_control": {
     "read_only": false
    }
   },
   "source": [
    "Ahora que tenemos el archivo de GeoJSON, creemos un mapa del mundo centrado en los valores **[0, 0]** de *latitud* y *longitud*, con un nivel de zoom inicial de 2 y el estilo *Mapbox Bright*."
   ]
  },
  {
   "cell_type": "code",
   "execution_count": null,
   "metadata": {
    "button": false,
    "collapsed": false,
    "deletable": true,
    "editable": true,
    "jupyter": {
     "outputs_hidden": false
    },
    "new_sheet": false,
    "run_control": {
     "read_only": false
    }
   },
   "outputs": [],
   "source": [
    "world_geo = r'world_countries.json' # archivo de geojson\n",
    "\n",
    "# cree un mapa mundial sencillo\n",
    "world_map = folium.Map(location=[0, 0], zoom_start=2, tiles='Mapbox Bright')\n",
    "\n",
    "# genere un mapa coroplético con la inmigración total de cada país a Canadá entre 1980 a 2013\n",
    "world_map.choropleth(\n",
    "    geo_data=world_geo,\n",
    "    data=df_can,\n",
    "    columns=['Country', 'Total'],\n",
    "    key_on='feature.properties.name',\n",
    "    fill_color='YlOrRd', \n",
    "    fill_opacity=0.7, \n",
    "    line_opacity=0.2,\n",
    "    legend_name='Immigration to Canada'\n",
    ")\n",
    "\n",
    "# muestre el mapa\n",
    "world_map"
   ]
  },
  {
   "cell_type": "markdown",
   "metadata": {
    "button": false,
    "deletable": true,
    "editable": true,
    "new_sheet": false,
    "run_control": {
     "read_only": false
    }
   },
   "source": [
    "¡Vaya! El mapa es muy interesante. Según la leyenda del mapa `coroplético`, cuanto más oscuro es el color de un país y más cercano es el color de un país al rojo, mayor es la cantidad de inmigrantes de dicho país. Podemos observar que la mayor inmigración a lo largo de 33 años (entre 1980 a 2013) fue desde China, India y Filipinas, países seguidos por Polonia, Pakistán y, un dato muy interesante, EE. UU."
   ]
  },
  {
   "cell_type": "markdown",
   "metadata": {
    "button": false,
    "deletable": true,
    "editable": true,
    "new_sheet": false,
    "run_control": {
     "read_only": false
    }
   },
   "source": [
    "Observe que la leyenda muestra un límite o umbral negativo. Corrijámoslo con una definición de nuestros umbrales y a partir del 0 en lugar de -6918."
   ]
  },
  {
   "cell_type": "code",
   "execution_count": null,
   "metadata": {
    "button": false,
    "collapsed": false,
    "deletable": true,
    "editable": true,
    "jupyter": {
     "outputs_hidden": false
    },
    "new_sheet": false,
    "run_control": {
     "read_only": false
    }
   },
   "outputs": [],
   "source": [
    "world_geo = r'world_countries.json'\n",
    "\n",
    "# cree una matriz de NumPy con un largo de 6 y con un espaciado lineal a partir del total mínimo de inmigración hasta el total máximo de inmigración\n",
    "threshold_scale = np.linspace(df_can['Total'].min(),\n",
    "                              df_can['Total'].max(),\n",
    "                              6, dtype=int)\n",
    "threshold_scale = threshold_scale.tolist() # cambie la matriz de NumPy a una lista\n",
    "threshold_scale[-1] = threshold_scale[-1] + 1 # asegúrese de que el último valor de la lista sea mayor que la inmigración máxima\n",
    "\n",
    "# permita que Folium determine la escala.\n",
    "world_map = folium.Map(location=[0, 0], zoom_start=2, tiles='Mapbox Bright')\n",
    "world_map.choropleth(\n",
    "    geo_data=world_geo,\n",
    "    data=df_can,\n",
    "    columns=['Country', 'Total'],\n",
    "    key_on='feature.properties.name',\n",
    "    threshold_scale=threshold_scale,\n",
    "    fill_color='YlOrRd', \n",
    "    fill_opacity=0.7, \n",
    "    line_opacity=0.2,\n",
    "    legend_name='Inmigración a Canadá',\n",
    "    reset=True\n",
    ")\n",
    "world_map"
   ]
  },
  {
   "cell_type": "markdown",
   "metadata": {
    "button": false,
    "deletable": true,
    "editable": true,
    "new_sheet": false,
    "run_control": {
     "read_only": false
    }
   },
   "source": [
    "¡Mucho mejor! Puede jugar con los datos y quizá crear mapas `coropléticos` para años individuales, o incluso décadas, y ver cómo se comparan con todo el periodo entre 1980 a 2013."
   ]
  },
  {
   "cell_type": "markdown",
   "metadata": {
    "button": false,
    "deletable": true,
    "editable": true,
    "new_sheet": false,
    "run_control": {
     "read_only": false
    }
   },
   "source": [
    "### ¡Gracias por completar este laboratorio!\n",
    "\n",
    "Esta libreta fue creada por [Alex Aklson](https://www.linkedin.com/in/aklson/). Espero que este laboratorio le haya resultado interesante y educativo. ¡Si tiene alguna pregunta, comuníquese conmigo!"
   ]
  },
  {
   "cell_type": "markdown",
   "metadata": {
    "button": false,
    "deletable": true,
    "editable": true,
    "new_sheet": false,
    "run_control": {
     "read_only": false
    }
   },
   "source": [
    "Esta libreta es parte del curso gratuito de **Cognitive Class** denominado *Visualización de datos con Python*. Si accedió a esta libreta desde fuera del curso, puede llevar a cabo el curso en línea auto-instructivo haciendo clic [aquí](https://cocl.us/DV0101EN_Lab5)."
   ]
  },
  {
   "cell_type": "markdown",
   "metadata": {
    "button": false,
    "deletable": true,
    "editable": true,
    "new_sheet": false,
    "run_control": {
     "read_only": false
    }
   },
   "source": [
    "Derechos de autor &copy; 2018 [cognitiveclass.ai](cognitiveclass.ai?utm_source=bducopyrightlink&utm_medium=dswb&utm_campaign=bdu). Esta cuaderno y su código fuente se publican bajo los términos de la [Licencia de MIT](https://bigdatauniversity.com/mit-license/)."
   ]
  },
  {
   "cell_type": "code",
   "execution_count": null,
   "metadata": {},
   "outputs": [],
   "source": []
  }
 ],
 "metadata": {
  "kernelspec": {
   "display_name": "Python",
   "language": "python",
   "name": "conda-env-python-py"
  },
  "language_info": {
   "codemirror_mode": {
    "name": "ipython",
    "version": 3
   },
   "file_extension": ".py",
   "mimetype": "text/x-python",
   "name": "python",
   "nbconvert_exporter": "python",
   "pygments_lexer": "ipython3",
   "version": "3.6.10"
  },
  "widgets": {
   "state": {},
   "version": "1.1.2"
  }
 },
 "nbformat": 4,
 "nbformat_minor": 4
}
