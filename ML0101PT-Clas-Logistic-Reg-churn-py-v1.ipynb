{
 "cells": [
  {
   "cell_type": "markdown",
   "metadata": {
    "button": false,
    "new_sheet": false,
    "run_control": {
     "read_only": false
    }
   },
   "source": [
    "<a href=\"https://www.bigdatauniversity.com\"><img src = \"https://ibm.box.com/shared/static/cw2c7r3o20w9zn8gkecaeyjhgw3xdgbj.png\" width = 400, align = \"center\"></a>\n",
    "\n",
    "<h1 align=center><font size = 5> Regressão logística com Python</font></h1>"
   ]
  },
  {
   "cell_type": "markdown",
   "metadata": {
    "button": false,
    "new_sheet": false,
    "run_control": {
     "read_only": false
    }
   },
   "source": [
    "Neste notebook, você aprenderá sobre regressão logística e, em seguida, criará um modelo para uma empresa de telecomunicações, com a finalidade de prever quando seus clientes passarão para uma empresa concorrente, de modo que possam tomar medidas para retê-los.\n",
    "\n",
    "\n",
    "<a id=\"ref1\"></a>\n",
    "## Qual a diferença entre a regressão linear e a logística?\n",
    "\n",
    "Embora a regressão linear seja adequada para estimar valores contínuos (ex.: o preço de uma casa), não é a melhor ferramenta para prever a classe de um ponto de dados observado. Para estimar a classe a que um ponto de dados pertence, precisamos de algum tipo de orientação sobre qual seria sua **classe mais provável**. Para isso, usamos a **Regressão Logística**.\n",
    "\n",
    "<div class=\"alert alert-success alertsuccess\" style=\"margin-top: 20px\">\n",
    "<font size = 3><strong>Para recordar a regressão linear:</strong></font>\n",
    "<br>\n",
    "<br>\n",
    "Como você sabe, a __regressão linear__ encontra uma função que relaciona uma variável dependente contínua, _y_, a alguns preditores (variáveis independentes _x1_, _x2_, etc.). Por exemplo: a regressão linear simples pressupõe uma função com a seguinte forma: \n",
    "<br><br>\n",
    "$$\n",
    "y = 𝜃0 + 𝜃1 * x1 + 𝜃2 * x2 +...\n",
    "$$\n",
    "<br>\n",
    "e encontra os valores dos parâmetros _θ0_, _θ1_, _𝜃2_, etc, onde o termo _𝜃0_ é a “ordenada de origem”. \n",
    "\n",
    "Geralmente pode ser representada assim: \n",
    "<br><br>\n",
    "$$\n",
    "ℎ_θ(𝑥) = 𝜃^TX\n",
    "$$\n",
    "<p></p>\n",
    "\n",
    "</div>\n",
    "\n",
    "A regressão logística é uma variação da regressão linear e é útil quando a variável dependente observada, _y_, é categórica. Produz uma fórmula que prevê a probabilidade do rótulo da classe como uma função das variáveis independentes.\n",
    "\n",
    "A regressão logística ajusta-se a uma curva especial em forma de s. Para isso, toma a regressão linear e transforma a estimativa numérica em uma probabilidade com a seguinte função, denominada função sigmoide 𝜎:\n",
    "\n",
    "$$\n",
    "ℎ_θ(𝑥) = 𝜎({θ^TX}) =  \\frac {e^{(θ0 + θ1 * x1 + θ2 * x2 +...)}}{1 + e^{(θ0 + θ1 * x1 + θ2 * x2 +...)}}\n",
    "$$\n",
    "Ou:\n",
    "$$\n",
    "ProbabilityOfaClass_1 =  P(Y=1|X) = 𝜎({θ^TX}) = \\frac{e^{θ^TX}}{1+e^{θ^TX}} \n",
    "$$\n",
    "\n",
    "Nesta equação, ${θ^TX}$ é o resultado da regressão (a soma das variáveis ponderadas pelos coeficientes), `exp` é a função exponencial e $𝜎(θ^TX)$ é a função sigmoide ou logística, também chamada de [curva logística](http://en.wikipedia.org/wiki/Logistic_function). É uma forma comum de “S” (curva sigmoide).\n",
    "\n",
    "Em resumo, a regressão logística transforma os dados de entrada através de uma função logística ou sigmoide, mas, em seguida, trata o resultado como uma probabilidade:\n",
    "\n",
    "<img\n",
    "src=\"https://ibm.box.com/shared/static/kgv9alcghmjcv97op4d6onkyxevk23b1.png\" width = \"400\" align = \"center\">\n",
    "\n",
    "\n",
    "O objetivo do algoritmo de __regressão logística__ é encontrar os melhores parâmetros θ, para ℎ_θ(𝑥) = 𝜎({θ^TX}), de tal maneira que o modelo faça a melhor previsão da classe a que pertence cada caso."
   ]
  },
  {
   "cell_type": "markdown",
   "metadata": {},
   "source": [
    "### Churn de clientes com regressão logística\n",
    "Uma empresa de telecomunicações está preocupada com a quantidade de clientes que cancelam seus serviços de telefonia fixa e contratam empresas concorrentes que oferecem serviço por cabo. Precisam saber quem são os clientes que estão deixando a empresa. Imagine que você é um analista que trabalha nesta empresa e precisa descobrir quem está cancelando o serviço e por quê."
   ]
  },
  {
   "cell_type": "markdown",
   "metadata": {
    "button": false,
    "new_sheet": false,
    "run_control": {
     "read_only": false
    }
   },
   "source": [
    "Vamos primeiro importar as bibliotecas necessárias:"
   ]
  },
  {
   "cell_type": "code",
   "execution_count": null,
   "metadata": {
    "button": false,
    "new_sheet": false,
    "run_control": {
     "read_only": false
    }
   },
   "outputs": [],
   "source": [
    "import pandas as pd\n",
    "import pylab as pl\n",
    "import numpy as np\n",
    "import scipy.optimize as opt\n",
    "from sklearn import preprocessing\n",
    "%matplotlib inline \n",
    "import matplotlib.pyplot as plt"
   ]
  },
  {
   "cell_type": "markdown",
   "metadata": {
    "button": false,
    "new_sheet": false,
    "run_control": {
     "read_only": false
    }
   },
   "source": [
    "### Sobre o conjunto de dados\n",
    "Usaremos dados de telecomunicações para prever a perda de clientes (churn). Trata-se de dados históricos de clientes e cada linha representa um cliente. Os dados são relativamente fáceis de entender e é possível obter insights que podem ser usados imediatamente. Geralmente, é mais barato manter os clientes atuais do que captar novos, portanto, o foco desta análise é prever quem continuará sendo cliente da empresa.\n",
    "\n",
    "\n",
    "Esse conjunto de dados fornece informações que ajudam a prever o comportamento dos clientes, com a finalidade de retê-los. Você pode analisar todos os dados relevantes sobre os clientes e desenvolver programas de retenção.\n",
    "\n",
    "\n",
    "O conjunto de dados inclui informações sobre:\n",
    "- Clientes perdidos no último mês - a coluna é denominada Churn\n",
    "- Serviços que os clientes contrataram - telefone, várias linhas, internet, segurança on-line, backup on-line, proteção de dispositivos, suporte técnico e streaming de TV e filmes\n",
    "- Informações das contas dos clientes - há quanto tempo são clientes, contrato, forma de pagamento, fatura eletrônica, cobranças mensais e cobranças totais\n",
    "- Informações demográficas sobre os clientes - sexo, faixa etária e se têm parceiros e dependentes\n",
    "\n"
   ]
  },
  {
   "cell_type": "markdown",
   "metadata": {
    "button": false,
    "new_sheet": false,
    "run_control": {
     "read_only": false
    }
   },
   "source": [
    "###  Carregar os dados do Telco Churn\n",
    "O Telco Churn é um arquivo de dados hipotéticos sobre os esforços de uma empresa de telecomunicações para reduzir a perda de clientes. Cada caso corresponde a um cliente separado e registra várias informações demográficas e de uso de serviços. Antes de poder trabalhar com os dados, você deve usar o URL para obter o arquivo ChurnData.csv.\n",
    "\n",
    "Utilizaremos o `!wget` para baixar os dados a partir do IBM Object Storage."
   ]
  },
  {
   "cell_type": "code",
   "execution_count": null,
   "metadata": {
    "button": false,
    "new_sheet": false,
    "run_control": {
     "read_only": false
    }
   },
   "outputs": [],
   "source": [
    "#Clique aqui e pressione Shift + Enter\n",
    "!wget -O ChurnData.csv https://s3-api.us-geo.objectstorage.softlayer.net/cf-courses-data/CognitiveClass/ML0101ENv3/labs/ChurnData.csv"
   ]
  },
  {
   "cell_type": "markdown",
   "metadata": {},
   "source": [
    "__Você sabia?__ Ao utilizar o aprendizado de máquina, é provável que trabalhe com conjuntos de dados de grandes dimensões. Como empresa, onde você pode hospedar seus dados? A IBM está oferecendo uma oportunidade única para empresas, com 10 TB de armazenamento no IBM Cloud Object Storage: [Inscreva-se agora gratuitamente](http://cocl.us/ML0101EN-IBM-Offer-CC)"
   ]
  },
  {
   "cell_type": "markdown",
   "metadata": {
    "button": false,
    "new_sheet": false,
    "run_control": {
     "read_only": false
    }
   },
   "source": [
    "### Carregar dados a partir do arquivo CSV  "
   ]
  },
  {
   "cell_type": "code",
   "execution_count": null,
   "metadata": {
    "button": false,
    "new_sheet": false,
    "run_control": {
     "read_only": false
    }
   },
   "outputs": [],
   "source": [
    "churn_df = pd.read_csv(\"ChurnData.csv\")\n",
    "churn_df.head()"
   ]
  },
  {
   "cell_type": "markdown",
   "metadata": {},
   "source": [
    "## Pré-processamento e seleção dos dados"
   ]
  },
  {
   "cell_type": "markdown",
   "metadata": {},
   "source": [
    "Vamos selecionar algumas características para a modelagem. Além disso, alteramos o tipo de dados de destino para inteiros, pois é um requisito do algoritmo skitlearn:"
   ]
  },
  {
   "cell_type": "code",
   "execution_count": null,
   "metadata": {},
   "outputs": [],
   "source": [
    "churn_df = churn_df[['tenure', 'age', 'address', 'income', 'ed', 'employ', 'equip',   'callcard', 'wireless','churn']]\n",
    "churn_df['churn'] = churn_df['churn'].astype('int')\n",
    "churn_df.head()"
   ]
  },
  {
   "cell_type": "markdown",
   "metadata": {
    "button": true,
    "new_sheet": true,
    "run_control": {
     "read_only": false
    }
   },
   "source": [
    "## Prática\n",
    "Quantas linhas e colunas há neste conjunto de dados no total? Quais são os nomes das colunas?"
   ]
  },
  {
   "cell_type": "code",
   "execution_count": null,
   "metadata": {
    "button": false,
    "new_sheet": false,
    "run_control": {
     "read_only": false
    }
   },
   "outputs": [],
   "source": [
    "# Escreva seu código aqui\n",
    "\n",
    "\n",
    "\n"
   ]
  },
  {
   "cell_type": "markdown",
   "metadata": {},
   "source": [
    "Definimos X e y para nosso conjunto de dados:"
   ]
  },
  {
   "cell_type": "code",
   "execution_count": null,
   "metadata": {},
   "outputs": [],
   "source": [
    "X = np.asarray(churn_df[['tenure', 'age', 'address', 'income', 'ed', 'employ', 'equip']])\n",
    "X[0:5]"
   ]
  },
  {
   "cell_type": "code",
   "execution_count": null,
   "metadata": {},
   "outputs": [],
   "source": [
    "y = np.asarray(churn_df['churn'])\n",
    "y [0:5]"
   ]
  },
  {
   "cell_type": "markdown",
   "metadata": {},
   "source": [
    "Além disso, normalizamos o conjunto de dados:"
   ]
  },
  {
   "cell_type": "code",
   "execution_count": null,
   "metadata": {},
   "outputs": [],
   "source": [
    "from sklearn import preprocessing\n",
    "X = preprocessing.StandardScaler().fit(X).transform(X)\n",
    "X[0:5]"
   ]
  },
  {
   "cell_type": "markdown",
   "metadata": {},
   "source": [
    "## Conjunto de dados de treinamento/teste"
   ]
  },
  {
   "cell_type": "markdown",
   "metadata": {},
   "source": [
    "Dividimos nosso conjunto de dados em conjuntos de treinamento e de teste:"
   ]
  },
  {
   "cell_type": "code",
   "execution_count": null,
   "metadata": {},
   "outputs": [],
   "source": [
    "from sklearn.model_selection import train_test_split\n",
    "X_train, X_test, y_train, y_test = train_test_split( X, y, test_size=0.2, random_state=4)\n",
    "print ('Train set:', X_train.shape,  y_train.shape)\n",
    "print ('Test set:', X_test.shape,  y_test.shape)"
   ]
  },
  {
   "cell_type": "markdown",
   "metadata": {},
   "source": [
    "# Modelagem (Regressão logística com Scikit-learn)"
   ]
  },
  {
   "cell_type": "markdown",
   "metadata": {},
   "source": [
    "Vamos construir nosso modelo com a função __LogisticRegression__ do pacote Scikit-learn. Essa função implementa a regressão logística e pode usar diferentes otimizadores numéricos para encontrar parâmetros, incluindo os solucionadores ‘newton-cg’, ‘lbfgs’, ‘liblinear’, ‘sag’ e ‘saga’. Na internet há uma grande quantidade de informações sobre as vantagens e desvantagens desses otimizadores.\n",
    "\n",
    "A versão de regressão logística no Scikit-learn suporta a regularização. A regularização é uma técnica usada para resolver o problema de excesso de ajuste (overfitting) em modelos de aprendizado de máquina. O parâmetro __C__ indica o **inverso da força de regularização**, que deve ser uma flutuação positiva. Quando menor o valor, maior é a regularização. Vamos ajustar nosso modelo com o conjunto de treinamento:"
   ]
  },
  {
   "cell_type": "code",
   "execution_count": null,
   "metadata": {},
   "outputs": [],
   "source": [
    "from sklearn.linear_model import LogisticRegression\n",
    "from sklearn.metrics import confusion_matrix\n",
    "LR = LogisticRegression(C=0.01, solver='liblinear').fit(X_train,y_train)\n",
    "LR"
   ]
  },
  {
   "cell_type": "markdown",
   "metadata": {},
   "source": [
    "Agora podemos prever utilizando nosso conjunto de testes:"
   ]
  },
  {
   "cell_type": "code",
   "execution_count": null,
   "metadata": {},
   "outputs": [],
   "source": [
    "yhat = LR.predict(X_test)\n",
    "yhat"
   ]
  },
  {
   "cell_type": "markdown",
   "metadata": {},
   "source": [
    "__predict_proba__ retorna estimativas para todas as classes, ordenadas pelo rótulo das classes. Então, a primeira coluna é a probabilidade da classe 1, P(Y=1|X) e a segunda coluna é a probabilidade da classe 0, P(Y=0|X):"
   ]
  },
  {
   "cell_type": "code",
   "execution_count": null,
   "metadata": {},
   "outputs": [],
   "source": [
    "yhat_prob = LR.predict_proba(X_test)\n",
    "yhat_prob"
   ]
  },
  {
   "cell_type": "markdown",
   "metadata": {},
   "source": [
    "## Avaliação"
   ]
  },
  {
   "cell_type": "markdown",
   "metadata": {},
   "source": [
    "### Índice de Jaccard\n",
    "Vamos avaliar a precisão com o índice de Jaccard. Podemos definir esse índice como o tamanho da interseção dividido pelo tamanho da união de dois conjuntos de rótulos. Se todo o conjunto de rótulos previstos para uma amostra corresponder ao conjunto real de rótulos, a precisão do subconjunto será 1.0; caso contrário, será 0.0.\n"
   ]
  },
  {
   "cell_type": "code",
   "execution_count": null,
   "metadata": {},
   "outputs": [],
   "source": [
    "from sklearn.metrics import jaccard_similarity_score\n",
    "jaccard_similarity_score(y_test, yhat)"
   ]
  },
  {
   "cell_type": "markdown",
   "metadata": {},
   "source": [
    "### matriz de confusão\n",
    "Outra maneira de avaliar a precisão do classificador é observar a __matriz de confusão__."
   ]
  },
  {
   "cell_type": "code",
   "execution_count": null,
   "metadata": {},
   "outputs": [],
   "source": [
    "from sklearn.metrics import classification_report, confusion_matrix\n",
    "import itertools\n",
    "def plot_confusion_matrix(cm, classes,\n",
    "                          normalize=False,\n",
    "                          title='Confusion matrix',\n",
    "                          cmap=plt.cm.Blues):\n",
    "    \"\"\"\n",
    "    This function prints and plots the confusion matrix.\n",
    "    Normalization can be applied by setting `normalize=True`.\n",
    "    \"\"\"\n",
    "    if normalize:\n",
    "        cm = cm.astype('float') / cm.sum(axis=1)[:, np.newaxis]\n",
    "        print(\"Normalized confusion matrix\")\n",
    "    else:\n",
    "        print('Confusion matrix, without normalization')\n",
    "\n",
    "    print(cm)\n",
    "\n",
    "    plt.imshow(cm, interpolation='nearest', cmap=cmap)\n",
    "    plt.title(title)\n",
    "    plt.colorbar()\n",
    "    tick_marks = np.arange(len(classes))\n",
    "    plt.xticks(tick_marks, classes, rotation=45)\n",
    "    plt.yticks(tick_marks, classes)\n",
    "\n",
    "    fmt = '.2f' if normalize else 'd'\n",
    "    thresh = cm.max() / 2.\n",
    "    for i, j in itertools.product(range(cm.shape[0]), range(cm.shape[1])):\n",
    "        plt.text(j, i, format(cm[i, j], fmt),\n",
    "                 horizontalalignment=\"center\",\n",
    "                 color=\"white\" if cm[i, j] > thresh else \"black\")\n",
    "\n",
    "    plt.tight_layout()\n",
    "    plt.ylabel('True label')\n",
    "    plt.xlabel('Predicted label')\n",
    "print(confusion_matrix(y_test, yhat, labels=[1,0]))"
   ]
  },
  {
   "cell_type": "code",
   "execution_count": null,
   "metadata": {},
   "outputs": [],
   "source": [
    "# Compute confusion matrix\n",
    "cnf_matrix = confusion_matrix(y_test, yhat, labels=[1,0])\n",
    "np.set_printoptions(precision=2)\n",
    "\n",
    "\n",
    "# Plot non-normalized confusion matrix\n",
    "plt.figure()\n",
    "plot_confusion_matrix(cnf_matrix, classes=['churn=1','churn=0'],normalize= False,  title='Confusion matrix')"
   ]
  },
  {
   "cell_type": "markdown",
   "metadata": {},
   "source": [
    "Observe a primeira linha. A primeira linha é para os clientes cujo valor real de churn no conjunto de teste é 1. Ao fazer o cálculo sobre um total de 40 clientes, o valor de _churn_ de 15 deles é igual a 1. E entre esses 15, o classificador previu corretamente 6 deles como 1 e 9 deles como 0.\n",
    "\n",
    "Isso significa que, para 6 clientes, o valor real de churn foi 1 no conjunto de teste e o classificador também previu corretamente que seria 1. No entanto, embora o rótulo real de 9 clientes tenha sido 1, o classificador previu que esses seriam 0, o que não é muito bom. Podemos considerá-lo como erro do modelo para a primeira linha.\n",
    "\n",
    "E quanto aos clientes com o valor de churn igual a 0? Observemos a segunda linha. Parece que houve 25 clientes cujo valor de _churn_ foi igual a 0.\n",
    "\n",
    "O classificador previu corretamente 24 deles como 0 e um deles erroneamente como 1. Fez um bom trabalho de previsão de clientes com valor de _churn_ igual a 0. Uma coisa boa sobre a matriz de confusão é que mostra a capacidade do modelo de prever ou separar corretamente as classes. No caso específico do classificador binário, como este exemplo, podemos interpretar esses números como a quantidade de verdadeiros positivos, falsos positivos, verdadeiros negativos e falsos negativos.\n"
   ]
  },
  {
   "cell_type": "code",
   "execution_count": null,
   "metadata": {},
   "outputs": [],
   "source": [
    "print (classification_report(y_test, yhat))\n"
   ]
  },
  {
   "cell_type": "markdown",
   "metadata": {},
   "source": [
    "Com base na quantidade de cada seção, podemos calcular a precisão (precision) e a revocação (recall) de cada rótulo:\n",
    "- A __precisão__ é uma medida da exatidão, desde que se tenha previsto um rótulo de classe. É definida por: precisão = TP / (TP + FP)\n",
    "- A __revocação__ é a taxa de verdadeiros positivos. É definida como: revocação = TP / (TP + FN)\n",
    "Assim, podemos calcular a precisão e a revocação de cada classe.\n",
    "\n",
    "__Valor F1:__ \n",
    "Agora estamos em condições de calcular os valores F1 para cada rótulo a partir da precisão e da revocação do rótulo.\n",
    "\n",
    "O valor F1 é a média harmônica da precisão e da revocação; atinge seu melhor valor em 1 (precisão e revocação perfeitas) e o pior em 0. É uma boa maneira de mostrar que um classificador tem bom valor tanto de revocação quanto de precisão.\n",
    "\n",
    "E, por último, podemos dizer que a precisão média deste classificador é a média do valor F1 de ambos os rótulos, que em nosso caso é 0,72."
   ]
  },
  {
   "cell_type": "markdown",
   "metadata": {},
   "source": [
    "### log loss\n",
    "Agora, vamos tentar avaliar com __log loss__. Na regressão logística, a informação de saída pode ser a probabilidade de haver churn de cliente (ou ser igual a 1). Essa probabilidade é um valor entre 0 e 1. Log loss (perda logarítmica) mede o desempenho de um classificador em que a informação de saída prevista é um valor de probabilidade entre 0 e 1.\n"
   ]
  },
  {
   "cell_type": "code",
   "execution_count": null,
   "metadata": {},
   "outputs": [],
   "source": [
    "from sklearn.metrics import log_loss\n",
    "log_loss(y_test, yhat_prob)"
   ]
  },
  {
   "cell_type": "markdown",
   "metadata": {},
   "source": [
    "## Prática\n",
    "Tente construir novamente um modelo de regressão logística para o mesmo conjunto de dados, mas, desta vez, use valores diferentes de __solucionador [solver]__ e __regularização__. Qual é novo valor de __logLoss__?"
   ]
  },
  {
   "cell_type": "code",
   "execution_count": null,
   "metadata": {},
   "outputs": [],
   "source": [
    "# write your code here\n",
    "\n",
    "\n"
   ]
  },
  {
   "cell_type": "markdown",
   "metadata": {},
   "source": [
    "Double-click __here__ for the solution.\n",
    "\n",
    "<!-- Your answer is below:\n",
    "    \n",
    "LR2 = LogisticRegression(C=0.01, solver='sag').fit(X_train,y_train)\n",
    "yhat_prob2 = LR2.predict_proba(X_test)\n",
    "print (\"LogLoss: : %.2f\" % log_loss(y_test, yhat_prob2))\n",
    "\n",
    "-->"
   ]
  },
  {
   "cell_type": "markdown",
   "metadata": {
    "button": false,
    "new_sheet": false,
    "run_control": {
     "read_only": false
    }
   },
   "source": [
    "## Deseja saber mais?\n",
    "\n",
    "A IBM SPSS Modeler é uma plataforma analítica abrangente que possui muitos algoritmos de aprendizado de máquina. Foi projetada para levar inteligência preditiva às decisões tomadas pelas pessoas, pelos grupos, pelos sistemas e por sua empresa como um todo. Este curso lhe permite acessar uma avaliação gratuita, disponível aqui: [SPSS Modeler](http://cocl.us/ML0101EN-SPSSModeler).\n",
    "\n",
    "Também é possível utilizar o Watson Studio para executar esses notebooks mais rapidamente com conjuntos de dados maiores. O Watson Studio é a solução de nuvem de vanguarda da IBM para cientistas de dados, construída por cientistas de dados. Com os notebooks Jupyter, RStudio, Apache Spark e outras bibliotecas populares pré-empacotadas na nuvem, o Watson Studio permite que os cientistas de dados colaborem em seus projetos sem a necessidade de instalar nada. Junte-se hoje mesmo à comunidade de usuários do Watson Studio, que cresce cada dia mais, com uma conta gratuita em [Watson Studio](https://cocl.us/ML0101EN_DSX)\n",
    "\n",
    "### Obrigado por concluir esta lição!\n",
    "\n",
    "Notebook criado por: <a href = \"https://ca.linkedin.com/in/saeedaghabozorgi\">Saeed Aghabozorgi</a>\n",
    "\n",
    "<hr>\n",
    "\n",
    "Copyright &copy; 2018 [Cognitive Class](https://cocl.us/DX0108EN_CC). Este notebook e seu código-fonte são divulgados de acordo com os termos da [Licença do MIT](https://bigdatauniversity.com/mit-license/).​"
   ]
  },
  {
   "cell_type": "code",
   "execution_count": null,
   "metadata": {},
   "outputs": [],
   "source": []
  }
 ],
 "metadata": {
  "kernelspec": {
   "display_name": "Python 3",
   "language": "python",
   "name": "python3"
  },
  "language_info": {
   "codemirror_mode": {
    "name": "ipython",
    "version": 3
   },
   "file_extension": ".py",
   "mimetype": "text/x-python",
   "name": "python",
   "nbconvert_exporter": "python",
   "pygments_lexer": "ipython3",
   "version": "3.6.6"
  },
  "widgets": {
   "state": {},
   "version": "1.1.2"
  }
 },
 "nbformat": 4,
 "nbformat_minor": 2
}
