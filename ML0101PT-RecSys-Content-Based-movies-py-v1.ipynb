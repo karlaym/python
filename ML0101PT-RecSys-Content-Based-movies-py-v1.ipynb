{
 "cells": [
  {
   "cell_type": "markdown",
   "metadata": {},
   "source": [
    "<a href=\"https://www.bigdatauniversity.com\"><img src = \"https://ibm.box.com/shared/static/cw2c7r3o20w9zn8gkecaeyjhgw3xdgbj.png\" width = 400, align = \"center\"></a>\n",
    "\n",
    "<h1 align=center><font size = 5>FILTRAGEM BASEADA EM CONTEÚDO</font></h1>"
   ]
  },
  {
   "cell_type": "markdown",
   "metadata": {},
   "source": [
    "Os sistemas de recomendação são um conjunto de algoritmos utilizados para recomendar itens aos usuários com base nas informações obtidas do usuário. Esses sistemas tornaram-se onipresentes e podem ser vistos frequentemente em lojas on-line, bancos de dados de filmes e ferramentas de busca de emprego. Neste notebook, estudaremos os sistemas de recomendação baseados em conteúdo e utilizaremos o Python e a biblioteca Pandas para implementar uma versão simples de um sistema de recomendação desse tipo."
   ]
  },
  {
   "cell_type": "markdown",
   "metadata": {},
   "source": [
    "### Índice\n",
    "\n",
    "<div class=\"alert alert-block alert-info\" style=\"margin-top: 20px\">\n",
    "<ul>\n",
    "    <li> <p><a href=\"#ref1\">Aquisição dos dados</a></p> </li>\n",
    "    <li> <p><a href=\"#ref2\">Pré-processamento</a></p> </li>\n",
    "    <li> <p><a href=\"#ref3\">Filtragem baseada em conteúdo</a></p> </li>\n",
    "</ul>\n",
    "<p></p>\n",
    "</div>\n",
    "<br>"
   ]
  },
  {
   "cell_type": "markdown",
   "metadata": {},
   "source": [
    "<a id=\"ref1\"></a>\n",
    "# Aquisição dos dados"
   ]
  },
  {
   "cell_type": "markdown",
   "metadata": {},
   "source": [
    "Para adquirir e extrair os dados, basta executar os seguintes scripts bash:\n",
    "\n",
    "Conjunto de dados obtido de [GroupLens](http://grouplens.org/datasets/movielens/). Vamos baixar o conjunto de dados. Para baixar os dados, utilizaremos o `!wget`. Utilizaremos o `!wget` para baixar os dados a partir do IBM Object Storage.\n",
    "\n",
    "__Você sabia?__ Ao utilizar o aprendizado de máquina, é provável que trabalhe com conjuntos de dados de grandes dimensões. Como empresa, onde você pode hospedar seus dados? A IBM está oferecendo uma oportunidade única para empresas, com 10 TB de armazenamento no IBM Cloud Object Storage: Inscreva-se agora gratuitamente: [Inscreva-se agora gratuitamente](http://cocl.us/ML0101EN-IBM-Offer-CC)"
   ]
  },
  {
   "cell_type": "code",
   "execution_count": null,
   "metadata": {
    "collapsed": false,
    "jupyter": {
     "outputs_hidden": false
    }
   },
   "outputs": [],
   "source": [
    "!wget -O moviedataset.zip https://s3-api.us-geo.objectstorage.softlayer.net/cf-courses-data/CognitiveClass/ML0101ENv3/labs/moviedataset.zip\n",
    "print('unziping ...')\n",
    "!unzip -o -j moviedataset.zip "
   ]
  },
  {
   "cell_type": "markdown",
   "metadata": {},
   "source": [
    "Agora está tudo pronto para começarmos a trabalhar com os dados!"
   ]
  },
  {
   "cell_type": "markdown",
   "metadata": {},
   "source": [
    "<a id=\"ref2\"></a>\n",
    "# Pré-processamento"
   ]
  },
  {
   "cell_type": "markdown",
   "metadata": {},
   "source": [
    "Primeiro, tiramos todas as importações do caminho:"
   ]
  },
  {
   "cell_type": "code",
   "execution_count": null,
   "metadata": {
    "collapsed": false,
    "jupyter": {
     "outputs_hidden": false
    }
   },
   "outputs": [],
   "source": [
    "#Dataframe manipulation library\n",
    "import pandas as pd\n",
    "#Math functions, we'll only need the sqrt function so let's import only that\n",
    "from math import sqrt\n",
    "import numpy as np\n",
    "import matplotlib.pyplot as plt\n",
    "%matplotlib inline"
   ]
  },
  {
   "cell_type": "markdown",
   "metadata": {},
   "source": [
    "Agora, lemos cada arquivo em seus dataframes:"
   ]
  },
  {
   "cell_type": "code",
   "execution_count": null,
   "metadata": {
    "collapsed": false,
    "jupyter": {
     "outputs_hidden": false
    }
   },
   "outputs": [],
   "source": [
    "#Storing the movie information into a pandas dataframe\n",
    "movies_df = pd.read_csv('movies.csv')\n",
    "#Storing the user information into a pandas dataframe\n",
    "ratings_df = pd.read_csv('ratings.csv')\n",
    "#Head is a function that gets the first N rows of a dataframe. N's default is 5.\n",
    "movies_df.head()"
   ]
  },
  {
   "cell_type": "markdown",
   "metadata": {},
   "source": [
    "Também removemos o ano da coluna __title (título)__, utilizando a função replace do Pandas, e o armazenamos em uma nova coluna __year (ano)__."
   ]
  },
  {
   "cell_type": "code",
   "execution_count": null,
   "metadata": {
    "collapsed": false,
    "jupyter": {
     "outputs_hidden": false
    }
   },
   "outputs": [],
   "source": [
    "#Using regular expressions to find a year stored between parentheses\n",
    "#We specify the parantheses so we don't conflict with movies that have years in their titles\n",
    "movies_df['year'] = movies_df.title.str.extract('(\\(\\d\\d\\d\\d\\))',expand=False)\n",
    "#Removing the parentheses\n",
    "movies_df['year'] = movies_df.year.str.extract('(\\d\\d\\d\\d)',expand=False)\n",
    "#Removing the years from the 'title' column\n",
    "movies_df['title'] = movies_df.title.str.replace('(\\(\\d\\d\\d\\d\\))', '')\n",
    "#Applying the strip function to get rid of any ending whitespace characters that may have appeared\n",
    "movies_df['title'] = movies_df['title'].apply(lambda x: x.strip())\n",
    "movies_df.head()"
   ]
  },
  {
   "cell_type": "markdown",
   "metadata": {},
   "source": [
    "Feito isso, também dividimos os valores da coluna __Genres (gêneros)__ em uma __lista de gêneros__ para simplificar o uso posterior. Para isso, aplicamos a função split string do Python à coluna correta."
   ]
  },
  {
   "cell_type": "code",
   "execution_count": null,
   "metadata": {
    "collapsed": false,
    "jupyter": {
     "outputs_hidden": false
    }
   },
   "outputs": [],
   "source": [
    "#Every genre is separated by a | so we simply have to call the split function on |\n",
    "movies_df['genres'] = movies_df.genres.str.split('|')\n",
    "movies_df.head()"
   ]
  },
  {
   "cell_type": "markdown",
   "metadata": {},
   "source": [
    "Uma vez que manter os gêneros em um formato de lista não é o ideal para a técnica de sistema de recomendação baseado em conteúdo, usaremos a técnica One Hot Encoding para converter a lista de gêneros em um vetor no qual cada coluna corresponda a um valor possível da característica. Essa codificação é necessária para utilizarmos dados categóricos como entrada. Nesse caso, armazenamos todos os gêneros diferentes em colunas que contenham 1 ou 0. O 1 indica que um filme tem esse gênero e o 0 indica que não. Também armazenamos esse dataframe em outra variável, já que os gêneros não serão importantes para nosso primeiro sistema de recomendação."
   ]
  },
  {
   "cell_type": "code",
   "execution_count": null,
   "metadata": {
    "collapsed": false,
    "jupyter": {
     "outputs_hidden": false
    }
   },
   "outputs": [],
   "source": [
    "#Copiamos o dataframe de filmes em um novo, pois não precisaremos utilizar a informação sobre o gênero em nosso primeiro caso.\n",
    "moviesWithGenres_df = movies_df.copy()\n",
    "\n",
    "#Para cada linha do dataframe, percorremos a lista de gêneros e colocamos um 1 na coluna correspondente\n",
    "for index, row in movies_df.iterrows():\n",
    "    for genre in row['genres']:\n",
    "        moviesWithGenres_df.at[index, genre] = 1\n",
    "#Preenchemos os valores NaN com 0, para mostrar que o filme não tem o gênero dessa coluna\n",
    "moviesWithGenres_df = moviesWithGenres_df.fillna(0)\n",
    "moviesWithGenres_df.head()"
   ]
  },
  {
   "cell_type": "markdown",
   "metadata": {},
   "source": [
    "Em seguida, observamos o dataframe de classificações."
   ]
  },
  {
   "cell_type": "code",
   "execution_count": null,
   "metadata": {
    "collapsed": false,
    "jupyter": {
     "outputs_hidden": false
    }
   },
   "outputs": [],
   "source": [
    "ratings_df.head()"
   ]
  },
  {
   "cell_type": "markdown",
   "metadata": {},
   "source": [
    "Cada linha do dataframe de classificações tem um ID de usuário associado a pelo menos um filme, uma classificação e uma marca de hora que indica quando o filme foi classificado. Não precisaremos da coluna de marca de hora, então a descartamos para economizar memória."
   ]
  },
  {
   "cell_type": "code",
   "execution_count": null,
   "metadata": {
    "collapsed": false,
    "jupyter": {
     "outputs_hidden": false
    }
   },
   "outputs": [],
   "source": [
    "#Drop removes a specified row or column from a dataframe\n",
    "ratings_df = ratings_df.drop('timestamp', 1)\n",
    "ratings_df.head()"
   ]
  },
  {
   "cell_type": "markdown",
   "metadata": {},
   "source": [
    "<a id=\"ref3\"></a>\n",
    "# Sistema de recomendação baseado em conteúdo"
   ]
  },
  {
   "cell_type": "markdown",
   "metadata": {},
   "source": [
    "Agora vejamos como implementar sistemas de recomendação __baseados em conteúdo__, ou __item-item__. Essa técnica busca descobrir quais são os aspectos favoritos de um item para um usuário e, em seguida, recomenda itens que apresentem esses aspectos. Em nosso caso, tentaremos descobrir os gêneros favoritos do usuário de entrada com base nos filmes e nas classificações dadas.\n",
    "\n",
    "Começamos criando um usuário de entrada ao quem recomendar filmes:\n",
    "\n",
    "Aviso: para acrescentar mais filmes, basta aumentar a quantidade de elementos em __userInput__. Fique à vontade para acrescentar mais filmes! Só não se esqueça de escrevê-los com letras maiúsculas e se um filme começar com a palavra “The”, como em “The Matrix”, escreva-o da seguinte maneira: ‘Matrix, The’ .\n"
   ]
  },
  {
   "cell_type": "code",
   "execution_count": null,
   "metadata": {
    "collapsed": false,
    "jupyter": {
     "outputs_hidden": false
    }
   },
   "outputs": [],
   "source": [
    "userInput = [\n",
    "            {'title':'Breakfast Club, The', 'rating':5},\n",
    "            {'title':'Toy Story', 'rating':3.5},\n",
    "            {'title':'Jumanji', 'rating':2},\n",
    "            {'title':\"Pulp Fiction\", 'rating':5},\n",
    "            {'title':'Akira', 'rating':4.5}\n",
    "         ] \n",
    "inputMovies = pd.DataFrame(userInput)\n",
    "inputMovies"
   ]
  },
  {
   "cell_type": "markdown",
   "metadata": {},
   "source": [
    "#### Adicionar um ID de filme ao usuário de entrada\n",
    "Com o usuário de entrada completo, extraímos os IDs de seus filmes do dataframe de filmes e adicionamos esses IDs ao dataframe de entrada.\n",
    "\n",
    "Uma maneira de fazê-lo é primeiro filtrar as linhas que contêm o título dos filmes do usuário de entrada e, em seguida, combinar esse subconjunto com o dataframe de entrada. Também descartamos as colunas desnecessárias do dataframe de entrada para economizar memória."
   ]
  },
  {
   "cell_type": "code",
   "execution_count": null,
   "metadata": {
    "collapsed": false,
    "jupyter": {
     "outputs_hidden": false
    },
    "scrolled": true
   },
   "outputs": [],
   "source": [
    "#Filtramos os filmes pelo título\n",
    "inputId = movies_df[movies_df['title'].isin(inputMovies['title'].tolist())]\n",
    "#Em seguida, combinamos para obter os IDs dos filmes. Está implicitamente combinando por título.\n",
    "inputMovies = pd.merge(inputId, inputMovies)\n",
    "#Descartamos do dataframe de entrada as informações que não utilizaremos\n",
    "inputMovies = inputMovies.drop('genres', 1).drop('year', 1)\n",
    "#Dataframe de entrada final\n",
    "#Se um filme adicionado antes não aparecer aqui, é possível que não esteja no \n",
    "#dataframe original ou tenha sido escrito de modo diferente. Verifique as letras maiúsculas.\n",
    "inputMovies"
   ]
  },
  {
   "cell_type": "markdown",
   "metadata": {},
   "source": [
    "Vamos começar aprendendo as preferências do usuário de entrada. Para isso, obteremos o subconjunto de filmes aos quais o usuário de entrada assistiu a partir do dataframe que contém os gêneros definidos com valores binários."
   ]
  },
  {
   "cell_type": "code",
   "execution_count": null,
   "metadata": {
    "collapsed": false,
    "jupyter": {
     "outputs_hidden": false
    }
   },
   "outputs": [],
   "source": [
    "#Filtramos os filmes a partir do usuário de entrada\n",
    "userMovies = moviesWithGenres_df[moviesWithGenres_df['movieId'].isin(inputMovies['movieId'].tolist())]\n",
    "userMovies"
   ]
  },
  {
   "cell_type": "markdown",
   "metadata": {},
   "source": [
    "Só precisaremos da tabela de gêneros, então faremos uma limpeza, redefinindo o índice e removendo as colunas “movieId” (ID do filme), “title” (título), “genres” (gêneros) e “year” (ano)."
   ]
  },
  {
   "cell_type": "code",
   "execution_count": null,
   "metadata": {
    "collapsed": false,
    "jupyter": {
     "outputs_hidden": false
    }
   },
   "outputs": [],
   "source": [
    "#Redefinimos o índice para evitar problemas futuros\n",
    "userMovies = userMovies.reset_index(drop=True)\n",
    "#Removemos informações desnecessárias, a fim de liberar memória e evitar problemas\n",
    "userGenreTable = userMovies.drop('movieId', 1).drop('title', 1).drop('genres', 1).drop('year', 1)\n",
    "userGenreTable"
   ]
  },
  {
   "cell_type": "markdown",
   "metadata": {},
   "source": [
    "Agora estamos prontos para aprender as preferências do usuário de entrada!\n",
    "\n",
    "Para fazer isso, transformaremos cada gênero em pesos. Podemos utilizar as classificações do usuário de entrada, multiplicá-las na tabela de gêneros desse usuário e, em seguida, somar a tabela resultante por coluna. Essa operação é, na verdade, um produto escalar entre uma matriz e um vetor, então podemos realizá-la simplesmente chamando a função “dot” do Panda."
   ]
  },
  {
   "cell_type": "code",
   "execution_count": null,
   "metadata": {
    "collapsed": false,
    "jupyter": {
     "outputs_hidden": false
    }
   },
   "outputs": [],
   "source": [
    "inputMovies['rating']"
   ]
  },
  {
   "cell_type": "code",
   "execution_count": null,
   "metadata": {
    "collapsed": false,
    "jupyter": {
     "outputs_hidden": false
    }
   },
   "outputs": [],
   "source": [
    "#Produto escalar para obter os pesos\n",
    "userProfile = userGenreTable.transpose().dot(inputMovies['rating'])\n",
    "#O perfil de usuário\n",
    "userProfile"
   ]
  },
  {
   "cell_type": "markdown",
   "metadata": {},
   "source": [
    "Agora, temos os pesos para cada uma das preferências do usuário. Isso é denominado perfil de usuário. Com esse perfil, podemos recomendar filmes que satisfaçam as preferências do usuário."
   ]
  },
  {
   "cell_type": "markdown",
   "metadata": {},
   "source": [
    "Para começar, extraímos a tabela de gênero do dataframe original:"
   ]
  },
  {
   "cell_type": "code",
   "execution_count": null,
   "metadata": {
    "collapsed": false,
    "jupyter": {
     "outputs_hidden": false
    }
   },
   "outputs": [],
   "source": [
    "#Agora obtemos os gêneros de todos os filmes de nosso dataframe original\n",
    "genreTable = moviesWithGenres_df.set_index(moviesWithGenres_df['movieId'])\n",
    "#E descartamos as informações desnecessárias\n",
    "genreTable = genreTable.drop('movieId', 1).drop('title', 1).drop('genres', 1).drop('year', 1)\n",
    "genreTable.head()"
   ]
  },
  {
   "cell_type": "code",
   "execution_count": null,
   "metadata": {
    "collapsed": false,
    "jupyter": {
     "outputs_hidden": false
    }
   },
   "outputs": [],
   "source": [
    "genreTable.shape"
   ]
  },
  {
   "cell_type": "markdown",
   "metadata": {},
   "source": [
    "Com o perfil do usuário de entrada e a lista completa de filmes e seus gêneros em mãos, calcularemos a média ponderada de cada filme a partir do perfil do usuário de entrada e recomendaremos os vinte filmes que mais o satisfazem."
   ]
  },
  {
   "cell_type": "code",
   "execution_count": null,
   "metadata": {
    "collapsed": false,
    "jupyter": {
     "outputs_hidden": false
    }
   },
   "outputs": [],
   "source": [
    "#Multiplicamos os gêneros pelos pesos e, em seguida, calculamos a média ponderada\n",
    "recommendationTable_df = ((genreTable*userProfile).sum(axis=1))/(userProfile.sum())\n",
    "recommendationTable_df.head()"
   ]
  },
  {
   "cell_type": "code",
   "execution_count": null,
   "metadata": {
    "collapsed": false,
    "jupyter": {
     "outputs_hidden": false
    }
   },
   "outputs": [],
   "source": [
    "#Ordenamos nossas recomendações em ordem decrescente\n",
    "recommendationTable_df = recommendationTable_df.sort_values(ascending=False)\n",
    "#Vamos dar uma olhadinha nos valores\n",
    "recommendationTable_df.head()"
   ]
  },
  {
   "cell_type": "markdown",
   "metadata": {},
   "source": [
    "Aqui está a tabela de recomendações!"
   ]
  },
  {
   "cell_type": "code",
   "execution_count": null,
   "metadata": {
    "collapsed": false,
    "jupyter": {
     "outputs_hidden": false
    },
    "scrolled": true
   },
   "outputs": [],
   "source": [
    "#Tabela de recomendações final\n",
    "movies_df.loc[movies_df['movieId'].isin(recommendationTable_df.head(20).keys())]"
   ]
  },
  {
   "cell_type": "markdown",
   "metadata": {},
   "source": [
    "#### Vantagens e desvantagens da filtragem baseada em conteúdo\n",
    "\n",
    "##### Vantagens\n",
    "* Aprende as preferências do usuário\n",
    "* Altamente personalizada para o usuário\n",
    "\n",
    "##### Desvantagens\n",
    "* Não leva em conta a opinião de outras pessoas sobre o item, podendo gerar recomendações de baixa qualidade\n",
    "* A extração dos dados nem sempre é intuitiva\n",
    "* Nem sempre é óbvio determinar as características do item que o usuário gosta ou não gosta"
   ]
  },
  {
   "cell_type": "markdown",
   "metadata": {},
   "source": [
    "## Deseja saber mais?\n",
    "\n",
    "A IBM SPSS Modeler é uma plataforma analítica abrangente que possui muitos algoritmos de aprendizado de máquina. Foi projetada para levar inteligência preditiva às decisões tomadas pelas pessoas, pelos grupos, pelos sistemas e por sua empresa como um todo. Este curso lhe permite acessar uma avaliação gratuita, disponível aqui: [SPSS Modeler](http://cocl.us/ML0101EN-SPSSModeler).\n",
    "\n",
    "Também é possível utilizar o Watson Studio para executar esses notebooks mais rapidamente com conjuntos de dados maiores. O Watson Studio é a solução de nuvem de vanguarda da IBM para cientistas de dados, construída por cientistas de dados. Com os notebooks Jupyter, RStudio, Apache Spark e outras bibliotecas populares pré-empacotadas na nuvem, o Watson Studio permite que os cientistas de dados colaborem em seus projetos sem a necessidade de instalar nada. Junte-se hoje mesmo à comunidade de usuários do Watson Studio, que cresce cada dia mais, com uma conta gratuita em [Watson Studio](https://cocl.us/ML0101EN_DSX)\n",
    "\n",
    "### Obrigado por concluir esta lição!\n",
    "\n",
    "Notebook criado por: <a href = \"https://ca.linkedin.com/in/saeedaghabozorgi\">Saeed Aghabozorgi</a>\n",
    "\n",
    "<hr>\n",
    "\n",
    "Copyright &copy; 2018 [Cognitive Class](https://cocl.us/DX0108EN_CC). Este notebook e seu código-fonte são divulgados de acordo com os termos da [Licença do MIT](https://bigdatauniversity.com/mit-license/).​"
   ]
  },
  {
   "cell_type": "code",
   "execution_count": null,
   "metadata": {},
   "outputs": [],
   "source": []
  }
 ],
 "metadata": {
  "kernelspec": {
   "display_name": "Python",
   "language": "python",
   "name": "conda-env-python-py"
  },
  "language_info": {
   "codemirror_mode": {
    "name": "ipython",
    "version": 3
   },
   "file_extension": ".py",
   "mimetype": "text/x-python",
   "name": "python",
   "nbconvert_exporter": "python",
   "pygments_lexer": "ipython3",
   "version": "3.6.10"
  },
  "widgets": {
   "state": {},
   "version": "1.1.2"
  }
 },
 "nbformat": 4,
 "nbformat_minor": 4
}
