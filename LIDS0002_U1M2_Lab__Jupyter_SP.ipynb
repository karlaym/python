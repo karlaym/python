{
 "cells": [
  {
   "cell_type": "markdown",
   "metadata": {},
   "source": [
    "<img src=\"https://ibm.box.com/shared/static/ugcqz6ohbvff804xp84y4kqnvvk3bq1g.png\" width=200>"
   ]
  },
  {
   "cell_type": "markdown",
   "metadata": {},
   "source": [
    "## <center> Comenzando a usar libretas de Jupyter en Cognitive Class Labs"
   ]
  },
  {
   "cell_type": "markdown",
   "metadata": {},
   "source": [
    "Las Jupyter Notebooks o libretas de Jupyter, que anteriormente se denominaban «libretas de IPython», son una herramienta excelente que todos los científicos de datos deberían conocer. Se trata de una herramienta de ciencia de datos de código abierto que le permite escribir y ejecutar código, y agregar texto e imágenes; todo desde el mismo «documento», que se nomina libreta o notebook. \n",
    "\n",
    "Por ejemplo, la celda gris que se muestra a continuación es una _celda de código_. En estas celdas, puede escribir código y ejecutarlo. Intente ejecutar la siguiente celda de código:"
   ]
  },
  {
   "cell_type": "markdown",
   "metadata": {},
   "source": [
    "Haga clic en la siguiente celda y presione $Shift+Intro$  en su teclado para ejecutar el código: "
   ]
  },
  {
   "cell_type": "code",
   "execution_count": 2,
   "metadata": {
    "collapsed": false,
    "jupyter": {
     "outputs_hidden": false
    }
   },
   "outputs": [
    {
     "name": "stdout",
     "output_type": "stream",
     "text": [
      "¡Hola a todos Mascotas!\n"
     ]
    }
   ],
   "source": [
    "x = \"¡Hola a todos Mascotas!\"\n",
    "print(x)"
   ]
  },
  {
   "cell_type": "markdown",
   "metadata": {},
   "source": [
    "Se ejecutó el código con el intérprete específico de esta libreta. En esta libreta, se utiliza **Python 3** de forma predeterminada; debería ver esta información en la esquina superior derecha. También puede elegir otros intérpretes (por ejemplo, Python 2, R, Scala), pero veremos esto en detalle más adelante. Por el momento, debe recordar que puede usar un solo lenguaje de programación al mismo tiempo en una libreta de Jupyter."
   ]
  },
  {
   "cell_type": "markdown",
   "metadata": {},
   "source": [
    "Tenga en cuenta que las variables que cree se almacenarán en **la memoria**. Por ejemplo, si vuelve a ejecutar `print(x)`, se usará el valor que se asignó anteriormente a x (\"¡Hola a todos!\"). \n",
    "\n",
    "Intente ejecutar la siguiente celda:"
   ]
  },
  {
   "cell_type": "code",
   "execution_count": 2,
   "metadata": {
    "collapsed": false,
    "jupyter": {
     "outputs_hidden": false
    }
   },
   "outputs": [
    {
     "name": "stdout",
     "output_type": "stream",
     "text": [
      "¡Hola a todos!\n"
     ]
    }
   ],
   "source": [
    "print(x)"
   ]
  },
  {
   "cell_type": "markdown",
   "metadata": {},
   "source": [
    "También puede intentar **crear sus propias celdas de código**. \n",
    "\n",
    "Haga un solo clic en la línea que está debajo; en el menú principal, haga clic en **Insert (Insertar) -> Insert Cell Below (Insertar celda abajo)** para crear una nueva celda de código. \n",
    "\n",
    "Ahora intente crear una nueva celda de código. "
   ]
  },
  {
   "cell_type": "markdown",
   "metadata": {},
   "source": [
    "<hr>insert"
   ]
  },
  {
   "cell_type": "code",
   "execution_count": 3,
   "metadata": {},
   "outputs": [
    {
     "name": "stdout",
     "output_type": "stream",
     "text": [
      "22\n"
     ]
    }
   ],
   "source": [
    "z = 2+20\n",
    "print (z)"
   ]
  },
  {
   "cell_type": "markdown",
   "metadata": {},
   "source": [
    "Ahora sabe cómo crear una celda de código. Intente escribir algo como: \n",
    "```\n",
    "y = 1 + 1\n",
    "print(y)\n",
    "```\n",
    "y ejecutarlo. "
   ]
  },
  {
   "cell_type": "code",
   "execution_count": 5,
   "metadata": {},
   "outputs": [
    {
     "name": "stdout",
     "output_type": "stream",
     "text": [
      "2\n"
     ]
    }
   ],
   "source": [
    "y = 1 + 1\n",
    "print(y)"
   ]
  },
  {
   "cell_type": "markdown",
   "metadata": {},
   "source": [
    "### Celdas markdown"
   ]
  },
  {
   "cell_type": "markdown",
   "metadata": {},
   "source": [
    "A estas alturas, es posible que se pregunte cómo agregar texto (como esta oración) en su libreta. Estas son celdas especiales que se denominan **celdas markdown**. _Markdown_ simplemente se refiere al estilo de formato. \n",
    "\n",
    "Para crear una celda markdown, haga clic en una celda de código y luego conviértala en «markdown». Para ello, haga clic en el menú desplegable y seleccione «Markdown». "
   ]
  },
  {
   "cell_type": "markdown",
   "metadata": {
    "jupyter": {
     "outputs_hidden": false
    }
   },
   "source": [
    "Intente convertir esto en una celda markdown y luego presione \"Shift+Intro\". "
   ]
  },
  {
   "cell_type": "markdown",
   "metadata": {},
   "source": [
    "Para **editar celdas markdown**, simplemente debe hacer doble clic en cualquier lugar de la celda para habilitar la edición. "
   ]
  },
  {
   "cell_type": "markdown",
   "metadata": {},
   "source": [
    "Gracias a la combinación de documentación de texto y escritura y ejecución de código, estas libretas son ideales para proyectos de ciencia de datos. "
   ]
  },
  {
   "cell_type": "markdown",
   "metadata": {},
   "source": [
    "## A continuación, incluimos algunas sugerencias y trucos que puede usar con el formato markdown:"
   ]
  },
  {
   "cell_type": "markdown",
   "metadata": {},
   "source": [
    "<a id=\"Cambie esto en una celda de código\"></a>\n",
    "# Fantástico\n",
    "## Wow\n",
    "### Sorprendente\n",
    "#### Genial\n",
    "\n",
    "1. Comer\n",
    "2. _Dormir_\n",
    "3. **Escribir código**\n",
    "> Desarrollar modelos de aprendizaje automático\n",
    "\n",
    "<center>`Escribir más código`</center>\n",
    "\n",
    "- haga doble clic para editar esta celda \n",
    "- memo\n",
    "\n",
    "Crear $funciones$ sofisticadas\n",
    "\n",
    "<font color=\"red\">Ciencias de Datos</font>  \n",
    "\n",
    "<img src=\"https://upload.wikimedia.org/wikipedia/en/0/00/IBM_Watson_Logo_2017.png\" width=100 align=left>  "
   ]
  },
  {
   "cell_type": "markdown",
   "metadata": {},
   "source": [
    "# <center> Consejos avanzados: </center>"
   ]
  },
  {
   "cell_type": "markdown",
   "metadata": {},
   "source": [
    "### Cómo crear nuevas libretas"
   ]
  },
  {
   "cell_type": "markdown",
   "metadata": {},
   "source": [
    "Para crear su propia (y nueva) libreta, haga clic en File (Archivo) > New Notebook (Nueva libreta). "
   ]
  },
  {
   "cell_type": "markdown",
   "metadata": {},
   "source": [
    "### Cómo importar libretas "
   ]
  },
  {
   "cell_type": "markdown",
   "metadata": {},
   "source": [
    "Para importar una libreta desde otra ubicación, puede arrastrar el archivo de libreta .ipynb y soltarlo directamente en el explorador de archivos que está a la izquierda. Esto cargará su archivo .ipynb directamente en su cuenta. "
   ]
  },
  {
   "cell_type": "markdown",
   "metadata": {},
   "source": [
    "### Cómo guardar libretas "
   ]
  },
  {
   "cell_type": "markdown",
   "metadata": {},
   "source": [
    "Las libretas se guardan automáticamente cada 120 segundos. Para guardarlas manualmente, haga clic en **File (Archivo) -> Save Notebook (Guardar libreta)** en el menú. "
   ]
  },
  {
   "cell_type": "markdown",
   "metadata": {},
   "source": [
    "### Cómo eliminar libretas"
   ]
  },
  {
   "cell_type": "markdown",
   "metadata": {},
   "source": [
    "Para eliminar una libreta, en el explorador de archivos que está a la izquierda, haga **clic derecho** en un archivo y seleccione **Delete (Eliminar)**."
   ]
  },
  {
   "cell_type": "markdown",
   "metadata": {},
   "source": [
    "### Cómo cambiar el nombre de una libreta "
   ]
  },
  {
   "cell_type": "markdown",
   "metadata": {},
   "source": [
    "Para cambiar el nombre de una libreta, en el explorador de archivos que está a la izquierda, haga **clic derecho** en un archivo y seleccione **Rename (Cambiar nombre)**."
   ]
  },
  {
   "cell_type": "markdown",
   "metadata": {},
   "source": [
    "<hr>"
   ]
  },
  {
   "cell_type": "markdown",
   "metadata": {},
   "source": [
    "## ¿Quiere obtener más información?\n",
    "\n",
    "Esta libreta de laboratorio se incluye en el curso [Data Science Hands-on with Open Source Tools](http://cocl.us/DS0105EN_Coursepage) (Práctica de ciencia de datos con herramienta de código abierto).\n",
    "\n",
    "**¿Sabía qué?**  SPSS Modeler de IBM es una plataforma integral de análisis que cuenta con muchos algoritmos de aprendizaje automático. Se diseñó para integrar inteligencia predictiva en las decisiones que toman las personas, los grupos, los sistemas o incluso toda una empresa. En este curso se ofrece una prueba gratuita, que está disponible aquí: [SPSS Modeler](http://cocl.us/DS0105EN_SPSSMod_win)\n",
    "\n",
    "Asimismo, puede usar Watson Studio para ejecutar estas libretas más rápidamente con conjuntos de datos más grandes. Data Science Experience es la solución líder de IBM en la nube para ciencia de datos, construida por científicos de datos. Con las libretas de Jupyter, RStudio, Apache Spark y las bibliotecas populares incluidas de forma predeterminada en la nube, Watson Studio permite a los científicos de datos colaborar en sus proyectos e incorporar la IA de Watson de IBM. Si quiere unirse a la creciente comunidad de usuarios de Watson Studio, cree una cuenta gratuita en [Watson Studio](http://cocl.us/DS0105EN_DSX)\n",
    "\n"
   ]
  },
  {
   "cell_type": "code",
   "execution_count": null,
   "metadata": {},
   "outputs": [],
   "source": []
  }
 ],
 "metadata": {
  "kernelspec": {
   "display_name": "Python",
   "language": "python",
   "name": "conda-env-python-py"
  },
  "language_info": {
   "codemirror_mode": {
    "name": "ipython",
    "version": 3
   },
   "file_extension": ".py",
   "mimetype": "text/x-python",
   "name": "python",
   "nbconvert_exporter": "python",
   "pygments_lexer": "ipython3",
   "version": "3.6.10"
  },
  "widgets": {
   "state": {},
   "version": "1.1.2"
  }
 },
 "nbformat": 4,
 "nbformat_minor": 4
}
