{
 "cells": [
  {
   "cell_type": "markdown",
   "metadata": {
    "button": false,
    "deletable": true,
    "new_sheet": false,
    "run_control": {
     "read_only": false
    }
   },
   "source": [
    "<a href=\"https://www.bigdatauniversity.com\"><img src = \"https://ibm.box.com/shared/static/cw2c7r3o20w9zn8gkecaeyjhgw3xdgbj.png\" width = 400, align = \"center\"></a>\n",
    "\n",
    "# <center>Agrupamento por k-médias</center>"
   ]
  },
  {
   "cell_type": "markdown",
   "metadata": {
    "button": false,
    "deletable": true,
    "new_sheet": false,
    "run_control": {
     "read_only": false
    }
   },
   "source": [
    "## Introdução\n",
    "\n",
    "Existem muitos modelos de **agrupamento** por aí. Neste caderno, apresentaremos o modelo que é considerado o mais simples. Apesar de sua simplicidade, o modelo de **k-médias** é amplamente utilizado para agrupamento em muitas aplicações da ciência de dados e é especialmente útil quando se precisa obter rapidamente informações sobre **dados não rotulados**. Neste caderno, aprenderemos a usar o k-médias para fazer segmentação de clientes.\n",
    "\n",
    "Algumas aplicações práticas do agrupamento por k-médias:\n",
    "- Segmentação de clientes\n",
    "- Compreensão sobre as intenções dos visitantes de um site da internet\n",
    "- Reconhecimento de padrões\n",
    "- Aprendizado de máquina\n",
    "- Compressão de dados\n",
    "\n",
    "Neste caderno, praticaremos o agrupamento por k-médias com 2 exemplos:\n",
    "- k-médias em um conjunto de dados gerado aleatoriamente e\n",
    "- Uso do modelo de k-médias para segmentação de clientes"
   ]
  },
  {
   "cell_type": "markdown",
   "metadata": {
    "button": false,
    "deletable": true,
    "new_sheet": false,
    "run_control": {
     "read_only": false
    }
   },
   "source": [
    "### Bibliotecas de importação\n",
    "Primeiro importaremos as bibliotecas necessárias. \n",
    "Também executaremos  <b> %matplotlib inline </b>, já que faremos uma representação gráfica nesta seção."
   ]
  },
  {
   "cell_type": "code",
   "execution_count": null,
   "metadata": {
    "button": false,
    "collapsed": true,
    "deletable": true,
    "jupyter": {
     "outputs_hidden": true
    },
    "new_sheet": false,
    "run_control": {
     "read_only": false
    }
   },
   "outputs": [],
   "source": [
    "import random \n",
    "import numpy as np \n",
    "import matplotlib.pyplot as plt \n",
    "from sklearn.cluster import KMeans \n",
    "from sklearn.datasets.samples_generator import make_blobs \n",
    "%matplotlib inline"
   ]
  },
  {
   "cell_type": "markdown",
   "metadata": {
    "button": false,
    "deletable": true,
    "new_sheet": false,
    "run_control": {
     "read_only": false
    }
   },
   "source": [
    "# k-médias em um conjunto de dados gerado aleatoriamente\n",
    "Vamos criar nosso próprio conjunto de dados para este laboratório!\n"
   ]
  },
  {
   "cell_type": "markdown",
   "metadata": {
    "button": false,
    "deletable": true,
    "new_sheet": false,
    "run_control": {
     "read_only": false
    }
   },
   "source": [
    "Primeiro, precisamos configurar uma semente geradora de números aleatórios. Usamos a função <b>random.seed() do numpy</b>, com a qual definimos a semente como <b>0</b>"
   ]
  },
  {
   "cell_type": "code",
   "execution_count": null,
   "metadata": {
    "button": false,
    "collapsed": true,
    "deletable": true,
    "jupyter": {
     "outputs_hidden": true
    },
    "new_sheet": false,
    "run_control": {
     "read_only": false
    }
   },
   "outputs": [],
   "source": [
    "np.random.seed(0)"
   ]
  },
  {
   "cell_type": "markdown",
   "metadata": {
    "button": false,
    "deletable": true,
    "new_sheet": false,
    "run_control": {
     "read_only": false
    }
   },
   "source": [
    "Em seguida, criaremos clusters aleatórios de pontos usando a classe <b> make_blobs </b> class. A classe <b> make_blobs </b> aceita muitos dados de entrada, mas usaremos apenas os seguintes. <br> <br>\n",
    "<b> <u> Entrada </u> </b>\n",
    "<ul>\n",
    "    <li> <b>n_samples</b>: O número total de pontos divididos igualmente entre os <i>clusters</i>. </li>\n",
    "    <ul> <li> O valor será: 5000 </li> </ul>\n",
    "    <li> <b>centers</b>: A quantidade de centros a serem gerados ou a localização fixa dos centros. </li>\n",
    "    <ul> <li> O valor será: [[4, 4], [-2, -1], [2, -3],[1,1]] </li> </ul>\n",
    "    <li> <b>cluster_std</b>: O desvio padrão <i>dos clusters</i>. </li>\n",
    "    <ul> <li> O valor será: 0.9 </li> </ul>\n",
    "</ul>\n",
    "<br>\n",
    "<b> <u> Salida </u> </b>\n",
    "<ul>\n",
    "    <li> <b>X</b>: Arranjo da forma [n_samples, n_features]. (matriz de características)</li>\n",
    "    <ul> <li> As amostras geradas. </li> </ul> \n",
    "    <li> <b>y</b>: Arranjo da forma [n_samples]. (Vetor de resposta)</li>\n",
    "    <ul> <li> Os rótulos inteiros de associação a <i>clusters</i> de cada amostra. </li> </ul>\n",
    "</ul>\n"
   ]
  },
  {
   "cell_type": "code",
   "execution_count": null,
   "metadata": {
    "button": false,
    "collapsed": true,
    "deletable": true,
    "jupyter": {
     "outputs_hidden": true
    },
    "new_sheet": false,
    "run_control": {
     "read_only": false
    }
   },
   "outputs": [],
   "source": [
    "X, y = make_blobs(n_samples=5000, centers=[[4,4], [-2, -1], [2, -3], [1, 1]], cluster_std=0.9)"
   ]
  },
  {
   "cell_type": "markdown",
   "metadata": {
    "button": false,
    "deletable": true,
    "new_sheet": false,
    "run_control": {
     "read_only": false
    }
   },
   "source": [
    "Mostramos o gráfico de dispersão dos dados gerados aleatoriamente."
   ]
  },
  {
   "cell_type": "code",
   "execution_count": null,
   "metadata": {
    "button": false,
    "collapsed": false,
    "deletable": true,
    "jupyter": {
     "outputs_hidden": false
    },
    "new_sheet": false,
    "run_control": {
     "read_only": false
    }
   },
   "outputs": [],
   "source": [
    "plt.scatter(X[:, 0], X[:, 1], marker='.')"
   ]
  },
  {
   "cell_type": "markdown",
   "metadata": {
    "button": false,
    "deletable": true,
    "new_sheet": false,
    "run_control": {
     "read_only": false
    }
   },
   "source": [
    "## Configuração do agrupamento por k-médias\n",
    "Agora que temos nossos dados aleatórios, configuraremos nosso agrupamento por k-médias."
   ]
  },
  {
   "cell_type": "markdown",
   "metadata": {
    "button": false,
    "deletable": true,
    "new_sheet": false,
    "run_control": {
     "read_only": false
    }
   },
   "source": [
    "A classe KMeans possui muitos parâmetros que podem ser usados, mas usaremos estes três:\n",
    "<ul>\n",
    "    <li> <b>init</b>: Método de inicialização dos centroides. </li>\n",
    "    <ul>\n",
    "        <li> O valor será: \"k-means++\" </li>\n",
    "        <li> k-means++: Seleciona de maneira inteligente os centros de clusters iniciais para agrupamento por k-médias, a fim de acelerar a convergência.</li>\n",
    "    </ul>\n",
    "    <li> <b>n\\_clusters</b>: A quantidade de <i>clusters</i> que serão formados e a quantidade de centroides que serão gerados. </li>\n",
    "    <ul> <li> O valor será: 4 (since we have 4 centers)</li> </ul>\n",
    "    <li> <b>n\\_init</b>: Número de vezes que o algoritmo de k-médias será executado com diferentes sementes de centroides. Os resultados finais serão os melhores resultados obtidos de n\\_init execuções consecutivas em termos de inércia. </li>\n",
    "    <ul> <li> O valor será: 12 </li> </ul>\n",
    "</ul>\n",
    "\n",
    "Iniciamos o algoritmo de k-médias com estes parâmetros, onde o parâmetro de saída é chamado <b>k_means</b>."
   ]
  },
  {
   "cell_type": "code",
   "execution_count": null,
   "metadata": {
    "button": false,
    "collapsed": true,
    "deletable": true,
    "jupyter": {
     "outputs_hidden": true
    },
    "new_sheet": false,
    "run_control": {
     "read_only": false
    }
   },
   "outputs": [],
   "source": [
    "k_means = KMeans(init = \"k-means++\", n_clusters = 4, n_init = 12)"
   ]
  },
  {
   "cell_type": "markdown",
   "metadata": {
    "button": false,
    "deletable": true,
    "new_sheet": false,
    "run_control": {
     "read_only": false
    }
   },
   "source": [
    "Agora aplicamos o modelo KMeans à matriz de características que criamos anteriormente, <b> X </b>"
   ]
  },
  {
   "cell_type": "code",
   "execution_count": null,
   "metadata": {
    "button": false,
    "collapsed": false,
    "deletable": true,
    "jupyter": {
     "outputs_hidden": false
    },
    "new_sheet": false,
    "run_control": {
     "read_only": false
    }
   },
   "outputs": [],
   "source": [
    "k_means.fit(X)"
   ]
  },
  {
   "cell_type": "markdown",
   "metadata": {
    "button": false,
    "deletable": true,
    "new_sheet": false,
    "run_control": {
     "read_only": false
    }
   },
   "source": [
    "Agora vamos pegar os rótulos de cada ponto do modelo mediante o uso do atributo <b> .labels\\_ </b> do KMeans e salvá-los como <b> k_means_labels </b>"
   ]
  },
  {
   "cell_type": "code",
   "execution_count": null,
   "metadata": {
    "button": false,
    "collapsed": false,
    "deletable": true,
    "jupyter": {
     "outputs_hidden": false
    },
    "new_sheet": false,
    "run_control": {
     "read_only": false
    }
   },
   "outputs": [],
   "source": [
    "k_means_labels = k_means.labels_\n",
    "k_means_labels"
   ]
  },
  {
   "cell_type": "markdown",
   "metadata": {
    "button": false,
    "deletable": true,
    "new_sheet": false,
    "run_control": {
     "read_only": false
    }
   },
   "source": [
    "Também vamos tomar as coordenadas dos centros dos clusters com o <b> .cluster&#95;centers&#95; </b> do KMeans e salvá-las como <b> k_means_cluster_centers </b>"
   ]
  },
  {
   "cell_type": "code",
   "execution_count": null,
   "metadata": {
    "button": false,
    "collapsed": true,
    "deletable": true,
    "jupyter": {
     "outputs_hidden": true
    },
    "new_sheet": false,
    "run_control": {
     "read_only": false
    }
   },
   "outputs": [],
   "source": [
    "k_means_cluster_centers = k_means.cluster_centers_\n",
    "k_means_cluster_centers"
   ]
  },
  {
   "cell_type": "markdown",
   "metadata": {
    "button": false,
    "deletable": true,
    "new_sheet": false,
    "run_control": {
     "read_only": false
    }
   },
   "source": [
    "## Criação da representação visual\n",
    "\n",
    "Agora que geramos os dados aleatórios e iniciamos o modelo de k-médias, vamos representá-los em um gráfico!"
   ]
  },
  {
   "cell_type": "markdown",
   "metadata": {
    "button": false,
    "deletable": true,
    "new_sheet": false,
    "run_control": {
     "read_only": false
    }
   },
   "source": [
    "Leia o código e os comentários para entender como plotar o modelo."
   ]
  },
  {
   "cell_type": "code",
   "execution_count": null,
   "metadata": {
    "button": false,
    "collapsed": false,
    "deletable": true,
    "jupyter": {
     "outputs_hidden": false
    },
    "new_sheet": false,
    "run_control": {
     "read_only": false
    }
   },
   "outputs": [],
   "source": [
    "# Iniciamos a representação gráfica com as dimensões especificadas.\n",
    "fig = plt.figure(figsize=(6, 4))\n",
    "\n",
    "# Colors usa um mapa de cores que produz uma matriz de cores baseada no\n",
    "# número de rótulos existentes. Utilizamos set(k_means_labels) para obter os\n",
    "# rótulos únicos.\n",
    "colors = plt.cm.Spectral(np.linspace(0, 1, len(set(k_means_labels))))\n",
    "\n",
    "# Criamos um gráfico\n",
    "ax = fig.add_subplot(1, 1, 1)\n",
    "\n",
    "# Para o loop que representa graficamente os pontos de dados e os centroides.\n",
    "# o valor de k variará entre 0 e 3, que coincidirá com os possíveis clusters nos quais cada\n",
    "# ponto de dados está.\n",
    "\n",
    "for k, col in zip(range(len([[4,4], [-2, -1], [2, -3], [1, 1]])), colors):\n",
    "\n",
    "    #Criamos uma lista de todos os pontos de dados, na qual aqueles que estão \n",
    "    # no cluster (ex.: cluster 0) são rotulados como verdadeiros, e os que não estão são\n",
    "    # rotulados como falsos.\n",
    "    my_members = (k_means_labels == k)\n",
    "    \n",
    "    # Definimos o centroide ou o centro do cluster.\n",
    "    cluster_center = k_means_cluster_centers[k]\n",
    "    \n",
    "    # Plotamos os pontos de dados com color col.\n",
    "    ax.plot(X[my_members, 0], X[my_members, 1], 'w', markerfacecolor=col, marker='.')\n",
    "    \n",
    "    # Plotamos os centroides com a cor especificada, porém com um contorno mais escuro\n",
    "    ax.plot(cluster_center[0], cluster_center[1], 'o', markerfacecolor=col,  markeredgecolor='k', markersize=6)\n",
    "\n",
    "# Título do gráfico\n",
    "ax.set_title('KMeans')\n",
    "\n",
    "# Removemos as marcas de verificação do eixo x\n",
    "ax.set_xticks(())\n",
    "\n",
    "# Removemos as marcas de verificação do eixo y\n",
    "ax.set_yticks(())\n",
    "\n",
    "# Mostramos a representação gráfica\n",
    "plt.show()\n"
   ]
  },
  {
   "cell_type": "markdown",
   "metadata": {},
   "source": [
    "## Prática\n",
    "Tente agrupar o conjunto de dados acima em 3 clusters.\n",
    "Aviso: não gere dados novamente, use o mesmo conjunto de dados de antes."
   ]
  },
  {
   "cell_type": "code",
   "execution_count": null,
   "metadata": {},
   "outputs": [],
   "source": [
    "# write your code here\n",
    "\n",
    "\n",
    "\n"
   ]
  },
  {
   "cell_type": "markdown",
   "metadata": {},
   "source": [
    "Clique duas vezes __aqui__ para ver a solução.\n",
    "\n",
    "<!-- Your answer is below:\n",
    "\n",
    "k_means3 = KMeans(init = \"k-means++\", n_clusters = 3, n_init = 12)\n",
    "k_means3.fit(X)\n",
    "fig = plt.figure(figsize=(6, 4))\n",
    "colors = plt.cm.Spectral(np.linspace(0, 1, len(set(k_means3.labels_))))\n",
    "ax = fig.add_subplot(1, 1, 1)\n",
    "for k, col in zip(range(len(k_means3.cluster_centers_)), colors):\n",
    "    my_members = (k_means3.labels_ == k)\n",
    "    cluster_center = k_means3.cluster_centers_[k]\n",
    "    ax.plot(X[my_members, 0], X[my_members, 1], 'w', markerfacecolor=col, marker='.')\n",
    "    ax.plot(cluster_center[0], cluster_center[1], 'o', markerfacecolor=col,  markeredgecolor='k', markersize=6)\n",
    "plt.show()\n",
    "\n",
    "\n",
    "-->"
   ]
  },
  {
   "cell_type": "markdown",
   "metadata": {
    "button": false,
    "deletable": true,
    "new_sheet": false,
    "run_control": {
     "read_only": false
    }
   },
   "source": [
    "# Segmentação de clientes com o método de k-médias\n",
    "Imagine que você tem um conjunto de dados de clientes e precisa aplicar a segmentação de clientes nesses dados históricos. \n",
    "A segmentação de clientes consiste em particionar uma base de clientes em grupos de indivíduos que possuem características semelhantes. É uma estratégia valiosa, pois uma empresa pode segmentar esses grupos específicos de clientes para alocar recursos de marketing com maior eficácia. Por exemplo: um grupo pode conter clientes de alto lucro e baixo risco, ou seja, com maior probabilidade de comprar produtos ou assinar um serviço. Uma tarefa da empresa é reter esses clientes. Outro grupo pode incluir clientes de organizações sem fins lucrativos. E assim por diante.\n",
    "\n",
    "Vamos baixar o conjunto de dados. Para baixar os dados, utilizaremos o **`!wget`**. Utilizaremos o `!wget` para baixar os dados a partir do IBM Object Storage. \n",
    "__Você sabia?__ Ao utilizar o aprendizado de máquina, é provável que trabalhe com conjuntos de dados de grandes dimensões. Como empresa, onde você pode hospedar seus dados? A IBM está oferecendo uma oportunidade única para empresas, com 10 TB de armazenamento no IBM Cloud Object Storage: [Inscreva-se agora gratuitamente](http://cocl.us/ML0101EN-IBM-Offer-CC)"
   ]
  },
  {
   "cell_type": "code",
   "execution_count": null,
   "metadata": {
    "button": false,
    "collapsed": false,
    "deletable": true,
    "jupyter": {
     "outputs_hidden": false
    },
    "new_sheet": false,
    "run_control": {
     "read_only": false
    }
   },
   "outputs": [],
   "source": [
    "!wget -O Cust_Segmentation.csv https://s3-api.us-geo.objectstorage.softlayer.net/cf-courses-data/CognitiveClass/ML0101ENv3/labs/Cust_Segmentation.csv"
   ]
  },
  {
   "cell_type": "markdown",
   "metadata": {
    "button": false,
    "deletable": true,
    "new_sheet": false,
    "run_control": {
     "read_only": false
    }
   },
   "source": [
    "### Carregar dados a partir do arquivo CSV\n",
    "Antes de poder trabalhar com os dados, você deve usar o URL para obter o arquivo Cust_Segmentation.csv."
   ]
  },
  {
   "cell_type": "code",
   "execution_count": null,
   "metadata": {
    "button": false,
    "collapsed": false,
    "deletable": true,
    "jupyter": {
     "outputs_hidden": false
    },
    "new_sheet": false,
    "run_control": {
     "read_only": false
    }
   },
   "outputs": [],
   "source": [
    "import pandas as pd\n",
    "cust_df = pd.read_csv(\"Cust_Segmentation.csv\")\n",
    "cust_df.head()"
   ]
  },
  {
   "cell_type": "markdown",
   "metadata": {},
   "source": [
    "### Pré-processamento"
   ]
  },
  {
   "cell_type": "markdown",
   "metadata": {
    "button": false,
    "deletable": true,
    "new_sheet": false,
    "run_control": {
     "read_only": false
    }
   },
   "source": [
    "Como podemos observar, o __endereço [Address]__ neste conjunto de dados é uma variável categórica. O algoritmo k-médias não é diretamente aplicável a variáveis categóricas porque a função de distância euclidiana não é realmente significativa para variáveis discretas. Portanto, deixaremos de lado essa característica e executaremos o agrupamento."
   ]
  },
  {
   "cell_type": "code",
   "execution_count": null,
   "metadata": {
    "button": false,
    "collapsed": false,
    "deletable": true,
    "jupyter": {
     "outputs_hidden": false
    },
    "new_sheet": false,
    "run_control": {
     "read_only": false
    }
   },
   "outputs": [],
   "source": [
    "df = cust_df.drop('Address', axis=1)\n",
    "df.head()"
   ]
  },
  {
   "cell_type": "markdown",
   "metadata": {
    "button": false,
    "deletable": true,
    "new_sheet": false,
    "run_control": {
     "read_only": false
    }
   },
   "source": [
    "#### Normalização sobre o desvio padrão\t\n",
    "Agora vamos normalizar o conjunto de dados. Mas por que precisamos normalizá-lo? A normalização é um método estatístico que ajuda os algoritmos baseados em matemática a interpretar da mesma maneira características de diferentes magnitudes e distribuições. Usamos __tandardScaler()__ para normalizar nosso conjunto de dados."
   ]
  },
  {
   "cell_type": "code",
   "execution_count": null,
   "metadata": {
    "button": false,
    "collapsed": false,
    "deletable": true,
    "jupyter": {
     "outputs_hidden": false
    },
    "new_sheet": false,
    "run_control": {
     "read_only": false
    }
   },
   "outputs": [],
   "source": [
    "from sklearn.preprocessing import StandardScaler\n",
    "X = df.values[:,1:]\n",
    "X = np.nan_to_num(X)\n",
    "Clus_dataSet = StandardScaler().fit_transform(X)\n",
    "Clus_dataSet"
   ]
  },
  {
   "cell_type": "markdown",
   "metadata": {},
   "source": [
    "### Modelagem"
   ]
  },
  {
   "cell_type": "markdown",
   "metadata": {
    "button": false,
    "deletable": true,
    "new_sheet": false,
    "run_control": {
     "read_only": false
    }
   },
   "source": [
    "Em nosso exemplo (se não tivéssemos acesso ao algoritmo k-médias), seria o mesmo que adivinhar, com múltiplos testes e experimentos, que cada grupo de clientes teria certa idade, renda, educação, etc. No entanto, com o agrupamento por k-médias, podemos fazer todo esse processo com muito mais facilidade.\n",
    "\n",
    "Vamos aplicar o algoritmo k-médias ao nosso conjunto de dados e observar os rótulos dos _clusters_."
   ]
  },
  {
   "cell_type": "code",
   "execution_count": null,
   "metadata": {
    "button": false,
    "collapsed": false,
    "deletable": true,
    "jupyter": {
     "outputs_hidden": false
    },
    "new_sheet": false,
    "run_control": {
     "read_only": false
    }
   },
   "outputs": [],
   "source": [
    "clusterNum = 3\n",
    "k_means = KMeans(init = \"k-means++\", n_clusters = clusterNum, n_init = 12)\n",
    "k_means.fit(X)\n",
    "labels = k_means.labels_\n",
    "print(labels)"
   ]
  },
  {
   "cell_type": "markdown",
   "metadata": {
    "button": false,
    "deletable": true,
    "new_sheet": false,
    "run_control": {
     "read_only": false
    }
   },
   "source": [
    "### Insights\n",
    "Atribuímos os rótulos a cada linha do dataframe."
   ]
  },
  {
   "cell_type": "code",
   "execution_count": null,
   "metadata": {
    "button": false,
    "collapsed": false,
    "deletable": true,
    "jupyter": {
     "outputs_hidden": false
    },
    "new_sheet": false,
    "run_control": {
     "read_only": false
    }
   },
   "outputs": [],
   "source": [
    "df[\"Clus_km\"] = labels\n",
    "df.head(5)"
   ]
  },
  {
   "cell_type": "markdown",
   "metadata": {
    "button": false,
    "deletable": true,
    "new_sheet": false,
    "run_control": {
     "read_only": false
    }
   },
   "source": [
    "É fácil verificar os valores dos centroides: basta calcular a média das características em cada _cluster_."
   ]
  },
  {
   "cell_type": "code",
   "execution_count": null,
   "metadata": {
    "button": false,
    "collapsed": false,
    "deletable": true,
    "jupyter": {
     "outputs_hidden": false
    },
    "new_sheet": false,
    "run_control": {
     "read_only": false
    }
   },
   "outputs": [],
   "source": [
    "df.groupby('Clus_km').mean()"
   ]
  },
  {
   "cell_type": "markdown",
   "metadata": {},
   "source": [
    "Agora, vamos analisar a distribuição de clientes com base em sua idade e renda:"
   ]
  },
  {
   "cell_type": "code",
   "execution_count": null,
   "metadata": {
    "button": false,
    "collapsed": false,
    "deletable": true,
    "jupyter": {
     "outputs_hidden": false
    },
    "new_sheet": false,
    "run_control": {
     "read_only": false
    }
   },
   "outputs": [],
   "source": [
    "area = np.pi * ( X[:, 1])**2  \n",
    "plt.scatter(X[:, 0], X[:, 3], s=area, c=labels.astype(np.float), alpha=0.5)\n",
    "plt.xlabel('Age', fontsize=18)\n",
    "plt.ylabel('Income', fontsize=16)\n",
    "\n",
    "plt.show()\n"
   ]
  },
  {
   "cell_type": "code",
   "execution_count": null,
   "metadata": {},
   "outputs": [],
   "source": [
    "from mpl_toolkits.mplot3d import Axes3D \n",
    "fig = plt.figure(1, figsize=(8, 6))\n",
    "plt.clf()\n",
    "ax = Axes3D(fig, rect=[0, 0, .95, 1], elev=48, azim=134)\n",
    "\n",
    "plt.cla()\n",
    "# plt.ylabel('Age', fontsize=18)\n",
    "# plt.xlabel('Income', fontsize=16)\n",
    "# plt.zlabel('Education', fontsize=16)\n",
    "ax.set_xlabel('Education')\n",
    "ax.set_ylabel('Age')\n",
    "ax.set_zlabel('Income')\n",
    "\n",
    "ax.scatter(X[:, 1], X[:, 0], X[:, 3], c= labels.astype(np.float))\n"
   ]
  },
  {
   "cell_type": "markdown",
   "metadata": {
    "button": false,
    "deletable": true,
    "new_sheet": false,
    "run_control": {
     "read_only": false
    }
   },
   "source": [
    "O k-médias particionará seus clientes em grupos mutuamente exclusivos, por exemplo, em 3 _clusters_. Os clientes em cada cluster são semelhantes entre si do ponto de vista demográfico. Agora, podemos criar um perfil para cada grupo, considerando as características comuns de cada cluster. Por exemplo: os 3 clusters podem ser:\n",
    "- ALTO PODER DE COMPRA, INSTRUÍDO E DE IDADE AVANÇADA\n",
    "- DE MEIA-IDADE E RENDA MÉDIA\n",
    "- JOVEM E DE BAIXA RENDA"
   ]
  },
  {
   "cell_type": "markdown",
   "metadata": {
    "button": false,
    "deletable": true,
    "new_sheet": false,
    "run_control": {
     "read_only": false
    }
   },
   "source": [
    "## Deseja saber mais?\n",
    "\n",
    "A IBM SPSS Modeler é uma plataforma analítica abrangente que possui muitos algoritmos de aprendizado de máquina. Foi projetada para levar inteligência preditiva às decisões tomadas pelas pessoas, pelos grupos, pelos sistemas e por sua empresa como um todo. Este curso lhe permite acessar uma avaliação gratuita, disponível aqui: [SPSS Modeler](http://cocl.us/ML0101EN-SPSSModeler).\n",
    "\n",
    "Também é possível utilizar o Watson Studio para executar esses notebooks mais rapidamente com conjuntos de dados maiores. O Watson Studio é a solução de nuvem de vanguarda da IBM para cientistas de dados, construída por cientistas de dados. Com os notebooks Jupyter, RStudio, Apache Spark e outras bibliotecas populares pré-empacotadas na nuvem, o Watson Studio permite que os cientistas de dados colaborem em seus projetos sem a necessidade de instalar nada. Junte-se hoje mesmo à comunidade de usuários do Watson Studio, que cresce cada dia mais, com uma conta gratuita em [Watson Studio](https://cocl.us/ML0101EN_DSX)\n",
    "\n",
    "### Obrigado por concluir esta lição!\n",
    "\n",
    "Notebook criado por: <a href = \"https://ca.linkedin.com/in/saeedaghabozorgi\">Saeed Aghabozorgi</a>\n",
    "\n",
    "<hr>\n",
    "\n",
    "Copyright &copy; 2018 [Cognitive Class](https://cocl.us/DX0108EN_CC). Este notebook e seu código-fonte são divulgados de acordo com os termos da [Licença do MIT](https://bigdatauniversity.com/mit-license/).​"
   ]
  },
  {
   "cell_type": "code",
   "execution_count": null,
   "metadata": {},
   "outputs": [],
   "source": []
  }
 ],
 "metadata": {
  "kernelspec": {
   "display_name": "Python",
   "language": "python",
   "name": "conda-env-python-py"
  },
  "language_info": {
   "codemirror_mode": {
    "name": "ipython",
    "version": 3
   },
   "file_extension": ".py",
   "mimetype": "text/x-python",
   "name": "python",
   "nbconvert_exporter": "python",
   "pygments_lexer": "ipython3",
   "version": "3.6.10"
  },
  "widgets": {
   "state": {},
   "version": "1.1.2"
  }
 },
 "nbformat": 4,
 "nbformat_minor": 4
}
