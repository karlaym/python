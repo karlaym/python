{
 "cells": [
  {
   "cell_type": "markdown",
   "metadata": {
    "button": false,
    "deletable": true,
    "editable": true,
    "new_sheet": false,
    "run_control": {
     "read_only": false
    }
   },
   "source": [
    "<a href=\"https://cognitiveclass.ai\"><img src = \"https://ibm.box.com/shared/static/9gegpsmnsoo25ikkbl4qzlvlyjbgxs5x.png\" width = 400> </a>\n",
    "\n",
    "<h1 align=center><font size = 5>Diagramas de área, histogramas y gráficos de barras </font></h1>"
   ]
  },
  {
   "cell_type": "markdown",
   "metadata": {
    "button": false,
    "deletable": true,
    "editable": true,
    "new_sheet": false,
    "run_control": {
     "read_only": false
    }
   },
   "source": [
    "## Introducción\n",
    "\n",
    "En esta actividad de laboratorio, seguiremos explorando la biblioteca de Matplotlib y aprenderá a crear diagramas adicionales: diagramas de área, histogramas y gráficos de barras."
   ]
  },
  {
   "cell_type": "markdown",
   "metadata": {
    "button": false,
    "deletable": true,
    "editable": true,
    "new_sheet": false,
    "run_control": {
     "read_only": false
    }
   },
   "source": [
    "## Índice\n",
    "\n",
    "<div class=\"alert alert-block alert-info\" style=\"margin-top: 20px\">\n",
    "\n",
    "1. [Explorando los conjuntos de datos con *pandas*](#0)<br>\n",
    "2. [Descargar y preparar los datos](#2)<br>\n",
    "3. [Visualizar los datos mediante Matplotlib](#4) <br>\n",
    "4. [Diagrama de área](#6) <br>\n",
    "5. [Histogramas](#8) <br>\n",
    "6. [Gráficos de barras](#10) <br>\n",
    "</div>\n",
    "<hr>"
   ]
  },
  {
   "cell_type": "markdown",
   "metadata": {
    "button": false,
    "deletable": true,
    "editable": true,
    "new_sheet": false,
    "run_control": {
     "read_only": false
    }
   },
   "source": [
    "# Explorando los conjuntos de datos con *pandas* y Matplotlib<a id=\"0\"></a>\n",
    "\n",
    "Kits de herramientas: El curso depende en gran medida de [*pandas*](http://pandas.pydata.org/) y [**Numpy**](http://www.numpy.org/) para el manejo, el análisis y la visualización de datos. La principal biblioteca de diagramación que exploraremos en el curso es [Matplotlib](http://matplotlib.org/).\n",
    "\n",
    "Conjunto de datos: Inmigración a Canadá desde 1980 hasta 2013 - [Corrientes migratorias internacionales desde y hacia determinados países: análisis de 2015](http://www.un.org/en/development/desa/population/migration/data/empirical2/migrationflows.shtml)  tomado del sitio web de las Naciones Unidas.\n",
    "\n",
    "El conjunto de datos contiene datos anuales sobre las corrientes migratorias internacionales según los registros de los países de destino. Los datos presentan corrientes entrantes y salientes, según el lugar de nacimiento, la ciudadanía o el lugar de residencia anterior o posterior de los extranjeros y no extranjeros. En esta lección, nos centraremos en los datos inmigratorios de Canadá."
   ]
  },
  {
   "cell_type": "markdown",
   "metadata": {
    "button": false,
    "deletable": true,
    "editable": true,
    "new_sheet": false,
    "run_control": {
     "read_only": false
    }
   },
   "source": [
    "# Descargar y preparar los datos <a id=\"2\"></a>"
   ]
  },
  {
   "cell_type": "markdown",
   "metadata": {
    "button": false,
    "deletable": true,
    "editable": true,
    "new_sheet": false,
    "run_control": {
     "read_only": false
    }
   },
   "source": [
    "Importe los módulos principales. Lo primero que haremos es importar dos módulos fundamentales para el análisis de datos: *pandas* y **Numpy**."
   ]
  },
  {
   "cell_type": "code",
   "execution_count": null,
   "metadata": {
    "button": false,
    "collapsed": false,
    "deletable": true,
    "editable": true,
    "jupyter": {
     "outputs_hidden": false
    },
    "new_sheet": false,
    "run_control": {
     "read_only": false
    }
   },
   "outputs": [],
   "source": [
    "import numpy as np  # es útil para muchos cálculos científicos en Python \n",
    "import pandas as pd # biblioteca principal de estructura de datos "
   ]
  },
  {
   "cell_type": "markdown",
   "metadata": {
    "button": false,
    "deletable": true,
    "editable": true,
    "new_sheet": false,
    "run_control": {
     "read_only": false
    }
   },
   "source": [
    "Descarguemos e importemos el conjunto de datos principal sobre la inmigración canadiense con el método `read_excel()` de *pandas*. Habitualmente, para poder hacerlo, debemos descargar un módulo que pandas necesita para leer archivos de Excel. Este módulo es el **xlrd**. Para su comodidad, ya hemos preinstalado este módulo, por lo que no deberá preocuparse por ello. De lo contrario, usted debería ejecutar la siguiente línea de código para instalar el módulo **xlrd**:\n",
    "```\n",
    "!conda install -c anaconda xlrd --yes\n",
    "```"
   ]
  },
  {
   "cell_type": "markdown",
   "metadata": {
    "button": false,
    "deletable": true,
    "editable": true,
    "new_sheet": false,
    "run_control": {
     "read_only": false
    }
   },
   "source": [
    "Descargue el conjunto de datos e ingréselo en un DataFrame de *pandas*."
   ]
  },
  {
   "cell_type": "code",
   "execution_count": null,
   "metadata": {
    "button": false,
    "collapsed": false,
    "deletable": true,
    "editable": true,
    "jupyter": {
     "outputs_hidden": false
    },
    "new_sheet": false,
    "run_control": {
     "read_only": false
    }
   },
   "outputs": [],
   "source": [
    "df_can = pd.read_excel('https://ibm.box.com/shared/static/lw190pt9zpy5bd1ptyg2aw15awomz9pu.xlsx',\n",
    "                       sheet_name='Canada by Citizenship',\n",
    "                       skiprows=range(20),\n",
    "                       skip_footer=2\n",
    "                      )\n",
    "\n",
    "print('Datos descargados e ingresados en un DataFrame')"
   ]
  },
  {
   "cell_type": "markdown",
   "metadata": {
    "button": false,
    "deletable": true,
    "editable": true,
    "new_sheet": false,
    "run_control": {
     "read_only": false
    }
   },
   "source": [
    "Veamos los primeros cinco elementos del conjunto de datos."
   ]
  },
  {
   "cell_type": "code",
   "execution_count": null,
   "metadata": {
    "button": false,
    "collapsed": false,
    "deletable": true,
    "editable": true,
    "jupyter": {
     "outputs_hidden": false
    },
    "new_sheet": false,
    "run_control": {
     "read_only": false
    }
   },
   "outputs": [],
   "source": [
    "df_can.head()"
   ]
  },
  {
   "cell_type": "markdown",
   "metadata": {
    "button": false,
    "deletable": true,
    "editable": true,
    "new_sheet": false,
    "run_control": {
     "read_only": false
    }
   },
   "source": [
    "Averigüemos cuántas entradas hay en el conjunto de datos."
   ]
  },
  {
   "cell_type": "code",
   "execution_count": null,
   "metadata": {
    "button": false,
    "collapsed": false,
    "deletable": true,
    "editable": true,
    "jupyter": {
     "outputs_hidden": false
    },
    "new_sheet": false,
    "run_control": {
     "read_only": false
    },
    "scrolled": true
   },
   "outputs": [],
   "source": [
    "# muestre las dimensiones del DataFrame\n",
    "print(df_can.shape)"
   ]
  },
  {
   "cell_type": "markdown",
   "metadata": {
    "button": false,
    "deletable": true,
    "editable": true,
    "new_sheet": false,
    "run_control": {
     "read_only": false
    }
   },
   "source": [
    "Depure los datos. Realizaremos algunas modificaciones en el conjunto de datos original para facilitar la creación de visualizaciones. Consulte la actividad de laboratorio `Introducción a Matplotlib y a los gráficos de líneas` para obtener una descripción detallada de los cambios y los motivos por los que se realizaron."
   ]
  },
  {
   "cell_type": "markdown",
   "metadata": {
    "button": false,
    "deletable": true,
    "editable": true,
    "new_sheet": false,
    "run_control": {
     "read_only": false
    }
   },
   "source": [
    "#### 1. Depure el conjunto de datos para eliminar las columnas que no resulten relevantes en la visualización (por ejemplo, Tipo, ÁREA, REGIÓN). "
   ]
  },
  {
   "cell_type": "code",
   "execution_count": null,
   "metadata": {
    "button": false,
    "collapsed": false,
    "deletable": true,
    "editable": true,
    "jupyter": {
     "outputs_hidden": false
    },
    "new_sheet": false,
    "run_control": {
     "read_only": false
    }
   },
   "outputs": [],
   "source": [
    "df_can.drop(['AREA', 'REG', 'DEV', 'Type', 'Coverage'], axis=1, inplace=True)\n",
    "\n",
    "# observemos los primeros cinco elementos y veamos cómo cambió el DataFrame\n",
    "df_can.head()"
   ]
  },
  {
   "cell_type": "markdown",
   "metadata": {
    "button": false,
    "deletable": true,
    "editable": true,
    "new_sheet": false,
    "run_control": {
     "read_only": false
    }
   },
   "source": [
    "Observe cómo las columnas Type, Coverage, AREA, REG y DEV fueron eliminadas del DataFrame."
   ]
  },
  {
   "cell_type": "markdown",
   "metadata": {
    "button": false,
    "deletable": true,
    "editable": true,
    "new_sheet": false,
    "run_control": {
     "read_only": false
    }
   },
   "source": [
    "#### 2. Cambie el nombre de algunas columnas para que tengan más sentido."
   ]
  },
  {
   "cell_type": "code",
   "execution_count": null,
   "metadata": {
    "button": false,
    "collapsed": false,
    "deletable": true,
    "editable": true,
    "jupyter": {
     "outputs_hidden": false
    },
    "new_sheet": false,
    "run_control": {
     "read_only": false
    }
   },
   "outputs": [],
   "source": [
    "df_can.rename(columns={'OdName':'Country', 'AreaName':'Continent','RegName':'Region'}, inplace=True)\n",
    "\n",
    "# observemos los primeros cinco elementos y veamos cómo cambió el DataFrame\n",
    "df_can.head()"
   ]
  },
  {
   "cell_type": "markdown",
   "metadata": {
    "button": false,
    "deletable": true,
    "editable": true,
    "new_sheet": false,
    "run_control": {
     "read_only": false
    }
   },
   "source": [
    "Observe cómo los nombres de las columnas ahora tienen mucho más sentido, incluso para alguien externo."
   ]
  },
  {
   "cell_type": "markdown",
   "metadata": {
    "button": false,
    "deletable": true,
    "editable": true,
    "new_sheet": false,
    "run_control": {
     "read_only": false
    }
   },
   "source": [
    "#### 3. Para garantizar una mayor consistencia, asegúrese de que todas las etiquetas de las columnas sean del tipo cadena."
   ]
  },
  {
   "cell_type": "code",
   "execution_count": null,
   "metadata": {
    "button": false,
    "collapsed": false,
    "deletable": true,
    "editable": true,
    "jupyter": {
     "outputs_hidden": false
    },
    "new_sheet": false,
    "run_control": {
     "read_only": false
    },
    "scrolled": true
   },
   "outputs": [],
   "source": [
    "# examinemos los tipos de etiquetas de cada columna\n",
    "all(isinstance(column, str) for column in df_can.columns)"
   ]
  },
  {
   "cell_type": "markdown",
   "metadata": {
    "button": false,
    "deletable": true,
    "editable": true,
    "new_sheet": false,
    "run_control": {
     "read_only": false
    }
   },
   "source": [
    "Observe cómo la línea de código anterior arrojó el resultado *False* cuando verificamos si todas las etiquetas de las columnas eran del tipo **string (cadena)**. Cambiémoslas todas al tipo **string (cadena)**."
   ]
  },
  {
   "cell_type": "code",
   "execution_count": null,
   "metadata": {
    "button": false,
    "collapsed": false,
    "deletable": true,
    "editable": true,
    "jupyter": {
     "outputs_hidden": false
    },
    "new_sheet": false,
    "run_control": {
     "read_only": false
    }
   },
   "outputs": [],
   "source": [
    "df_can.columns = list(map(str, df_can.columns))\n",
    "\n",
    "# ahora revisemos los tipos de etiquetas de las columnas \n",
    "all(isinstance(column, str) for column in df_can.columns)"
   ]
  },
  {
   "cell_type": "markdown",
   "metadata": {
    "button": false,
    "deletable": true,
    "editable": true,
    "new_sheet": false,
    "run_control": {
     "read_only": false
    }
   },
   "source": [
    "#### 4. Establezca los nombres de los países como índice a fin de poder buscar países rápidamente con el método .loc."
   ]
  },
  {
   "cell_type": "code",
   "execution_count": null,
   "metadata": {
    "button": false,
    "collapsed": false,
    "deletable": true,
    "editable": true,
    "jupyter": {
     "outputs_hidden": false
    },
    "new_sheet": false,
    "run_control": {
     "read_only": false
    }
   },
   "outputs": [],
   "source": [
    "df_can.set_index('Country', inplace=True)\n",
    "\n",
    "# observemos los primeros cinco elementos y veamos cómo cambió el DataFrame\n",
    "df_can.head()"
   ]
  },
  {
   "cell_type": "markdown",
   "metadata": {
    "button": false,
    "deletable": true,
    "editable": true,
    "new_sheet": false,
    "run_control": {
     "read_only": false
    }
   },
   "source": [
    "Observe cómo los nombres de los países ahora funcionan como índices."
   ]
  },
  {
   "cell_type": "markdown",
   "metadata": {
    "button": false,
    "deletable": true,
    "editable": true,
    "new_sheet": false,
    "run_control": {
     "read_only": false
    }
   },
   "source": [
    "#### 5. Agregue una columna total."
   ]
  },
  {
   "cell_type": "code",
   "execution_count": null,
   "metadata": {
    "button": false,
    "collapsed": false,
    "deletable": true,
    "editable": true,
    "jupyter": {
     "outputs_hidden": false
    },
    "new_sheet": false,
    "run_control": {
     "read_only": false
    }
   },
   "outputs": [],
   "source": [
    "df_can['Total'] = df_can.sum(axis=1)\n",
    "\n",
    "# observemos los primeros cinco elementos y veamos cómo cambió el DataFrame\n",
    "df_can.head()"
   ]
  },
  {
   "cell_type": "markdown",
   "metadata": {
    "button": false,
    "deletable": true,
    "editable": true,
    "new_sheet": false,
    "run_control": {
     "read_only": false
    }
   },
   "source": [
    "Ahora el DataFrame tiene una columna adicional que presenta la cantidad total de inmigrantes de cada país del conjunto de datos desde 1980 hasta 2013. De esta manera, si mostramos la dimensión de los datos, obtenemos lo siguiente:"
   ]
  },
  {
   "cell_type": "code",
   "execution_count": null,
   "metadata": {
    "button": false,
    "collapsed": false,
    "deletable": true,
    "editable": true,
    "jupyter": {
     "outputs_hidden": false
    },
    "new_sheet": false,
    "run_control": {
     "read_only": false
    },
    "scrolled": true
   },
   "outputs": [],
   "source": [
    "print ('data dimensions:', df_can.shape)"
   ]
  },
  {
   "cell_type": "markdown",
   "metadata": {
    "button": false,
    "deletable": true,
    "editable": true,
    "new_sheet": false,
    "run_control": {
     "read_only": false
    }
   },
   "source": [
    "Ahora, nuestro DataFrame tiene 38 columnas en vez de las 37 que teníamos antes."
   ]
  },
  {
   "cell_type": "code",
   "execution_count": null,
   "metadata": {
    "button": false,
    "collapsed": false,
    "deletable": true,
    "editable": true,
    "jupyter": {
     "outputs_hidden": false
    },
    "new_sheet": false,
    "run_control": {
     "read_only": false
    }
   },
   "outputs": [],
   "source": [
    "# finalmente, creemos una lista de años desde 1980 a 2013\n",
    "# esta lista será útil cuando comencemos a diagramar los datos\n",
    "years = list(map(str, range(1980, 2014)))\n",
    "\n",
    "years"
   ]
  },
  {
   "cell_type": "markdown",
   "metadata": {
    "button": false,
    "deletable": true,
    "editable": true,
    "new_sheet": false,
    "run_control": {
     "read_only": false
    }
   },
   "source": [
    "# Visualizar los datos mediante Matplotlib<a id=\"4\"></a>"
   ]
  },
  {
   "cell_type": "markdown",
   "metadata": {
    "button": false,
    "deletable": true,
    "editable": true,
    "new_sheet": false,
    "run_control": {
     "read_only": false
    }
   },
   "source": [
    "Importe `Matplotlib` y **Numpy**."
   ]
  },
  {
   "cell_type": "code",
   "execution_count": null,
   "metadata": {
    "button": false,
    "collapsed": false,
    "deletable": true,
    "editable": true,
    "jupyter": {
     "outputs_hidden": false
    },
    "new_sheet": false,
    "run_control": {
     "read_only": false
    }
   },
   "outputs": [],
   "source": [
    "# utilice el backend directo para generar los diagramas dentro del explorador\n",
    "%matplotlib inline \n",
    "\n",
    "import matplotlib as mpl\n",
    "import matplotlib.pyplot as plt\n",
    "\n",
    "mpl.style.use('ggplot') # opcional: para obtener un estilo similar a ggplot\n",
    "\n",
    "# consulte si está la versión más reciente de Matplotlib\n",
    "print ('Matplotlib version: ', mpl.__version__) # >= 2.0.0"
   ]
  },
  {
   "cell_type": "markdown",
   "metadata": {
    "button": false,
    "deletable": true,
    "editable": true,
    "new_sheet": false,
    "run_control": {
     "read_only": false
    }
   },
   "source": [
    "# Diagramas de área<a id=\"6\"></a>"
   ]
  },
  {
   "cell_type": "markdown",
   "metadata": {
    "button": false,
    "deletable": true,
    "editable": true,
    "new_sheet": false,
    "run_control": {
     "read_only": false
    }
   },
   "source": [
    "En el último módulo, creamos un diagrama de líneas que mostraba los 5 países que aportaron la mayor cantidad de inmigrantes a Canadá desde 1980 hasta 2013. Con una pequeña modificación del código, podemos visualizar este diagrama como un diagrama acumulativo, también llamado **diagrama de líneas apiladas** o **diagrama de área**."
   ]
  },
  {
   "cell_type": "code",
   "execution_count": null,
   "metadata": {
    "button": false,
    "collapsed": false,
    "deletable": true,
    "editable": true,
    "jupyter": {
     "outputs_hidden": false
    },
    "new_sheet": false,
    "run_control": {
     "read_only": false
    }
   },
   "outputs": [],
   "source": [
    "df_can.sort_values(['Total'], ascending=False, axis=0, inplace=True)\n",
    "\n",
    "# obtenga las 5 entradas principales\n",
    "df_top5 = df_can.head()\n",
    "\n",
    "# transponga el DataFrame\n",
    "df_top5 = df_top5[years].transpose() \n",
    "\n",
    "df_top5.head()"
   ]
  },
  {
   "cell_type": "markdown",
   "metadata": {
    "button": false,
    "deletable": true,
    "editable": true,
    "new_sheet": false,
    "run_control": {
     "read_only": false
    }
   },
   "source": [
    "Los diagramas de área aparecen apilados de forma predeterminada. Para producir un diagrama de área apilado, los valores de cada columna deben ser todos positivos o todos negativos (los valores NaN serán 0 de manera predeterminada). Para crear un diagrama que no sea apilado, pase `stacked=False`. "
   ]
  },
  {
   "cell_type": "code",
   "execution_count": null,
   "metadata": {
    "button": false,
    "collapsed": false,
    "deletable": true,
    "editable": true,
    "jupyter": {
     "outputs_hidden": false
    },
    "new_sheet": false,
    "run_control": {
     "read_only": false
    }
   },
   "outputs": [],
   "source": [
    "df_top5.index = df_top5.index.map(int) # cambiemos los valores de índice de df_top5 al tipo entero para la diagramación\n",
    "df_top5.plot(kind='area', \n",
    "             stacked=False,\n",
    "             figsize=(20, 10), # pase un tamaño de tupla (x, y)\n",
    "             )\n",
    "\n",
    "plt.title('Immigration Trend of Top 5 Countries')\n",
    "plt.ylabel('Number of Immigrants')\n",
    "plt.xlabel('Years')\n",
    "\n",
    "plt.show()"
   ]
  },
  {
   "cell_type": "markdown",
   "metadata": {
    "button": false,
    "deletable": true,
    "editable": true,
    "new_sheet": false,
    "run_control": {
     "read_only": false
    }
   },
   "source": [
    "El diagrama no apilado tiene una transparencia predeterminada (valor alfa) de 0,5. Para modificar este valor, podemos pasar el parámetro `alpha`."
   ]
  },
  {
   "cell_type": "code",
   "execution_count": null,
   "metadata": {
    "button": false,
    "collapsed": false,
    "deletable": true,
    "editable": true,
    "jupyter": {
     "outputs_hidden": false
    },
    "new_sheet": false,
    "run_control": {
     "read_only": false
    }
   },
   "outputs": [],
   "source": [
    "df_top5.plot(kind='area', \n",
    "             alpha=0.25, # 0-1, default value a= 0.5\n",
    "             stacked=False,\n",
    "             figsize=(20, 10),\n",
    "            )\n",
    "\n",
    "plt.title('Tendencia migratoria de los 5 países principales')\n",
    "plt.ylabel('Cantidad de inmigrantes')\n",
    "plt.xlabel('Años')\n",
    "\n",
    "plt.show()"
   ]
  },
  {
   "cell_type": "markdown",
   "metadata": {
    "button": false,
    "deletable": true,
    "editable": true,
    "new_sheet": false,
    "run_control": {
     "read_only": false
    }
   },
   "source": [
    "### Dos tipos de diagramas\n",
    "\n",
    "Como analizamos en estas lecciones de video, `matplotlib`ofrece dos opciones o estilos de diagramas. Podemos diagramar con la capa Artist (Artista) o con la capa de programación.\n",
    "\n",
    "**Opción 1: Capa de programación (método de procedimiento), con matplotlib.pyplot como 'plt'**\n",
    "\n",
    "Para usar `plt` como `matplotlib.pyplot`, y agregar más elementos ejecutando diferentes métodos de manera procesal. Por ejemplo, `plt.title(...)` para agregar un título o `plt.xlabel(...)` para agregar una etiqueta al eje X.\n",
    "```python\n",
    "    # Opción 1: Esto es lo que usamos hasta ahora\n",
    "    df_top5.plot(kind='area', alpha=0.35, figsize=(20, 10)) \n",
    "    plt.title('Immigration trend of top 5 countries')\n",
    "    plt.ylabel('Number of immigrants')\n",
    "    plt.xlabel('Years')\n",
    "```"
   ]
  },
  {
   "cell_type": "markdown",
   "metadata": {
    "button": false,
    "deletable": true,
    "editable": true,
    "new_sheet": false,
    "run_control": {
     "read_only": false
    }
   },
   "source": [
    "**Opción 2: Capa Artist (método orientado al objeto), utilizando una instancia de Axes de Matplotlib (preferido)**\n",
    "\n",
    "Puede usar una instancia de `Axes` de su diagrama actual y almacenarla en una variable (por ejemplo `ax`). Puede agregar más elementos ejecutando los métodos con unos pocos cambios en la sintaxis (debe agregar \"set_\" a los métodos anteriores). Por ejemplo, use `ax.set_title()` en vez de `plt.title()` para agregar un título o `ax.set_xlabel()` en lugar de `plt.xlabel()` para agregar una etiqueta al eje X. \n",
    "\n",
    "A veces, esta opción es más transparente y flexible cuando se usa en diagramas avanzados (en especial cuando tenemos varios diagramas, como veremos luego). \n",
    "\n",
    "En este curso, usaremos la **capa de programación (scripting layer)**, excepto en el caso de las visualizaciones avanzadas, en las que tendremos que usar la **capa Artist (artist layer)** para manipular aspectos avanzados de los diagramas."
   ]
  },
  {
   "cell_type": "code",
   "execution_count": null,
   "metadata": {
    "button": false,
    "collapsed": false,
    "deletable": true,
    "editable": true,
    "jupyter": {
     "outputs_hidden": false
    },
    "new_sheet": false,
    "run_control": {
     "read_only": false
    }
   },
   "outputs": [],
   "source": [
    "# opción 2: opción preferida con más flexibilidad\n",
    "ax = df_top5.plot(kind='area', alpha=0.35, figsize=(20, 10))\n",
    "\n",
    "ax.set_title('Immigration Trend of Top 5 Countries')\n",
    "ax.set_ylabel('Number of Immigrants')\n",
    "ax.set_xlabel('Years')"
   ]
  },
  {
   "cell_type": "markdown",
   "metadata": {
    "button": false,
    "deletable": true,
    "new_sheet": false,
    "run_control": {
     "read_only": false
    }
   },
   "source": [
    "**Pregunta**: Use la capa de programación para crear un diagrama de área apilado de los 5 países que aportaron la menor cantidad de inmigrantes a Canadá **desde** 1980 hasta 2013. Use un valor de transparencia de 0,45."
   ]
  },
  {
   "cell_type": "code",
   "execution_count": null,
   "metadata": {
    "button": false,
    "collapsed": false,
    "deletable": true,
    "jupyter": {
     "outputs_hidden": false
    },
    "new_sheet": false,
    "run_control": {
     "read_only": false
    }
   },
   "outputs": [],
   "source": [
    "### escriba su respuesta aquí\n",
    "\n",
    "\n",
    "\n"
   ]
  },
  {
   "cell_type": "markdown",
   "metadata": {
    "button": false,
    "deletable": true,
    "new_sheet": false,
    "run_control": {
     "read_only": false
    }
   },
   "source": [
    "Haga doble clic __aquí__ para ver la solución. \n",
    "<!-- La respuesta correcta es:\n",
    "\\\\ # obtenga los 5 países con la menor contribución.\n",
    "df_least5 = df_can.tail(5)\n",
    "-->\n",
    "\n",
    "<!--\n",
    "\\\\ # transponer el marco de datos (DataFrame)\n",
    "df_least5 = df_least5[years].transpose() \n",
    "df_least5.head()\n",
    "-->\n",
    "\n",
    "<!--\n",
    "df_least5.index = df_least5.index.map(int) # cambiemos los valores de índice de df_least5 para tipo entero para graficar\n",
    "df_least5.plot(kind='area', alpha=0.45, figsize=(20, 10)) \n",
    "-->\n",
    "\n",
    "<!--\n",
    "plt.title('Immigration Trend of 5 Countries with Least Contribution to Immigration')\n",
    "plt.ylabel('Number of Immigrants')\n",
    "plt.xlabel('Years')\n",
    "-->\n",
    "\n",
    "<!--\n",
    "plt.show()\n",
    "-->"
   ]
  },
  {
   "cell_type": "markdown",
   "metadata": {
    "button": false,
    "deletable": true,
    "new_sheet": false,
    "run_control": {
     "read_only": false
    }
   },
   "source": [
    "**Pregunta**: Use la capa Artist para crear un diagrama de área no apilado de los 5 países que aportaron menor cantidad de inmigrantes a Canadá **desde** 1980 hasta 2013. Use un valor de transparencia de 0,55."
   ]
  },
  {
   "cell_type": "code",
   "execution_count": null,
   "metadata": {
    "button": false,
    "collapsed": false,
    "deletable": true,
    "jupyter": {
     "outputs_hidden": false
    },
    "new_sheet": false,
    "run_control": {
     "read_only": false
    }
   },
   "outputs": [],
   "source": [
    "### escriba su respuesta aquí\n",
    "\n",
    "\n",
    "\n"
   ]
  },
  {
   "cell_type": "markdown",
   "metadata": {
    "button": false,
    "deletable": true,
    "new_sheet": false,
    "run_control": {
     "read_only": false
    }
   },
   "source": [
    "Haga doble clic __aquí__ para ver la solución. \n",
    "<!-- La respuesta correcta es:\n",
    "\\\\ # obténgamos los 5 países con la menor contribución.\n",
    "df_least5 = df_can.tail(5)\n",
    "-->\n",
    "\n",
    "<!--\n",
    "\\\\ # transpóngamos el marco de datos \n",
    "df_least5 = df_least5[years].transpose() \n",
    "df_least5.head()\n",
    "-->\n",
    "\n",
    "<!--\n",
    "df_least5.index = df_least5.index.map(int) # cambiemos los valores de índice de df_least5 a tipo entero para graficar\n",
    "-->\n",
    "\n",
    "<!--\n",
    "ax = df_least5.plot(kind='area', alpha=0.55, stacked=False, figsize=(20, 10))\n",
    "-->\n",
    "\n",
    "<!--\n",
    "ax.set_title('Immigration Trend of 5 Countries with Least Contribution to Immigration')\n",
    "ax.set_ylabel('Number of Immigrants')\n",
    "ax.set_xlabel('Years')\n",
    "-->"
   ]
  },
  {
   "cell_type": "markdown",
   "metadata": {
    "button": false,
    "deletable": true,
    "editable": true,
    "new_sheet": false,
    "run_control": {
     "read_only": false
    }
   },
   "source": [
    "# Histogramas<a id=\"8\"></a>\n",
    "\n",
    "Un histograma es una manera de representar la distribución de *frecuencias* de los conjuntos de datos numéricos. Funciona de la siguiente manera: divide el eje X en *intervalos (bins)*, asigna cada punto de datos del conjunto de datos a un intervalo y, luego, cuenta la cantidad de puntos de datos que se asignaron a cada intervalo. De esta manera, el eje Y es la frecuencia o la cantidad de puntos de datos de cada intervalo. Observe que podemos cambiar el tamaño del intervalo y que, por lo general, debemos modificarlo para que la distribución se vea bien."
   ]
  },
  {
   "cell_type": "markdown",
   "metadata": {
    "button": false,
    "deletable": true,
    "editable": true,
    "new_sheet": false,
    "run_control": {
     "read_only": false
    }
   },
   "source": [
    "**Pregunta:** ¿Cuál es la distribución de frecuencias de la cantidad (población) de inmigrantes nuevos de estos países a Canadá en 2013?"
   ]
  },
  {
   "cell_type": "markdown",
   "metadata": {
    "button": false,
    "deletable": true,
    "editable": true,
    "new_sheet": false,
    "run_control": {
     "read_only": false
    }
   },
   "source": [
    "Antes de continuar con la creación del histograma, examinemos la división de los datos en intervalos. Para ello, usaremos el método de `histrograma` de **Numpy** a fin de obtener los rangos de los intervalos y los resultados de frecuencia de la siguiente manera:"
   ]
  },
  {
   "cell_type": "code",
   "execution_count": null,
   "metadata": {
    "button": false,
    "collapsed": false,
    "deletable": true,
    "editable": true,
    "jupyter": {
     "outputs_hidden": false
    },
    "new_sheet": false,
    "run_control": {
     "read_only": false
    }
   },
   "outputs": [],
   "source": [
    "# examinemos rápidamente los datos de 2013\n",
    "df_can['2013'].head()"
   ]
  },
  {
   "cell_type": "code",
   "execution_count": null,
   "metadata": {
    "button": false,
    "collapsed": false,
    "deletable": true,
    "editable": true,
    "jupyter": {
     "outputs_hidden": false
    },
    "new_sheet": false,
    "run_control": {
     "read_only": false
    }
   },
   "outputs": [],
   "source": [
    "# np.histogram arroja 2 valores\n",
    "count, bin_edges = np.histogram(df_can['2013'])\n",
    "\n",
    "print(count) # resultado de frecuencia\n",
    "print(bin_edges) # bin ranges, default = 10 bins"
   ]
  },
  {
   "cell_type": "markdown",
   "metadata": {
    "button": false,
    "deletable": true,
    "editable": true,
    "new_sheet": false,
    "run_control": {
     "read_only": false
    }
   },
   "source": [
    "De manera predeterminada, el método de `histograma` divide el conjunto de datos en 10 intervalos. La figura que aparece a continuación resume los rangos de intervalo y la distribución de frecuencias de la inmigración en 2013. Podemos observar que en 2013: \n",
    "\n",
    "* 178 países aportaron entre 0 a 3.412,9 inmigrantes \n",
    "* 11 países aportaron entre 3.412,9 a 6.825,8 inmigrantes \n",
    "* 1 país aportó entre 6.825,8 a 10.238,7 inmigrantes, y así sucesivamente. \n",
    "\n",
    "<img src=\"https://ibm.box.com/shared/static/g54s9q97mrjok0h4272o7g09cyigei0v.jpg\" align=\"center\" width=800>"
   ]
  },
  {
   "cell_type": "markdown",
   "metadata": {
    "button": false,
    "deletable": true,
    "editable": true,
    "new_sheet": false,
    "run_control": {
     "read_only": false
    }
   },
   "source": [
    "Podemos diagramar esta distribución fácilmente si pasamos `kind=hist` a `plot()`."
   ]
  },
  {
   "cell_type": "code",
   "execution_count": null,
   "metadata": {
    "button": false,
    "collapsed": false,
    "deletable": true,
    "editable": true,
    "jupyter": {
     "outputs_hidden": false
    },
    "new_sheet": false,
    "run_control": {
     "read_only": false
    }
   },
   "outputs": [],
   "source": [
    "df_can['2013'].plot(kind='hist', figsize=(8, 5))\n",
    "\n",
    "plt.title('Histogram of Immigration from 195 Countries in 2013') # agregue un título al histograma\n",
    "plt.ylabel('Number of Countries') # add y-label\n",
    "plt.xlabel('Number of Immigrants') # add x-label\n",
    "\n",
    "plt.show()"
   ]
  },
  {
   "cell_type": "markdown",
   "metadata": {
    "button": false,
    "deletable": true,
    "editable": true,
    "new_sheet": false,
    "run_control": {
     "read_only": false
    }
   },
   "source": [
    "En el diagrama anterior, el eje X representa el rango de población de inmigrantes en intervalos de 3.412,9. El eje Y representa la cantidad de países que contribuyeron a la población mencionada anteriormente. \n",
    "\n",
    "Observe que las etiquetas del eje X no coinciden con el tamaño del intervalo. Esto se puede solucionar pasando una palabra clave `xticks` que contenga la lista de los tamaños de intervalos, tal como se observa a continuación:"
   ]
  },
  {
   "cell_type": "code",
   "execution_count": null,
   "metadata": {
    "button": false,
    "collapsed": false,
    "deletable": true,
    "editable": true,
    "jupyter": {
     "outputs_hidden": false
    },
    "new_sheet": false,
    "run_control": {
     "read_only": false
    }
   },
   "outputs": [],
   "source": [
    "# 'bin_edges' es una lista de intervalos\n",
    "count, bin_edges = np.histogram(df_can['2013'])\n",
    "\n",
    "df_can['2013'].plot(kind='hist', figsize=(8, 5), xticks=bin_edges)\n",
    "\n",
    "plt.title('Histograma de inmigración de 195 países en 2013') # add a title to the histogram\n",
    "plt.ylabel('Cantidad de países') # agregue una etiqueta Y \n",
    "plt.xlabel('Cantidad de inmigrantes') # agregue una etiqueta X\n",
    "\n",
    "plt.show()"
   ]
  },
  {
   "cell_type": "markdown",
   "metadata": {
    "button": false,
    "deletable": true,
    "editable": true,
    "new_sheet": false,
    "run_control": {
     "read_only": false
    }
   },
   "source": [
    "*Nota:* También podemos usar `df_can['2013'].plot.hist()`. De hecho, en toda esta lección, utilizar `some_data.plot(kind='type_plot', ...)` es equivalente a utilizar `some_data.plot.type_plot(...)`. Esto quiere decir que pasar el tipo de diagrama como argumento o método funciona de la misma manera. \n",
    "\n",
    "Consulte la documentación de *pandas* para obtener más información:  http://pandas.pydata.org/pandas-docs/stable/generated/pandas.Series.plot.html."
   ]
  },
  {
   "cell_type": "markdown",
   "metadata": {
    "button": false,
    "deletable": true,
    "editable": true,
    "new_sheet": false,
    "run_control": {
     "read_only": false
    }
   },
   "source": [
    "También podemos trazar varios histogramas en el mismo diagrama. Por ejemplo, intentemos responder las siguientes preguntas con un histograma. \n",
    "\n",
    "**Pregunta:** ¿Cuál es la distribución de la inmigración de Dinamarca, Noruega y Suecia entre los años 1980 a 2013? "
   ]
  },
  {
   "cell_type": "code",
   "execution_count": null,
   "metadata": {
    "button": false,
    "collapsed": false,
    "deletable": true,
    "editable": true,
    "jupyter": {
     "outputs_hidden": false
    },
    "new_sheet": false,
    "run_control": {
     "read_only": false
    }
   },
   "outputs": [],
   "source": [
    "# examinemos rápidamente el conjunto de datos\n",
    "df_can.loc[['Denmark', 'Norway', 'Sweden'], years]"
   ]
  },
  {
   "cell_type": "code",
   "execution_count": null,
   "metadata": {
    "button": false,
    "collapsed": false,
    "deletable": true,
    "editable": true,
    "jupyter": {
     "outputs_hidden": false
    },
    "new_sheet": false,
    "run_control": {
     "read_only": false
    }
   },
   "outputs": [],
   "source": [
    "# genere el histograma\n",
    "df_can.loc[['Denmark', 'Norway', 'Sweden'], years].plot.hist()"
   ]
  },
  {
   "cell_type": "markdown",
   "metadata": {
    "button": false,
    "deletable": true,
    "editable": true,
    "new_sheet": false,
    "run_control": {
     "read_only": false
    }
   },
   "source": [
    "Aparentemente, no es correcto. \n",
    "\n",
    "No se preocupe: sucederán situaciones como esta cuando cree diagramas. Por lo general, la solución está en la manera en que está estructurado el conjunto de datos subyacente. \n",
    "\n",
    "*pandas* diagramó la distribución de frecuencias de la población para los `years (años)` en lugar de haberlo hecho para los 3 países.\n",
    "\n",
    "Para solucionar fácilmente este problema, transponga primero el conjunto de datos y, luego, cree el diagrama tal como se muestra a continuación."
   ]
  },
  {
   "cell_type": "code",
   "execution_count": null,
   "metadata": {
    "button": false,
    "collapsed": false,
    "deletable": true,
    "editable": true,
    "jupyter": {
     "outputs_hidden": false
    },
    "new_sheet": false,
    "run_control": {
     "read_only": false
    }
   },
   "outputs": [],
   "source": [
    "# transponga el DataFrame\n",
    "df_t = df_can.loc[['Denmark', 'Norway', 'Sweden'], years].transpose()\n",
    "df_t.head()"
   ]
  },
  {
   "cell_type": "code",
   "execution_count": null,
   "metadata": {
    "button": false,
    "collapsed": false,
    "deletable": true,
    "editable": true,
    "jupyter": {
     "outputs_hidden": false
    },
    "new_sheet": false,
    "run_control": {
     "read_only": false
    }
   },
   "outputs": [],
   "source": [
    "# genere el histograma\n",
    "df_t.plot(kind='hist', figsize=(10, 6))\n",
    "\n",
    "plt.title('Histogram of Immigration from Denmark, Norway, and Sweden from 1980 - 2013')\n",
    "plt.ylabel('Number of Years')\n",
    "plt.xlabel('Number of Immigrants')\n",
    "\n",
    "plt.show()"
   ]
  },
  {
   "cell_type": "markdown",
   "metadata": {
    "button": false,
    "deletable": true,
    "editable": true,
    "new_sheet": false,
    "run_control": {
     "read_only": false
    }
   },
   "source": [
    "Hagamos algunas modificaciones para mejorar el impacto y la apariencia del diagrama anterior: \n",
    "* Pase el parámetro `bins` para aumentar el tamaño de los intervalos a 15. \n",
    "* Pase el parámetro  `alpha` para establecer la transparencia en el 60 %. \n",
    "* Pase el parámetro `x-label` para etiquetar el eje X. \n",
    "* Pase el parámetro `color` para cambiar los colores de los diagramas."
   ]
  },
  {
   "cell_type": "code",
   "execution_count": null,
   "metadata": {
    "button": false,
    "collapsed": false,
    "deletable": true,
    "editable": true,
    "jupyter": {
     "outputs_hidden": false
    },
    "new_sheet": false,
    "run_control": {
     "read_only": false
    }
   },
   "outputs": [],
   "source": [
    "# obtengamos los valores de x-tick\n",
    "count, bin_edges = np.histogram(df_t, 15)\n",
    "\n",
    "# histograma no apilado\n",
    "df_t.plot(kind ='hist', \n",
    "          figsize=(10, 6),\n",
    "          bins=15,\n",
    "          alpha=0.6,\n",
    "          xticks=bin_edges,\n",
    "          color=['coral', 'darkslateblue', 'mediumseagreen']\n",
    "         )\n",
    "\n",
    "plt.title('Histogram of Immigration from Denmark, Norway, and Sweden from 1980 - 2013')\n",
    "plt.ylabel('Number of Years')\n",
    "plt.xlabel('Number of Immigrants')\n",
    "\n",
    "plt.show()"
   ]
  },
  {
   "cell_type": "markdown",
   "metadata": {
    "button": false,
    "deletable": true,
    "editable": true,
    "new_sheet": false,
    "run_control": {
     "read_only": false
    }
   },
   "source": [
    "Sugerencia: Para obtener la lista completa de los colores disponibles en Matplotlib, ejecute el siguiente código en el shell de Python: \n",
    "```python\n",
    "import matplotlib\n",
    "for name, hex in matplotlib.colors.cnames.items():\n",
    "    print(name, hex)\n",
    "```"
   ]
  },
  {
   "cell_type": "markdown",
   "metadata": {
    "button": false,
    "deletable": true,
    "editable": true,
    "new_sheet": false,
    "run_control": {
     "read_only": false
    }
   },
   "source": [
    "Si deseamos que los diagramas no se superpongan, podemos apilarlos con el parámetro `stacked`. También ajustemos las etiquetas mínima y máxima del eje X para eliminar el espacio adicional en los bordes del diagrama. Podemos pasar una tupla (mínima, máxima) con el parámetro  `xlim`, como se muestra a continuación."
   ]
  },
  {
   "cell_type": "code",
   "execution_count": null,
   "metadata": {
    "button": false,
    "collapsed": false,
    "deletable": true,
    "editable": true,
    "jupyter": {
     "outputs_hidden": false
    },
    "new_sheet": false,
    "run_control": {
     "read_only": false
    }
   },
   "outputs": [],
   "source": [
    "count, bin_edges = np.histogram(df_t, 15)\n",
    "xmin = bin_edges[0] - 10   #  el primer valor de intervalo es 31,0 y se agrega un espacio de 10 para mejorar la apariencia\n",
    "xmax = bin_edges[-1] + 10  #  el último valor de intervalo es 308,0 y se agrega un espacio de 10 para mejorar la apariencia\n",
    "\n",
    "# histograma apilado (stacked)\n",
    "df_t.plot(kind='hist',\n",
    "          figsize=(10, 6), \n",
    "          bins=15,\n",
    "          xticks=bin_edges,\n",
    "          color=['coral', 'darkslateblue', 'mediumseagreen'],\n",
    "          stacked=True,\n",
    "          xlim=(xmin, xmax)\n",
    "         )\n",
    "\n",
    "plt.title('Histogram of Immigration from Denmark, Norway, and Sweden from 1980 - 2013')\n",
    "plt.ylabel('Number of Years')\n",
    "plt.xlabel('Number of Immigrants') \n",
    "\n",
    "plt.show()"
   ]
  },
  {
   "cell_type": "markdown",
   "metadata": {
    "button": false,
    "deletable": true,
    "new_sheet": false,
    "run_control": {
     "read_only": false
    }
   },
   "source": [
    "**Pregunta:** Utilice la capa de programación para mostrar la distribución de inmigración de Grecia, Albania y Bulgaria entre los años 1980 a 2013. Utilice un diagrama superpuesto con 15 intervalos y un valor de transparencia de 0,35. "
   ]
  },
  {
   "cell_type": "code",
   "execution_count": null,
   "metadata": {
    "button": false,
    "collapsed": true,
    "deletable": true,
    "jupyter": {
     "outputs_hidden": true
    },
    "new_sheet": false,
    "run_control": {
     "read_only": false
    }
   },
   "outputs": [],
   "source": [
    "### escriba su respuesta aquí\n",
    "\n",
    "\n",
    "\n"
   ]
  },
  {
   "cell_type": "markdown",
   "metadata": {
    "button": false,
    "deletable": true,
    "new_sheet": false,
    "run_control": {
     "read_only": false
    }
   },
   "source": [
    "Haga doble clic __aquí__ para ver la solución. \n",
    "\n",
    "<!-- La respuesta correcta es:\n",
    "\\\\ # creemos un marco de datos de los países de interés (cof)\n",
    "df_cof = df_can.loc[['Greece', 'Albania', 'Bulgaria'], years]\n",
    "-->\n",
    "\n",
    "<!--\n",
    "\\\\ # transpóngamos el marco de datos (DataFrame)\n",
    "df_cof = df_cof.transpose() \n",
    "-->\n",
    "\n",
    "<!--\n",
    "\\\\ # vamos a obtener los valores de la marca x (x-tick)\n",
    "count, bin_edges = np.histogram(df_cof, 15)\n",
    "-->\n",
    "\n",
    "<!--\n",
    "\\\\ # Histograma sin apilar (Un-stacked Histogram)\n",
    "df_cof.plot(kind ='hist',\n",
    "            figsize=(10, 6),\n",
    "            bins=15,\n",
    "            alpha=0.35,\n",
    "            xticks=bin_edges,\n",
    "            color=['coral', 'darkslateblue', 'mediumseagreen']\n",
    "            )\n",
    "-->\n",
    "\n",
    "<!--\n",
    "plt.title('Histogram of Immigration from Greece, Albania, and Bulgaria from 1980 - 2013')\n",
    "plt.ylabel('Number of Years')\n",
    "plt.xlabel('Number of Immigrants')\n",
    "-->\n",
    "\n",
    "<!--\n",
    "plt.show()\n",
    "-->"
   ]
  },
  {
   "cell_type": "markdown",
   "metadata": {
    "button": false,
    "deletable": true,
    "editable": true,
    "new_sheet": false,
    "run_control": {
     "read_only": false
    }
   },
   "source": [
    "# Gráficos de barras (DataFrame) <a id=\"10\"></a>\n",
    "\n",
    "Un gráfico de barras es una manera de visualizar los datos en la que la *longitud* de las barras representa la magnitud o el tamaño de la característica o variable. Por lo general, los gráficos de barras representan variables numéricas y categóricas agrupadas en intervalos. \n",
    "\n",
    "Para crear un gráfico de barras, podemos pasar uno de dos argumentos por medio del parámetro `kind` en `plot()`: \n",
    "* kind=bar crea un gráfico de barras *verticales*\n",
    "* kind=barh crea un gráfico de barras *horizontales*"
   ]
  },
  {
   "cell_type": "markdown",
   "metadata": {
    "button": false,
    "deletable": true,
    "editable": true,
    "new_sheet": false,
    "run_control": {
     "read_only": false
    }
   },
   "source": [
    "**Gráfico de barras verticales**\n",
    "\n",
    "En los gráficos de barras verticales, el eje X se usa para las etiquetas y la longitud de las barras del eje Y corresponde a la magnitud de la variable que se mide. Los gráficos de barras verticales son particularmente útiles para analizar datos en series de tiempo. Una desventaja es que no tienen espacio para las etiquetas de texto al pie de cada barra. \n",
    "\n",
    "**Comencemos con el análisis de los efectos de la crisis financiera de Islandia:**\n",
    "\n",
    "La crisis financiera de Islandia, que tuvo lugar entre 2008 a 2011, fue un evento económico y político de gran importancia en Islandia. En proporción con el tamaño de su economía, el colapso bancario generalizado de Islandia fue el más grande de la historia económica a nivel internacional. La crisis provocó una depresión económica profunda desde 2008 hasta 2011 y una gran inestabilidad política. \n",
    "\n",
    "**Pregunta:** Comparemos la cantidad de inmigrantes islandeses (país = 'Islandia') que recibió Canadá desde el año 1980 hasta el año 2013. "
   ]
  },
  {
   "cell_type": "code",
   "execution_count": null,
   "metadata": {
    "button": false,
    "collapsed": false,
    "deletable": true,
    "editable": true,
    "jupyter": {
     "outputs_hidden": false
    },
    "new_sheet": false,
    "run_control": {
     "read_only": false
    }
   },
   "outputs": [],
   "source": [
    "# paso 1: obtenga los datos\n",
    "df_iceland = df_can.loc['Iceland', years]\n",
    "df_iceland.head()"
   ]
  },
  {
   "cell_type": "code",
   "execution_count": null,
   "metadata": {
    "button": false,
    "collapsed": false,
    "deletable": true,
    "editable": true,
    "jupyter": {
     "outputs_hidden": false
    },
    "new_sheet": false,
    "run_control": {
     "read_only": false
    }
   },
   "outputs": [],
   "source": [
    "# paso 2: diagrame los datos \n",
    "df_iceland.plot(kind='bar', figsize=(10, 6))\n",
    "\n",
    "plt.xlabel('Año') # agregue una etiqueta X al diagrama\n",
    "plt.ylabel('Cantidad de inmigrantrs') # agregue una etiqueta Y al diagrama \n",
    "plt.title('Inmigrantes islandeses que recibió Canadá desde 1980 hasta 2013') # agregue un título al diagrama\n",
    "\n",
    "plt.show()"
   ]
  },
  {
   "cell_type": "markdown",
   "metadata": {
    "button": false,
    "deletable": true,
    "editable": true,
    "new_sheet": false,
    "run_control": {
     "read_only": false
    }
   },
   "source": [
    "El gráfico de barras anterior muestra la cantidad total de inmigrantes desglosada por año. Se puede ver de manera clara el impacto de la crisis financiera, ya que la cantidad de inmigrantes islandeses que recibió Canadá comenzó a crecer rápidamente después de 2008. \n",
    "\n",
    "Anotemos esto en el gráfico con el método `annotate` de la **capa de programación (scripting layer)** o la **interfaz de pyplot (pyplot interface)**. Pasaremos los siguientes parámetros: \n",
    "- `s`: str, el texto de la anotación. \n",
    "- `xy`: una tupla que identifica el punto (x,y) donde se debe anotar (en este caso, el extremo final de la flecha). \n",
    "- `xytext`: una tupla que identifica el punto (x,y) donde se debe colocar el texto (en este caso, el extremo inicial de la flecha). \n",
    "- `xycoords`: el sistema de coordenadas en el que se representa xy. El valor 'data' utiliza el sistema de coordenadas del objeto que se anota (predeterminado). \n",
    "- `arrowprops`: usa un diccionario de propiedades para dibujar la flecha: \n",
    "    - `arrowstyle`: especifica el estilo de la flecha; `->` es una flecha estándar. \n",
    "    - `connectionstyle`: especifica el tipo de conexión; `arc3` es una línea recta. \n",
    "    - `color`: especifica el color de la flecha. \n",
    "    - `lw`: especifica el ancho de la línea. \n",
    "\n",
    "Lea la documentación de Matplotlib para obtener más detalles acerca de las anotaciones:\n",
    "http://matplotlib.org/api/pyplot_api.html#matplotlib.pyplot.annotate."
   ]
  },
  {
   "cell_type": "code",
   "execution_count": null,
   "metadata": {
    "button": false,
    "collapsed": false,
    "deletable": true,
    "editable": true,
    "jupyter": {
     "outputs_hidden": false
    },
    "new_sheet": false,
    "run_control": {
     "read_only": false
    }
   },
   "outputs": [],
   "source": [
    "df_iceland.plot(kind='bar', figsize=(10, 6), rot=90) # rote las barras 90 grados\n",
    "\n",
    "plt.xlabel('Year')\n",
    "plt.ylabel('Number of Immigrants')\n",
    "plt.title('Icelandic Immigrants to Canada from 1980 to 2013')\n",
    "\n",
    "# Annotate arrow\n",
    "plt.annotate('',                      # s: str. la dejará vacía si no hay texto\n",
    "             xy=(32, 70),             # coloque la punta de la flecha en el punto (año 2012 , población 70)\n",
    "             xytext=(28, 20),         # coloque la base de la flecha en el punto (año 2008 , población 20)\n",
    "             xycoords='data',         # usará el sistema de coordenadas del objeto que se anota\n",
    "             arrowprops=dict(arrowstyle='->', connectionstyle='arc3', color='blue', lw=2)\n",
    "            )\n",
    "\n",
    "plt.show()"
   ]
  },
  {
   "cell_type": "markdown",
   "metadata": {
    "button": false,
    "deletable": true,
    "editable": true,
    "new_sheet": false,
    "run_control": {
     "read_only": false
    }
   },
   "source": [
    "Anotemos también un texto que se vea sobre la flecha. Pasaremos los siguientes parámetros adicionales: \n",
    "- `rotation`: ángulo de rotación del texto en grados (en sentido contrario a las agujas del reloj) \n",
    "- `va`: alineación vertical del texto ['centro (center)' | 'arriba (top)' | 'abajo (down)' | 'base (baseline)'] \n",
    "- `ha`: alineación horizontal del texto ['centro (center)' | 'derecha (right)' | 'izquierda (left)']"
   ]
  },
  {
   "cell_type": "code",
   "execution_count": null,
   "metadata": {
    "button": false,
    "collapsed": false,
    "deletable": true,
    "editable": true,
    "jupyter": {
     "outputs_hidden": false
    },
    "new_sheet": false,
    "run_control": {
     "read_only": false
    }
   },
   "outputs": [],
   "source": [
    "df_iceland.plot(kind='bar', figsize=(10, 6), rot=90) \n",
    "\n",
    "plt.xlabel('Año')\n",
    "plt.ylabel('Cantidad de inmigrantes')\n",
    "plt.title('Inmigrantes islandeses que recibió Canadá desde 1980 hasta 2013')\n",
    "\n",
    "# Annotate arrow\n",
    "plt.annotate('',                      # s: str. la dejará vacía si no hay texto\n",
    "             xy=(32, 70),             # coloque la punta de la flecha en el punto (año 2012 , población 70)\n",
    "             xytext=(28, 20),         # coloque la base de la flecha en el punto (año 2008 , población 20)\n",
    "             xycoords='data',         # usará el sistema de coordenadas del objeto que se anota\n",
    "             arrowprops=dict(arrowstyle='->', connectionstyle='arc3', color='blue', lw=2)\n",
    "            )\n",
    "\n",
    "# Annotate Text\n",
    "plt.annotate('Crisis financiera de 2008 a 2011', # texto que desea mostrar\n",
    "             xy=(28, 30),                    # comience el texto en el punto (año 2008, población 30)\n",
    "             rotation=72.5,                  # según prueba y error para hacer coincidir la flecha\n",
    "             va='bottom',                    # si desea que el texto esté alineado 'abajo' de manera vertical\n",
    "             ha='left',                      # si desea que el texto esté alineado a la 'izquierda' de manera horizontal\n",
    "            )\n",
    "\n",
    "plt.show()"
   ]
  },
  {
   "cell_type": "markdown",
   "metadata": {
    "button": false,
    "deletable": true,
    "editable": true,
    "new_sheet": false,
    "run_control": {
     "read_only": false
    }
   },
   "source": [
    "**Gráficos de barras horizontales **\n",
    "\n",
    "En ocasiones, es más práctico representar los datos de manera horizontal, especialmente si necesita más espacio para las etiquetas de las barras. En los gráficos de barras horizontales, el eje Y se usa para las etiquetas y la longitud de las barras del eje X corresponde a la magnitud de la variable que se mide. Como verá, hay más espacio en el eje Y para etiquetar las variables categóricas. \n",
    "\n",
    "**Pregunta:** Con la capa de programación y el conjunto de datos `df_can`, cree un gráfico de barras *horizontales* que muestre la cantidad *total* de inmigrantes que recibió Canadá de los 15 países principales durante los años 1980 y 2013. Etiquete cada país con la cantidad total de inmigrantes."
   ]
  },
  {
   "cell_type": "markdown",
   "metadata": {
    "button": false,
    "deletable": true,
    "editable": true,
    "new_sheet": false,
    "run_control": {
     "read_only": false
    }
   },
   "source": [
    "Paso 1: Obtenga los datos de los 15 países principales."
   ]
  },
  {
   "cell_type": "code",
   "execution_count": null,
   "metadata": {
    "button": false,
    "collapsed": true,
    "deletable": true,
    "jupyter": {
     "outputs_hidden": true
    },
    "new_sheet": false,
    "run_control": {
     "read_only": false
    }
   },
   "outputs": [],
   "source": [
    "### escriba su respuesta aquí\n",
    "\n",
    "\n",
    "\n"
   ]
  },
  {
   "cell_type": "markdown",
   "metadata": {
    "button": false,
    "deletable": true,
    "new_sheet": false,
    "run_control": {
     "read_only": false
    }
   },
   "source": [
    "Haga doble clic __aquí__ para ver la solución. \n",
    "<!-- La respuesta correcta es:\n",
    "\\\\ # ordenemos el marco de datos (DataFrame) en la columna 'Total' (descendente)\n",
    "df_can.sort_values(by='Total', ascending=True, inplace=True)\n",
    "-->\n",
    "\n",
    "<!--\n",
    "\\\\ # obténgamos los 15 mejores países\n",
    "df_top15 = df_can['Total'].tail(15)\n",
    "df_top15\n",
    "-->"
   ]
  },
  {
   "cell_type": "markdown",
   "metadata": {
    "button": false,
    "deletable": true,
    "editable": true,
    "new_sheet": false,
    "run_control": {
     "read_only": false
    }
   },
   "source": [
    "Paso 2: Diagrame los datos: \n",
    "1. Utilice `kind='barh'` para generar un gráfico de barras con barras horizontales. \n",
    "2. Asegúrese de elegir un tamaño adecuado para el gráfico, etiquete los ejes y colóquele un título al gráfico. \n",
    "3. Compare los países y anote la población de inmigrantes con la función de anotación (`anotate`) de la interfaz de programación."
   ]
  },
  {
   "cell_type": "code",
   "execution_count": null,
   "metadata": {
    "button": false,
    "collapsed": true,
    "deletable": true,
    "jupyter": {
     "outputs_hidden": true
    },
    "new_sheet": false,
    "run_control": {
     "read_only": false
    }
   },
   "outputs": [],
   "source": [
    "### escriba su respuesta aquí\n",
    "\n",
    "\n",
    "\n"
   ]
  },
  {
   "cell_type": "markdown",
   "metadata": {
    "button": false,
    "deletable": true,
    "new_sheet": false,
    "run_control": {
     "read_only": false
    }
   },
   "source": [
    "Double-click __here__ for the solution.\n",
    "<!-- La respuesta correcta es:\n",
    "\\\\ # genere la trama\n",
    "df_top15.plot(kind='barh', figsize=(12, 12), color='steelblue')\n",
    "plt.xlabel('Number of Immigrants')\n",
    "plt.title('Top 15 Conuntries Contributing to the Immigration to Canada between 1980 - 2013')\n",
    "-->\n",
    "\n",
    "<!--\n",
    "\\\\ # anote las etiquetas de valor a cada país\n",
    "for index, value in enumerate(df_top15): \n",
    "    label = format(int(value), ',') # format int with commas\n",
    "    \n",
    "    # coloque el texto al final de la barra (restando 47000 de x, y 0.1 de y para hacer que quepa dentro de la barra)\n",
    "    plt.annotate(label, xy=(value - 47000, index - 0.10), color='white')\n",
    "-->\n",
    "\n",
    "<!--\n",
    "plt.show()\n",
    "-->"
   ]
  },
  {
   "cell_type": "markdown",
   "metadata": {
    "button": false,
    "deletable": true,
    "editable": true,
    "new_sheet": false,
    "run_control": {
     "read_only": false
    }
   },
   "source": [
    "### ¡Gracias por completar esta actividad de laboratorio! \n",
    "\n",
    "Esta libreta fue creada originalmente por [Jay Rajasekharan](https://www.linkedin.com/in/jayrajasekharan) con aportes de [Ehsan M. Kermani](https://www.linkedin.com/in/ehsanmkermani) y [Slobodan Markovic](https://www.linkedin.com/in/slobodan-markovic).\n",
    "\n",
    "Recientemente, esta libreta fue modificada por [Alex Aklson](https://www.linkedin.com/in/aklson/). Espero que esta sesión de laboratorio le haya resultado interesante. Si tiene alguna pregunta, comuníquese conmigo. "
   ]
  },
  {
   "cell_type": "markdown",
   "metadata": {
    "button": false,
    "deletable": true,
    "editable": true,
    "new_sheet": false,
    "run_control": {
     "read_only": false
    }
   },
   "source": [
    "Esta libreta forma parte del curso gratuito de **Cognitive Class** denominado *Visualización de datos con Python*. Si accedió a esta libreya desde fuera del curso, puede llevar a cabo el curso en línea auto-instructivo haciendo clic [aquí](https://cocl.us/DV0101EN_Lab2)."
   ]
  },
  {
   "cell_type": "markdown",
   "metadata": {
    "button": false,
    "deletable": true,
    "editable": true,
    "new_sheet": false,
    "run_control": {
     "read_only": false
    }
   },
   "source": [
    "Derechos de autor &copy; 2018 [cognitiveclass.ai](cognitiveclass.ai?utm_source=bducopyrightlink&utm_medium=dswb&utm_campaign=bdu). Esta cuaderno y su código fuente se publican bajo los términos de la [Licencia de MIT](https://bigdatauniversity.com/mit-license/)."
   ]
  },
  {
   "cell_type": "code",
   "execution_count": null,
   "metadata": {},
   "outputs": [],
   "source": []
  }
 ],
 "metadata": {
  "kernelspec": {
   "display_name": "Python",
   "language": "python",
   "name": "conda-env-python-py"
  },
  "language_info": {
   "codemirror_mode": {
    "name": "ipython",
    "version": 3
   },
   "file_extension": ".py",
   "mimetype": "text/x-python",
   "name": "python",
   "nbconvert_exporter": "python",
   "pygments_lexer": "ipython3",
   "version": "3.6.10"
  },
  "widgets": {
   "state": {},
   "version": "1.1.2"
  }
 },
 "nbformat": 4,
 "nbformat_minor": 4
}
