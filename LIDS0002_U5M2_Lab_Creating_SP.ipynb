{
 "cells": [
  {
   "cell_type": "markdown",
   "metadata": {},
   "source": [
    "<a href=\"https://www.bigdatauniversity.com\"><img src = \"https://ibm.box.com/shared/static/ugcqz6ohbvff804xp84y4kqnvvk3bq1g.png\" width = 300, align = \"center\"></a>\n",
    "\n",
    "<h1 align=center><font size = 5>Laboratorio: Cómo crear tablas e insertar y consultar datos </font></h1>"
   ]
  },
  {
   "cell_type": "markdown",
   "metadata": {},
   "source": [
    "# Introducción\n",
    "\n",
    "Esta libreta enseña cómo acceder a su instancia de base de datos, crear tablas e insertar y consultar datos con Python. Para ello, debe seguir los pasos a continuación: \n",
    "1. Importe la biblioteca de Python `ibm_db`\n",
    "1. Identifique e ingrese las credenciales para conectarse a la base de datos\n",
    "1. Cree la conexión a la base de datos \n",
    "1. Cree una tabla\n",
    "1. Inserte datos en la tabla \n",
    "1. Consulte datos de la tabla\n",
    "1. Importe el conjunto de resultados a un DataFrame de Pandas\n",
    "1. Cierre la conexión a la base de datos\n",
    "\n",
    "\n",
    "__Nota:__ Siga las instrucciones del documento **Cómo crear su cuenta e instancia de base datos en IBM Cloud** para crear una instancia de servicio de base de datos en Db2 on Cloud.\n",
    "\n",
    "## Tarea 1: Importe la biblioteca de Python `ibm_db`\n",
    "\n",
    "La [API ](https://pypi.python.org/pypi/ibm_db/) `ibm_db`  proporciona diversas funciones útiles de Python para acceder a la información de una base de datos en un servidor de IBM® y manipularla; incluye funciones para conectarse a una base de datos, preparar y enviar instrucciones SQL, buscar filas de conjuntos de resultados, llamar procedimientos almacenados, confirmar y revertir transacciones, administrar errores y recuperar metadatos. \n",
    "\n",
    "Importe la biblioteca ibm_db a su aplicación de Python\n"
   ]
  },
  {
   "cell_type": "code",
   "execution_count": 1,
   "metadata": {},
   "outputs": [],
   "source": [
    "import ibm_db"
   ]
  },
  {
   "cell_type": "markdown",
   "metadata": {},
   "source": [
    "Una vez que se complete este comando, se cargará la biblioteca `ibm_db` en su libreta. \n",
    "\n",
    "\n",
    "## Tarea 2: Identifique las credenciales para conectarse a la base de datos\n",
    "\n",
    "Para conectarse a una base de datos dashDB o DB2, se necesita la siguiente información: \n",
    "* Nombre del controlador\n",
    "* Nombre de la base de datos\n",
    "* Nombre del DNS o la dirección IP del host\n",
    "* Puerto del host \n",
    "* Protocolo de conexión \n",
    "* ID del usuario\n",
    "* Contraseña del usuario\n",
    "\n",
    "\n",
    "\n",
    "__Nota:__ Para obtener las credenciales, consulte las instrucciones del primer laboratorio de este curso.\n",
    "\n",
    "Debe ingresar las credenciales de la base de datos a continuación. \n",
    "\n",
    "Reemplace los siguientes valores de marcador de posición por sus credenciales reales de base de datos. \n",
    "\n",
    "Por ejemplo, reemplace \"Base de datos\" por \"BLUDB\"\n",
    "\n"
   ]
  },
  {
   "cell_type": "code",
   "execution_count": 2,
   "metadata": {},
   "outputs": [],
   "source": [
    "#Reemplace los valores de marcador de posición por sus credenciales reales del servicio de Db2\n",
    "dsn_driver = \"{IBM DB2 ODBC DRIVER}\"\n",
    "dsn_database = \"BLUDB\"            # e.g. \"BLUDB\"\n",
    "dsn_hostname = \"dashdb-txn-sbox-yp-dal09-10.services.dal.bluemix.net\"           # e.g.: \"dashdb-txn-sbox-yp-dal09-04.services.dal.bluemix.net\"\n",
    "dsn_port = \"50000\"                    # e.g. \"50000\" \n",
    "dsn_protocol = \"TCPIP\"            # i.e. \"TCPIP\"\n",
    "dsn_uid = \"qsl97800\"             # e.g. \"abc12345\"\n",
    "dsn_pwd = \"954gxzq-mk1xbk9z\"                 # e.g. \"7dBZ3wWt9XN6$o0J\""
   ]
  },
  {
   "cell_type": "markdown",
   "metadata": {},
   "source": [
    "## Tarea 3: Cree la conexión a la base de datos\n",
    "\n",
    "La API de Ibm_db usa el controlador del servidor de datos de IBM para las API de ODBC y CLI a fin de conectarse a Informix y Db2 de IBM. \n",
    "\n",
    "Cree la conexión a la base de datos \n"
   ]
  },
  {
   "cell_type": "code",
   "execution_count": 3,
   "metadata": {
    "collapsed": false,
    "jupyter": {
     "outputs_hidden": false
    }
   },
   "outputs": [
    {
     "name": "stdout",
     "output_type": "stream",
     "text": [
      "Conectado a la base de datos:  BLUDB como el usuario  qsl97800 en el host:  dashdb-txn-sbox-yp-dal09-10.services.dal.bluemix.net\n"
     ]
    }
   ],
   "source": [
    "#Cree una conexión a la base de datos\n",
    "#NO MODIFIQUE ESTA CELDA. Solo debe EJECUTARLA presionando Shift + Intro\n",
    "dsn = (\n",
    "    \"DRIVER={0};\"\n",
    "    \"DATABASE={1};\"\n",
    "    \"HOSTNAME={2};\"\n",
    "    \"PORT={3};\"\n",
    "    \"PROTOCOL={4};\"\n",
    "    \"UID={5};\"\n",
    "    \"PWD={6};\").format(dsn_driver, \n",
    "                       dsn_database, \n",
    "                       dsn_hostname, \n",
    "                       dsn_port, \n",
    "                       dsn_protocol, \n",
    "                       dsn_uid, \n",
    "                       dsn_pwd)\n",
    "\n",
    "try:\n",
    "    conn = ibm_db.connect(dsn, \"\", \"\")\n",
    "    print (\"Conectado a la base de datos: \", dsn_database, \"como el usuario \", dsn_uid, \"en el host: \", dsn_hostname)\n",
    "\n",
    "except:\n",
    "    print (\"No se pudo conectar a la base de datos: \", ibm_db.conn_errormsg() )\n"
   ]
  },
  {
   "cell_type": "markdown",
   "metadata": {},
   "source": [
    "## Tarea 4: Cree una tabla en la base de datos\n",
    "\n",
    "En este paso, creará una tabla en la base de datos con los detalles siguientes:\n",
    "\n",
    "<img src = \"https://ibm.box.com/shared/static/ztd2cn4xkdoj5erlk4hhng39kbp63s1h.jpg\" align=\"center\">\n"
   ]
  },
  {
   "cell_type": "code",
   "execution_count": 4,
   "metadata": {
    "collapsed": false,
    "jupyter": {
     "outputs_hidden": false
    }
   },
   "outputs": [],
   "source": [
    "#Primero elimine la tabla INSTRUCTOR (DOCENTE) por si ya se creó en un intento anterior\n",
    "dropQuery = \"drop table INSTRUCTOR\"\n",
    "\n",
    "#Ahora ejecute la instrucción Eliminar\n",
    "dropStmt = ibm_db.exec_immediate(conn, dropQuery)"
   ]
  },
  {
   "cell_type": "markdown",
   "metadata": {},
   "source": [
    "## No se preocupe si se muestra el error siguiente:\n",
    "Si se muestra una excepción o un error similar al siguiente, la tabla DOCENTE (INSTRUCTOR) no tiene un nombre definido, lo que es correcto. Esto implica que la tabla DOCENTE (INSTRUCTOR) no existe en la tabla; esto es lo que sucederá si no la creó anteriormente. \n",
    "\n",
    "Excepción: [IBM][CLI Driver][DB2/LINUXX8664] SQL0204N  \"ABC12345.INSTRUCTOR\" no es un nombre definido.  SQLSTATE=42704 SQLCODE=-204"
   ]
  },
  {
   "cell_type": "code",
   "execution_count": 5,
   "metadata": {
    "collapsed": false,
    "jupyter": {
     "outputs_hidden": false
    }
   },
   "outputs": [],
   "source": [
    "#Construct the Create Table DDL statement - replace the ... with rest of the statement\n",
    "createQuery = \"create table INSTRUCTOR(ID INTEGER PRIMARY KEY NOT NULL, FNAME VARCHAR(20), LNAME VARCHAR(20), CITY VARCHAR(20), CCODE CHAR(2))\"\n",
    "\n",
    "#Now fill in the name of the method and execute the statement\n",
    "createStmt = ibm_db.exec_immediate(conn,createQuery)"
   ]
  },
  {
   "cell_type": "markdown",
   "metadata": {},
   "source": [
    "Haga doble clic __aquí__ para ver la solución.\n",
    "\n",
    "<!-- Hint:\n",
    "\n",
    "createQuery = \"create table INSTRUCTOR(ID INTEGER PRIMARY KEY NOT NULL, FNAME VARCHAR(20), LNAME VARCHAR(20), CITY VARCHAR(20), CCODE CHAR(2))\"\n",
    "\n",
    "createStmt = ibm_db.exec_immediate(conn,createQuery)\n",
    "\n",
    "\n",
    "-->"
   ]
  },
  {
   "cell_type": "markdown",
   "metadata": {},
   "source": [
    "##  Tarea 5: Inserte datos en la tabla \n",
    "\n",
    "En este paso, insertaremos algunas filas de datos en la tabla. \n",
    "\n",
    "La tabla DOCENTE (INSTRUCTOR) que creamos en el paso anterior contiene 3 filas de datos: \n",
    "\n",
    "<img src=\"https://ibm.box.com/shared/static/j5yjassxefrjknivfpekj7698dqe4d8i.jpg\" align=\"center\">\n",
    "\n",
    "Comenzaremos por insertar únicamente la primera fila de datos, es decir, la fila que corresponde al docente Rav Ahuja. \n"
   ]
  },
  {
   "cell_type": "code",
   "execution_count": 6,
   "metadata": {
    "collapsed": false,
    "jupyter": {
     "outputs_hidden": false
    }
   },
   "outputs": [],
   "source": [
    "#Cree la instrucción y reemplace … por la instrucción Insertar\n",
    "insertQuery = \"INSERT into INSTRUCTOR values (1, 'Rav', 'Ahuja', 'TORONTO', 'CA')\"\n",
    "\n",
    "#Ejecute la instrucción Insertar \n",
    "insertStmt = ibm_db.exec_immediate(conn, insertQuery)"
   ]
  },
  {
   "cell_type": "markdown",
   "metadata": {},
   "source": [
    "Haga doble clic __aquí__ para ver la solución.\n",
    "\n",
    "<!-- Hint:\n",
    "\n",
    "insertQuery = \"insert into INSTRUCTOR values (1, 'Rav', 'Ahuja', 'TORONTO', 'CA')\"\n",
    "\n",
    "insertStmt = ibm_db.exec_immediate(conn, insertQuery)\n",
    "\n",
    "\n",
    "-->"
   ]
  },
  {
   "cell_type": "markdown",
   "metadata": {},
   "source": [
    "Ahora use una sola consulta para insertar las dos filas de datos restantes. "
   ]
  },
  {
   "cell_type": "code",
   "execution_count": 7,
   "metadata": {
    "collapsed": false,
    "jupyter": {
     "outputs_hidden": false
    }
   },
   "outputs": [],
   "source": [
    "#Reemplace … por la instrucción Insertar, que insertará las dos filas de datos restantes\n",
    "insertQuery2 = \"INSERT into INSTRUCTOR values (2, 'Raul', 'Chong', 'Markham', 'CA'), (3, 'Hima', 'Vasudevan', 'Chicago', 'US')\"\n",
    "\n",
    "#Ejecute la instrucción\n",
    "insertStmt2 = ibm_db.exec_immediate(conn, insertQuery2)"
   ]
  },
  {
   "cell_type": "markdown",
   "metadata": {},
   "source": [
    "Haga doble clic __aquí__ para ver la solución.\n",
    "\n",
    "<!-- Hint:\n",
    "\n",
    "insertQuery2 = \"inserte en los valores de INSTRUCTOR (2, 'Raul', 'Chong', 'Markham', 'CA'), (3, 'Hima', 'Vasudevan', 'Chicago', 'US')\"\n",
    "\n",
    "insertStmt2 = ibm_db.exec_immediate(conn, insertQuery2)\n",
    "\n",
    "\n",
    "-->"
   ]
  },
  {
   "cell_type": "markdown",
   "metadata": {},
   "source": [
    "##  Tarea 6: Consulte datos de la tabla \n",
    "\n",
    "En este paso, recuperaremos datos que insertamos en la tabla INSTRUCTOR (DOCENTE). "
   ]
  },
  {
   "cell_type": "code",
   "execution_count": 9,
   "metadata": {
    "collapsed": false,
    "jupyter": {
     "outputs_hidden": false
    }
   },
   "outputs": [
    {
     "data": {
      "text/plain": [
       "{'ID': 1,\n",
       " 0: 1,\n",
       " 'FNAME': 'Rav',\n",
       " 1: 'Rav',\n",
       " 'LNAME': 'Ahuja',\n",
       " 2: 'Ahuja',\n",
       " 'CITY': 'TORONTO',\n",
       " 3: 'TORONTO',\n",
       " 'CCODE': 'CA',\n",
       " 4: 'CA'}"
      ]
     },
     "execution_count": 9,
     "metadata": {},
     "output_type": "execute_result"
    }
   ],
   "source": [
    "#Cree la instrucción para recuperar todas las filas de la tabla INSTRUCTOR \n",
    "selectQuery = \"select * from INSTRUCTOR\"\n",
    "\n",
    "#Ejecute la instrucción\n",
    "selectStmt = ibm_db.exec_immediate(conn, selectQuery)\n",
    "\n",
    "#Busque el Diccionario (solo para la primera fila) y reemplace … por su código\n",
    "ibm_db.fetch_both(selectStmt)"
   ]
  },
  {
   "cell_type": "markdown",
   "metadata": {},
   "source": [
    "Haga doble clic __aquí__ para ver la solución.\n",
    "\n",
    "<!-- Hint:\n",
    "\n",
    "#Cree la instrucción para recuperar todas las filas de la tabla INSTRUCTOR \n",
    "selectQuery = \"select * from INSTRUCTOR\"\n",
    "\n",
    "#Ejecute la instrucción\n",
    "selectStmt = ibm_db.exec_immediate(conn, selectQuery)\n",
    "\n",
    "#Busque el Diccionario (solo para la primera fila)\n",
    "ibm_db.fetch_both(selectStmt)\n",
    "\n",
    "-->"
   ]
  },
  {
   "cell_type": "code",
   "execution_count": 10,
   "metadata": {
    "collapsed": false,
    "jupyter": {
     "outputs_hidden": false
    }
   },
   "outputs": [
    {
     "name": "stdout",
     "output_type": "stream",
     "text": [
      " ID: 2  FNAME: Raul\n",
      " ID: 3  FNAME: Hima\n"
     ]
    }
   ],
   "source": [
    "#Busque el resto de las filas e imprima el ID y FNAME de estas filas\n",
    "while ibm_db.fetch_row(selectStmt) != False:\n",
    "    print(\" ID:\",  ibm_db.result(selectStmt, 0), \" FNAME:\",  ibm_db.result(selectStmt, \"FNAME\"))"
   ]
  },
  {
   "cell_type": "markdown",
   "metadata": {},
   "source": [
    "Haga doble clic __aquí__ para ver la solución.\n",
    "\n",
    "<!-- Hint:\n",
    "\n",
    "#Busque el resto de las filas e imprima el ID y FNAME de estas filas\n",
    "while ibm_db.fetch_row(selectStmt) != False:\n",
    "    print (\" ID:\",  ibm_db.result(selectStmt, 0), \" FNAME:\",  ibm_db.result(selectStmt, \"FNAME\"))\n",
    "\n",
    "-->"
   ]
  },
  {
   "cell_type": "markdown",
   "metadata": {},
   "source": [
    "Extra: Ahora escriba y ejecute una instrucción de actualización que cambie la CIUDAD de Rav a MOOSETOWN. "
   ]
  },
  {
   "cell_type": "code",
   "execution_count": 12,
   "metadata": {
    "collapsed": false,
    "jupyter": {
     "outputs_hidden": false
    }
   },
   "outputs": [
    {
     "data": {
      "text/plain": [
       "<ibm_db.IBM_DBStatement at 0x7f6f3963d8f0>"
      ]
     },
     "execution_count": 12,
     "metadata": {},
     "output_type": "execute_result"
    }
   ],
   "source": [
    "#Ingrese su código a continuación\n",
    "ibm_db.exec_immediate(conn,\n",
    "                     \"UPDATE INSTRUCTOR set CITY='MOOSETOWN' WHERE FNAME='Rav'\")"
   ]
  },
  {
   "cell_type": "markdown",
   "metadata": {},
   "source": [
    "Haga doble clic __aquí__ para ver la solución.\n",
    "\n",
    "<!-- Hint:\n",
    "\n",
    "updateQuery = \"update INSTRUCTOR set CITY='MOOSETOWN' where FNAME='Rav'\"\n",
    "updateStmt = ibm_db.exec_immediate(conn, updateQuery))\n",
    "\n",
    "-->"
   ]
  },
  {
   "cell_type": "markdown",
   "metadata": {},
   "source": [
    "## Tarea 7: Importe datos a Pandas\n",
    "\n",
    "En este paso, importaremos el contenido de la tabla DOCENTE a un DataFrame de Pandas. "
   ]
  },
  {
   "cell_type": "code",
   "execution_count": 14,
   "metadata": {},
   "outputs": [],
   "source": [
    "import pandas\n",
    "import ibm_db_dbi"
   ]
  },
  {
   "cell_type": "code",
   "execution_count": 15,
   "metadata": {},
   "outputs": [],
   "source": [
    "#Conexión a Pandas\n",
    "pconn = ibm_db_dbi.Connection(conn)"
   ]
  },
  {
   "cell_type": "code",
   "execution_count": 16,
   "metadata": {
    "collapsed": false,
    "jupyter": {
     "outputs_hidden": false
    }
   },
   "outputs": [
    {
     "data": {
      "text/plain": [
       "'Ahuja'"
      ]
     },
     "execution_count": 16,
     "metadata": {},
     "output_type": "execute_result"
    }
   ],
   "source": [
    "#Instrucción de consulta para recuperar todas las filas de la tabla INSTRUCTOR (DOCENTE)\n",
    "selectQuery = \"select * from INSTRUCTOR\"\n",
    "\n",
    "#Importe los resultados de la consulta a un DataFrame de Pandas\n",
    "pdf = pandas.read_sql(selectQuery, pconn)\n",
    "\n",
    "#Utilice la instrucción Print únicamente para LNAME en la primera fila del DataFrame de Pandas\n",
    "pdf.LNAME[0]"
   ]
  },
  {
   "cell_type": "code",
   "execution_count": 17,
   "metadata": {
    "collapsed": false,
    "jupyter": {
     "outputs_hidden": false
    }
   },
   "outputs": [
    {
     "data": {
      "text/html": [
       "<div>\n",
       "<style scoped>\n",
       "    .dataframe tbody tr th:only-of-type {\n",
       "        vertical-align: middle;\n",
       "    }\n",
       "\n",
       "    .dataframe tbody tr th {\n",
       "        vertical-align: top;\n",
       "    }\n",
       "\n",
       "    .dataframe thead th {\n",
       "        text-align: right;\n",
       "    }\n",
       "</style>\n",
       "<table border=\"1\" class=\"dataframe\">\n",
       "  <thead>\n",
       "    <tr style=\"text-align: right;\">\n",
       "      <th></th>\n",
       "      <th>ID</th>\n",
       "      <th>FNAME</th>\n",
       "      <th>LNAME</th>\n",
       "      <th>CITY</th>\n",
       "      <th>CCODE</th>\n",
       "    </tr>\n",
       "  </thead>\n",
       "  <tbody>\n",
       "    <tr>\n",
       "      <th>0</th>\n",
       "      <td>1</td>\n",
       "      <td>Rav</td>\n",
       "      <td>Ahuja</td>\n",
       "      <td>MOOSETOWN</td>\n",
       "      <td>CA</td>\n",
       "    </tr>\n",
       "    <tr>\n",
       "      <th>1</th>\n",
       "      <td>2</td>\n",
       "      <td>Raul</td>\n",
       "      <td>Chong</td>\n",
       "      <td>Markham</td>\n",
       "      <td>CA</td>\n",
       "    </tr>\n",
       "    <tr>\n",
       "      <th>2</th>\n",
       "      <td>3</td>\n",
       "      <td>Hima</td>\n",
       "      <td>Vasudevan</td>\n",
       "      <td>Chicago</td>\n",
       "      <td>US</td>\n",
       "    </tr>\n",
       "  </tbody>\n",
       "</table>\n",
       "</div>"
      ],
      "text/plain": [
       "   ID FNAME      LNAME       CITY CCODE\n",
       "0   1   Rav      Ahuja  MOOSETOWN    CA\n",
       "1   2  Raul      Chong    Markham    CA\n",
       "2   3  Hima  Vasudevan    Chicago    US"
      ]
     },
     "execution_count": 17,
     "metadata": {},
     "output_type": "execute_result"
    }
   ],
   "source": [
    "#Utilice la instrucción Print para todo el DataFrame\n",
    "pdf"
   ]
  },
  {
   "cell_type": "markdown",
   "metadata": {},
   "source": [
    "Una vez que haya importado los datos a un DataFrame de Pandas, puede realizar las operaciones típicas de esta herramienta. \n",
    "\n",
    "Por ejemplo, puede usar el método de formato para ver cuántas filas y columnas tiene el DataFrame. "
   ]
  },
  {
   "cell_type": "code",
   "execution_count": 18,
   "metadata": {
    "collapsed": false,
    "jupyter": {
     "outputs_hidden": false
    }
   },
   "outputs": [
    {
     "data": {
      "text/plain": [
       "(3, 5)"
      ]
     },
     "execution_count": 18,
     "metadata": {},
     "output_type": "execute_result"
    }
   ],
   "source": [
    "pdf.shape"
   ]
  },
  {
   "cell_type": "markdown",
   "metadata": {},
   "source": [
    "## Tarea 8: Cierre la conexión\n",
    "Si cerramos la conexión, liberaremos todos los recursos. Recuerde que es importante cerrar siempre las conexiones; de esta manera se evita que las conexiones que no se utilizan consuman recursos."
   ]
  },
  {
   "cell_type": "code",
   "execution_count": 19,
   "metadata": {
    "collapsed": false,
    "jupyter": {
     "outputs_hidden": false
    }
   },
   "outputs": [
    {
     "data": {
      "text/plain": [
       "True"
      ]
     },
     "execution_count": 19,
     "metadata": {},
     "output_type": "execute_result"
    }
   ],
   "source": [
    "ibm_db.close(conn)"
   ]
  },
  {
   "cell_type": "markdown",
   "metadata": {},
   "source": [
    "## Resumen \n",
    "\n",
    "En este tutorial, establecimos una conexión con una instancia de base de datos de Db2 Warehouse on Cloud desde una libreta de Python con la API de ibm_db. También creamos una tabla e insertamos algunas filas de datos en ella; luego, consultamos los datos. Por último, importamos estos datos a un DataFrame de Pandas. "
   ]
  },
  {
   "cell_type": "markdown",
   "metadata": {},
   "source": [
    "Derechos de autor &copy; 2018 [cognitiveclass.ai](cognitiveclass.ai?utm_source=bducopyrightlink&utm_medium=dswb&utm_campaign=bdu). Esta cuaderno y su código fuente se publican bajo los términos de la [Licencia de MIT](https://bigdatauniversity.com/mit-license/)."
   ]
  }
 ],
 "metadata": {
  "kernelspec": {
   "display_name": "Python",
   "language": "python",
   "name": "conda-env-python-py"
  },
  "language_info": {
   "codemirror_mode": {
    "name": "ipython",
    "version": 3
   },
   "file_extension": ".py",
   "mimetype": "text/x-python",
   "name": "python",
   "nbconvert_exporter": "python",
   "pygments_lexer": "ipython3",
   "version": "3.6.10"
  },
  "widgets": {
   "state": {},
   "version": "1.1.2"
  }
 },
 "nbformat": 4,
 "nbformat_minor": 4
}
